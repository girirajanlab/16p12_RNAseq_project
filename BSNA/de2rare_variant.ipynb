{
 "cells": [
  {
   "cell_type": "code",
   "execution_count": 1,
   "metadata": {},
   "outputs": [],
   "source": [
    "import pandas as pd\n",
    "import numpy as np"
   ]
  },
  {
   "cell_type": "code",
   "execution_count": null,
   "metadata": {},
   "outputs": [],
   "source": [
    "outs = pd.read_csv('Supp_table_all_variants.SVs_included.csv')\n",
    "outs = outs.set_index('gene', drop=False)\n",
    "\n",
    "rel = pd.read_csv('../data/family_summaries.tsv', sep='\\t')\n",
    "rel = rel.set_index('subject', drop=False)\n",
    "rel = rel.drop('SG011')\n",
    "\n",
    "pheno = pd.read_csv('../data/pheno_final.tsv', sep='\\t')\n",
    "pheno = pheno.drop_duplicates('subject')\n",
    "pheno = pheno.set_index('subject', drop=False)\n",
    "\n",
    "mapp = pd.read_csv('../data/gene_names_mapping_new.tsv', sep='\\t')\n",
    "mapp = mapp.set_index('ensembl', drop=False)"
   ]
  },
  {
   "cell_type": "markdown",
   "metadata": {},
   "source": [
    "# format network df"
   ]
  },
  {
   "cell_type": "code",
   "execution_count": null,
   "metadata": {},
   "outputs": [],
   "source": [
    "net = pd.read_csv('all_gene_network_simple.tsv', sep='\\t')\n",
    "\n",
    "net.columns = ['startg', 'endg', 'distance',\n",
    "       'num_connector_genes']\n",
    "\n",
    "net = net.set_index(['startg', 'endg'], drop=False)\n",
    "\n",
    "net = net.rename_axis((None, None))"
   ]
  },
  {
   "cell_type": "markdown",
   "metadata": {},
   "source": [
    "## create df to hold output statistics"
   ]
  },
  {
   "cell_type": "code",
   "execution_count": null,
   "metadata": {},
   "outputs": [],
   "source": [
    "df = pd.DataFrame(index=pheno.subject)\n",
    "df['avg_shortest_distance'] = 0.0"
   ]
  },
  {
   "cell_type": "markdown",
   "metadata": {},
   "source": [
    "# outlier genes to wg variants"
   ]
  },
  {
   "cell_type": "code",
   "execution_count": null,
   "metadata": {},
   "outputs": [],
   "source": [
    "snv = pd.read_csv('../network_analysis/16p_all_snvs.csv', sep=',')\n",
    "\n",
    "def str2float(s, default = 0):\n",
    "    if s == '.':\n",
    "        return default\n",
    "    else:\n",
    "        return float(s)\n",
    "\n",
    "    \n",
    "snv.CADD = snv.CADD.apply(lambda s: str2float(s))\n",
    "\n",
    "lof = snv.Mut_type == 'lof'\n",
    "cadd_10 = snv.CADD > 10\n",
    "splice = snv.Mut_type == 'splice'\n",
    "\n",
    "snv = snv[lof | cadd_10 | splice].copy()"
   ]
  },
  {
   "cell_type": "code",
   "execution_count": 6,
   "metadata": {},
   "outputs": [],
   "source": [
    "cnv = pd.read_csv('../../cnv_parse/output/merged/16p_all_rare_cnvs.tsv', sep='\\t')\n",
    "cnv = cnv[cnv.gene_covered == 'encapsulated']"
   ]
  },
  {
   "cell_type": "code",
   "execution_count": 22,
   "metadata": {},
   "outputs": [],
   "source": [
    "de = pd.DataFrame()\n",
    "\n",
    "\n",
    "for sub in rel.subject:\n",
    "    for ltype in ['de_novo', 'inherited_from_carrier', 'inherited_from_non_carrier']:\n",
    "        filename = '../family_based_analysis3/output/three_lists/{}.{}.tsv'.format(sub, ltype)\n",
    "#         print(filename)\n",
    "        app = pd.read_csv(filename, sep='\\t')\n",
    "        app = app[['ensembl']]\n",
    "        app['subject'] = sub\n",
    "        app['ltype'] = ltype\n",
    "        de = de.append(app)\n",
    "\n",
    "de['gene'] = mapp.loc[de.ensembl.to_list()]['Description'].to_list()"
   ]
  },
  {
   "cell_type": "code",
   "execution_count": null,
   "metadata": {},
   "outputs": [],
   "source": []
  },
  {
   "cell_type": "code",
   "execution_count": null,
   "metadata": {},
   "outputs": [],
   "source": []
  },
  {
   "cell_type": "code",
   "execution_count": 21,
   "metadata": {},
   "outputs": [
    {
     "name": "stdout",
     "output_type": "stream",
     "text": [
      "SG001\n",
      "SG006\n",
      "SG021\n",
      "SG022\n",
      "SG023\n",
      "SG155\n",
      "SG069\n",
      "SG026\n",
      "SG041\n",
      "SG037\n",
      "SG044\n",
      "SG040\n",
      "SG038\n",
      "SG042\n",
      "SG150\n",
      "SG149\n",
      "SG148\n"
     ]
    }
   ],
   "source": [
    "for sub in rel.subject:\n",
    "    print(sub)\n",
    "    de_genes = de[(de.subject == sub)].gene.to_list()\n",
    "    \n",
    "    snv_genes = snv[snv['Sample'] == sub]\n",
    "    snv_genes = list(snv_genes['Gene.refGene'].unique())\n",
    "    cnv_genes = cnv[cnv.subject == sub].gene.to_list()\n",
    "    variant_genes = list(set(snv_genes + cnv_genes))\n",
    "\n",
    "\n",
    "\n",
    "    subnet = net[net.endg.isin(variant_genes)]\n",
    "\n",
    "    subnet = subnet[subnet.startg.isin(de_genes)]\n",
    "\n",
    "    subnet = subnet[subnet.startg != subnet.endg]\n",
    "\n",
    "    df.at[sub, 'avg_shortest_distance'] = subnet.num_connector_genes.mean()"
   ]
  },
  {
   "cell_type": "code",
   "execution_count": null,
   "metadata": {},
   "outputs": [],
   "source": []
  },
  {
   "cell_type": "code",
   "execution_count": null,
   "metadata": {},
   "outputs": [],
   "source": []
  },
  {
   "cell_type": "code",
   "execution_count": 23,
   "metadata": {},
   "outputs": [],
   "source": [
    "df = df[df.avg_shortest_distance != 0]"
   ]
  },
  {
   "cell_type": "code",
   "execution_count": 25,
   "metadata": {},
   "outputs": [],
   "source": [
    "df.to_csv('avg_dist_famde.tsv', sep='\\t')"
   ]
  },
  {
   "cell_type": "code",
   "execution_count": 24,
   "metadata": {},
   "outputs": [
    {
     "data": {
      "text/html": [
       "<div>\n",
       "<style scoped>\n",
       "    .dataframe tbody tr th:only-of-type {\n",
       "        vertical-align: middle;\n",
       "    }\n",
       "\n",
       "    .dataframe tbody tr th {\n",
       "        vertical-align: top;\n",
       "    }\n",
       "\n",
       "    .dataframe thead th {\n",
       "        text-align: right;\n",
       "    }\n",
       "</style>\n",
       "<table border=\"1\" class=\"dataframe\">\n",
       "  <thead>\n",
       "    <tr style=\"text-align: right;\">\n",
       "      <th></th>\n",
       "      <th>avg_shortest_distance</th>\n",
       "    </tr>\n",
       "    <tr>\n",
       "      <th>subject</th>\n",
       "      <th></th>\n",
       "    </tr>\n",
       "  </thead>\n",
       "  <tbody>\n",
       "    <tr>\n",
       "      <th>SG001</th>\n",
       "      <td>3.412339</td>\n",
       "    </tr>\n",
       "    <tr>\n",
       "      <th>SG006</th>\n",
       "      <td>3.471127</td>\n",
       "    </tr>\n",
       "    <tr>\n",
       "      <th>SG021</th>\n",
       "      <td>3.387186</td>\n",
       "    </tr>\n",
       "    <tr>\n",
       "      <th>SG022</th>\n",
       "      <td>3.384053</td>\n",
       "    </tr>\n",
       "    <tr>\n",
       "      <th>SG023</th>\n",
       "      <td>3.370561</td>\n",
       "    </tr>\n",
       "    <tr>\n",
       "      <th>SG026</th>\n",
       "      <td>3.429454</td>\n",
       "    </tr>\n",
       "    <tr>\n",
       "      <th>SG069</th>\n",
       "      <td>3.367798</td>\n",
       "    </tr>\n",
       "    <tr>\n",
       "      <th>SG155</th>\n",
       "      <td>3.355617</td>\n",
       "    </tr>\n",
       "    <tr>\n",
       "      <th>SG037</th>\n",
       "      <td>3.428624</td>\n",
       "    </tr>\n",
       "    <tr>\n",
       "      <th>SG038</th>\n",
       "      <td>3.421582</td>\n",
       "    </tr>\n",
       "    <tr>\n",
       "      <th>SG040</th>\n",
       "      <td>3.491766</td>\n",
       "    </tr>\n",
       "    <tr>\n",
       "      <th>SG041</th>\n",
       "      <td>3.390832</td>\n",
       "    </tr>\n",
       "    <tr>\n",
       "      <th>SG042</th>\n",
       "      <td>3.323989</td>\n",
       "    </tr>\n",
       "    <tr>\n",
       "      <th>SG044</th>\n",
       "      <td>3.444530</td>\n",
       "    </tr>\n",
       "    <tr>\n",
       "      <th>SG148</th>\n",
       "      <td>3.478072</td>\n",
       "    </tr>\n",
       "    <tr>\n",
       "      <th>SG149</th>\n",
       "      <td>3.517403</td>\n",
       "    </tr>\n",
       "    <tr>\n",
       "      <th>SG150</th>\n",
       "      <td>3.526335</td>\n",
       "    </tr>\n",
       "  </tbody>\n",
       "</table>\n",
       "</div>"
      ],
      "text/plain": [
       "         avg_shortest_distance\n",
       "subject                       \n",
       "SG001                 3.412339\n",
       "SG006                 3.471127\n",
       "SG021                 3.387186\n",
       "SG022                 3.384053\n",
       "SG023                 3.370561\n",
       "SG026                 3.429454\n",
       "SG069                 3.367798\n",
       "SG155                 3.355617\n",
       "SG037                 3.428624\n",
       "SG038                 3.421582\n",
       "SG040                 3.491766\n",
       "SG041                 3.390832\n",
       "SG042                 3.323989\n",
       "SG044                 3.444530\n",
       "SG148                 3.478072\n",
       "SG149                 3.517403\n",
       "SG150                 3.526335"
      ]
     },
     "execution_count": 24,
     "metadata": {},
     "output_type": "execute_result"
    }
   ],
   "source": [
    "df"
   ]
  },
  {
   "cell_type": "code",
   "execution_count": null,
   "metadata": {},
   "outputs": [],
   "source": []
  }
 ],
 "metadata": {
  "kernelspec": {
   "display_name": "Python 3",
   "language": "python",
   "name": "python3"
  },
  "language_info": {
   "codemirror_mode": {
    "name": "ipython",
    "version": 3
   },
   "file_extension": ".py",
   "mimetype": "text/x-python",
   "name": "python",
   "nbconvert_exporter": "python",
   "pygments_lexer": "ipython3",
   "version": "3.7.3"
  }
 },
 "nbformat": 4,
 "nbformat_minor": 4
}
