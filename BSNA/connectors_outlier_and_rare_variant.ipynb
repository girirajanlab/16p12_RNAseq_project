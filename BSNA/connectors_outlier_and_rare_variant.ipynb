{
 "cells": [
  {
   "cell_type": "code",
   "execution_count": 1,
   "metadata": {},
   "outputs": [],
   "source": [
    "import pandas as pd\n",
    "import numpy as np\n",
    "\n",
    "pd.set_option('display.max_rows', 100)\n",
    "pd.set_option('display.max_columns', 100)"
   ]
  },
  {
   "cell_type": "code",
   "execution_count": 3,
   "metadata": {},
   "outputs": [],
   "source": [
    "mapp = pd.read_csv('../data/gene_names_mapping_new.tsv', sep='\\t')\n",
    "mapp = mapp.set_index('ensembl', drop=False)\n",
    "\n",
    "pmapp = mapp[mapp.biotype == 'protein_coding'].copy()\n",
    "\n",
    "pheno = pd.read_csv('../data/pheno_final.tsv', sep='\\t')\n",
    "pheno = pheno.drop_duplicates('subject')\n",
    "pheno = pheno.set_index('subject', drop=False)"
   ]
  },
  {
   "cell_type": "code",
   "execution_count": 4,
   "metadata": {},
   "outputs": [],
   "source": [
    "import os\n",
    "network_files = os.listdir('output')\n",
    "\n",
    "def network_genes(genes):\n",
    "    all_connectors = []\n",
    "    i = 0\n",
    "    for gene1 in genes:\n",
    "#         if i % 100 == 0:\n",
    "#             print('{}/{}'.format(i, len(genes)))\n",
    "\n",
    "        i = i + 1\n",
    "        \n",
    "        if '{}_nearest_neighbor_weighted.txt'.format(gene1) not in network_files:\n",
    "            continue\n",
    "        net = pd.read_csv('output/{}_nearest_neighbor_weighted.txt'.format(gene1), sep='\\t')\n",
    "        net = net.set_index('End gene', drop=False)\n",
    "        end_genes = net['End gene'].to_list()\n",
    "\n",
    "        for gene2 in genes:\n",
    "            if gene2 not in end_genes:\n",
    "                continue\n",
    "            connectors = net.loc[gene2, 'Connector genes']\n",
    "\n",
    "            if (type(connectors) == float) or (type(connectors) == np.float64):\n",
    "                continue\n",
    "\n",
    "            all_connectors = all_connectors + connectors.split(',')\n",
    "\n",
    "        all_connectors = list(set(all_connectors))\n",
    "        \n",
    "    return all_connectors"
   ]
  },
  {
   "cell_type": "code",
   "execution_count": 5,
   "metadata": {},
   "outputs": [],
   "source": [
    "outs = pd.read_csv('Supp_table_all_variants.SVs_included.csv')"
   ]
  },
  {
   "cell_type": "code",
   "execution_count": 6,
   "metadata": {},
   "outputs": [],
   "source": [
    "snv = pd.read_csv('16p_all_snvs.csv', sep=',')\n",
    "\n",
    "def str2float(s, default = 0):\n",
    "    if s == '.':\n",
    "        return default\n",
    "    else:\n",
    "        return float(s)\n",
    "\n",
    "    \n",
    "snv.CADD = snv.CADD.apply(lambda s: str2float(s))\n",
    "\n",
    "lof = snv.Mut_type == 'lof'\n",
    "cadd_10 = snv.CADD > 10\n",
    "\n",
    "snv = snv[lof | cadd_10].copy()"
   ]
  },
  {
   "cell_type": "code",
   "execution_count": 7,
   "metadata": {},
   "outputs": [],
   "source": [
    "cnv = pd.read_csv('../../cnv_parse/output/merged/16p_all_rare_cnvs.tsv', sep='\\t')\n",
    "cnv = cnv[cnv.gene_covered == 'encapsulated']"
   ]
  },
  {
   "cell_type": "code",
   "execution_count": 8,
   "metadata": {},
   "outputs": [],
   "source": [
    "net = pd.read_csv('output/{}_nearest_neighbor_weighted.txt'.format('UQCRC2'), sep='\\t')\n",
    "net = net.set_index('End gene', drop=False)\n",
    "end_genes = net['End gene'].to_list()\n",
    "ref = end_genes"
   ]
  },
  {
   "cell_type": "code",
   "execution_count": 9,
   "metadata": {},
   "outputs": [],
   "source": [
    "with open('genes_in_netowrk.txt', 'w') as f:\n",
    "    for s in end_genes:\n",
    "        f.write(s)\n",
    "        f.write('\\n')"
   ]
  },
  {
   "cell_type": "code",
   "execution_count": null,
   "metadata": {},
   "outputs": [
    {
     "name": "stdout",
     "output_type": "stream",
     "text": [
      "SG001 1027\n",
      "SG003 244\n",
      "SG006 1522\n",
      "SG007 3056\n"
     ]
    }
   ],
   "source": [
    "for sub in outs['sample'].unique():\n",
    "\n",
    "    variant_genes = snv[snv['Sample'] == sub]\n",
    "    variant_genes = list(variant_genes['Gene.refGene'].unique())\n",
    "    cnv_genes = cnv[cnv.subject == sub].gene.to_list()\n",
    "    variant_genes = list(set(variant_genes + cnv_genes))\n",
    "    \n",
    "    outliers = outs[outs['sample'] == sub].copy()\n",
    "    outliers = outliers[outliers.outlier == 'X'].gene.to_list()\n",
    "    \n",
    "    genes = variant_genes + outliers\n",
    "    \n",
    "    connectors = network_genes(outliers)\n",
    "    print(sub, len(connectors))\n",
    "    with open('cohort_connectors/{}.outlier_and_rare_variant_connectors.txt'.format(sub), 'w') as f:\n",
    "        for gene in connectors:\n",
    "            f.write(gene)\n",
    "            f.write('\\n')"
   ]
  },
  {
   "cell_type": "code",
   "execution_count": null,
   "metadata": {},
   "outputs": [],
   "source": []
  }
 ],
 "metadata": {
  "kernelspec": {
   "display_name": "Python 3",
   "language": "python",
   "name": "python3"
  },
  "language_info": {
   "codemirror_mode": {
    "name": "ipython",
    "version": 3
   },
   "file_extension": ".py",
   "mimetype": "text/x-python",
   "name": "python",
   "nbconvert_exporter": "python",
   "pygments_lexer": "ipython3",
   "version": "3.7.3"
  }
 },
 "nbformat": 4,
 "nbformat_minor": 4
}
