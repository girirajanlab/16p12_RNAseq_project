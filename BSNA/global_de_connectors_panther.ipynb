{
 "cells": [
  {
   "cell_type": "code",
   "execution_count": 1,
   "metadata": {},
   "outputs": [],
   "source": [
    "import pandas as pd\n",
    "import numpy as np\n",
    "\n",
    "pd.set_option('display.max_rows', 100)\n",
    "pd.set_option('display.max_columns', 100)"
   ]
  },
  {
   "cell_type": "code",
   "execution_count": 2,
   "metadata": {},
   "outputs": [],
   "source": [
    "# http://pantherdb.org/services/tryItOut.jsp?url=%2Fservices%2Fapi%2Fpanther\n",
    "\n",
    "import requests\n",
    "import json\n",
    "import pandas as pd\n",
    "\n",
    "def panther(input_genes, reference_genes=None, organism='9606', annotation_dataset='GO:0008150', test_type='FISHER', correction_type='FDR'):\n",
    "    '''\n",
    "        Function to query Panther API. More info at Panther:\n",
    "        http://pantherdb.org/services/tryItOut.jsp?url=%2Fservices%2Fapi%2Fpanther\n",
    "        \n",
    "        input_genes:\n",
    "            list of genes to query\n",
    "        \n",
    "        reference_genes:\n",
    "            (optional) list of reference genes\n",
    "        \n",
    "        organism: \n",
    "            all supported orgaminisms listed at http://pantherdb.org/services/oai/pantherdb/supportedgenomes\n",
    "        \n",
    "        annotation_dataset: \n",
    "            all supported annotations listed at http://pantherdb.org/services/oai/pantherdb/supportedannotdatasets\n",
    "            GO:0008150 (Biological Process)\n",
    "            ANNOT_TYPE_ID_PANTHER_GO_SLIM_BP (Biological Process Slim)\n",
    "            ANNOT_TYPE_ID_PANTHER_PATHWAY (Panther Pathway)\n",
    "            ANNOT_TYPE_ID_REACTOME_PATHWAY (Reactome Pathway)\n",
    "            \n",
    "        test_type: FISHER, BINOMIAL\n",
    "        \n",
    "        correction_type: FDR, BONFERRONI, NONE\n",
    "    \n",
    "    '''\n",
    "    \n",
    "    # stringify input genes\n",
    "    input_genes     = ','.join(input_genes)\n",
    "    \n",
    "    # stringify reference genes if provided\n",
    "    if reference_genes != None:\n",
    "        reference_genes = ','.join(reference_genes)\n",
    "    \n",
    "    #API details\n",
    "    url = 'http://pantherdb.org/services/oai/pantherdb/enrich/overrep'\n",
    "\n",
    "    query = {'geneInputList':input_genes,\n",
    "                       'organism': organism,\n",
    "                       'refInputList': reference_genes,\n",
    "                       'refOrganism': organism,\n",
    "                       'annotDataSet':annotation_dataset,\n",
    "                       'enrichmentTestType': test_type,\n",
    "                       'correction': correction_type\n",
    "                      }\n",
    "    \n",
    "    # if no reference genes provided remove from query\n",
    "    if reference_genes == None:\n",
    "        del query['refInputList']\n",
    "        del query['refOrganism']\n",
    "\n",
    "    #Making http post request\n",
    "    response = requests.post(url, data=query)\n",
    "\n",
    "    res = response.json()\n",
    "    res = res['results']\n",
    "    res = pd.DataFrame(res['result'])\n",
    "    res = res[res.fdr < 0.05].copy()\n",
    "    return res\n"
   ]
  },
  {
   "cell_type": "code",
   "execution_count": 5,
   "metadata": {},
   "outputs": [],
   "source": [
    "connectors = pd.read_csv('de_connectors.txt', header=None)\n",
    "connectors = connectors[0].to_list()"
   ]
  },
  {
   "cell_type": "code",
   "execution_count": 6,
   "metadata": {},
   "outputs": [
    {
     "data": {
      "text/plain": [
       "5083"
      ]
     },
     "execution_count": 6,
     "metadata": {},
     "output_type": "execute_result"
    }
   ],
   "source": [
    "len(connectors)"
   ]
  },
  {
   "cell_type": "code",
   "execution_count": 7,
   "metadata": {},
   "outputs": [],
   "source": [
    "net = pd.read_csv('../network_analysis/output/{}_nearest_neighbor_weighted.txt'.format('UQCRC2'), sep='\\t')\n",
    "net = net.set_index('End gene', drop=False)\n",
    "ref = net['End gene'].to_list()\n",
    "refGenes = ref"
   ]
  },
  {
   "cell_type": "code",
   "execution_count": 8,
   "metadata": {},
   "outputs": [],
   "source": [
    "res = panther(connectors, refGenes, annotation_dataset = 'GO:0008150')\n"
   ]
  },
  {
   "cell_type": "code",
   "execution_count": 9,
   "metadata": {},
   "outputs": [],
   "source": [
    "res.to_csv('de.go_bp.tsv', sep='\\t', index=False)"
   ]
  },
  {
   "cell_type": "code",
   "execution_count": 10,
   "metadata": {},
   "outputs": [],
   "source": [
    "import ast\n",
    "def get_term(d, term):\n",
    "    if term in d:\n",
    "        return d[term]\n",
    "    return 'None'\n",
    "\n",
    "res['label'] = res.term.apply(lambda s: get_term(s, 'label'))\n",
    "res['go'] = res.term.apply(lambda s: get_term(s, 'id'))"
   ]
  },
  {
   "cell_type": "code",
   "execution_count": 11,
   "metadata": {},
   "outputs": [],
   "source": [
    "res_clean = res[res.go != 'None']"
   ]
  },
  {
   "cell_type": "code",
   "execution_count": 12,
   "metadata": {},
   "outputs": [],
   "source": [
    "res_clean.to_csv('de.go_bp.clean.tsv', sep='\\t', index=False)"
   ]
  },
  {
   "cell_type": "code",
   "execution_count": null,
   "metadata": {},
   "outputs": [],
   "source": []
  }
 ],
 "metadata": {
  "kernelspec": {
   "display_name": "Python 3",
   "language": "python",
   "name": "python3"
  },
  "language_info": {
   "codemirror_mode": {
    "name": "ipython",
    "version": 3
   },
   "file_extension": ".py",
   "mimetype": "text/x-python",
   "name": "python",
   "nbconvert_exporter": "python",
   "pygments_lexer": "ipython3",
   "version": "3.7.3"
  }
 },
 "nbformat": 4,
 "nbformat_minor": 4
}
