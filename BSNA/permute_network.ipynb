{
 "cells": [
  {
   "cell_type": "code",
   "execution_count": 4,
   "metadata": {},
   "outputs": [],
   "source": [
    "# Network permutation\n",
    "# in contrast to usual permutation methods where the node degree distribution \n",
    "# and network structure are maintained, but node degree for any given gene is\n",
    "# allowed to change\n",
    "\n",
    "# randomly reassign node labels\n",
    "\n",
    "#Import modules\n",
    "# import networkx\n",
    "import pandas as pd\n",
    "\n",
    "from random import choice"
   ]
  },
  {
   "cell_type": "code",
   "execution_count": 10,
   "metadata": {},
   "outputs": [],
   "source": [
    "net = pd.read_csv('all_gene_network.tsv', sep='\\t')"
   ]
  },
  {
   "cell_type": "code",
   "execution_count": 13,
   "metadata": {},
   "outputs": [],
   "source": [
    "# make a dict of new gene name mappings\n",
    "\n",
    "all_genes = list(net['Start gene'].unique())\n",
    "\n",
    "gene2random = {}\n",
    "\n",
    "\n",
    "genes = all_genes\n",
    "for gene in genes:\n",
    "    random = choice(genes)\n",
    "    gene2random[gene] = random\n",
    "    \n",
    "    genes = [s for s in genes if random != s]"
   ]
  },
  {
   "cell_type": "code",
   "execution_count": 14,
   "metadata": {},
   "outputs": [],
   "source": [
    "def get_random_gene(gene):\n",
    "    random = gene2random[gene]\n",
    "    return random\n",
    "\n",
    "random_net = net.copy()\n",
    "\n",
    "\n",
    "random_net['Start gene'] = random_net['Start gene'].apply(get_random_gene)\n",
    "random_net['End gene'] = random_net['End gene'].apply(get_random_gene)"
   ]
  },
  {
   "cell_type": "code",
   "execution_count": 15,
   "metadata": {},
   "outputs": [],
   "source": [
    "random_net.to_csv('random_gene_network.tsv', sep='\\t', index=False)"
   ]
  },
  {
   "cell_type": "code",
   "execution_count": 16,
   "metadata": {},
   "outputs": [
    {
     "data": {
      "text/plain": [
       "MIGA1        29530\n",
       "LRRC42       29530\n",
       "DHX40        14765\n",
       "NAA16        14765\n",
       "EIF4ENIF1    14765\n",
       "             ...  \n",
       "WWTR1        14765\n",
       "GHSR         14765\n",
       "HIST1H1T     14765\n",
       "INTS1        14765\n",
       "ITGB2        14765\n",
       "Name: Start gene, Length: 14763, dtype: int64"
      ]
     },
     "execution_count": 16,
     "metadata": {},
     "output_type": "execute_result"
    }
   ],
   "source": [
    "random_net['Start gene'].value_counts()"
   ]
  },
  {
   "cell_type": "code",
   "execution_count": 18,
   "metadata": {},
   "outputs": [
    {
     "data": {
      "text/plain": [
       "MIGA1        29530\n",
       "LRRC42       29530\n",
       "DHX40        14765\n",
       "NAA16        14765\n",
       "EIF4ENIF1    14765\n",
       "             ...  \n",
       "WWTR1        14765\n",
       "GHSR         14765\n",
       "HIST1H1T     14765\n",
       "INTS1        14765\n",
       "ITGB2        14765\n",
       "Name: End gene, Length: 14763, dtype: int64"
      ]
     },
     "execution_count": 18,
     "metadata": {},
     "output_type": "execute_result"
    }
   ],
   "source": [
    "random_net['End gene'].value_counts()"
   ]
  },
  {
   "cell_type": "code",
   "execution_count": 66,
   "metadata": {},
   "outputs": [],
   "source": []
  },
  {
   "cell_type": "code",
   "execution_count": null,
   "metadata": {},
   "outputs": [],
   "source": []
  },
  {
   "cell_type": "code",
   "execution_count": null,
   "metadata": {},
   "outputs": [],
   "source": []
  },
  {
   "cell_type": "code",
   "execution_count": null,
   "metadata": {},
   "outputs": [],
   "source": []
  }
 ],
 "metadata": {
  "kernelspec": {
   "display_name": "Python 3",
   "language": "python",
   "name": "python3"
  },
  "language_info": {
   "codemirror_mode": {
    "name": "ipython",
    "version": 3
   },
   "file_extension": ".py",
   "mimetype": "text/x-python",
   "name": "python",
   "nbconvert_exporter": "python",
   "pygments_lexer": "ipython3",
   "version": "3.7.3"
  }
 },
 "nbformat": 4,
 "nbformat_minor": 4
}
