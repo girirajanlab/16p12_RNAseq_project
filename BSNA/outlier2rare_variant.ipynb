{
 "cells": [
  {
   "cell_type": "code",
   "execution_count": 1,
   "metadata": {},
   "outputs": [],
   "source": [
    "import pandas as pd\n",
    "import numpy as np"
   ]
  },
  {
   "cell_type": "code",
   "execution_count": 2,
   "metadata": {},
   "outputs": [
    {
     "name": "stderr",
     "output_type": "stream",
     "text": [
      "/usr/local/lib/python3.7/dist-packages/IPython/core/interactiveshell.py:3058: DtypeWarning: Columns (5) have mixed types.Specify dtype option on import or set low_memory=False.\n",
      "  interactivity=interactivity, compiler=compiler, result=result)\n"
     ]
    }
   ],
   "source": [
    "de = pd.read_csv('../differential_expression_analysis/output/edgr_exclude_one/intersect.tsv', sep='\\t')\n",
    "de = de.set_index('ensembl', drop=False)\n",
    "\n",
    "mapp = pd.read_csv('../data/gene_names_mapping_new.tsv', sep='\\t')\n",
    "mapp = mapp.set_index('ensembl', drop=False)\n",
    "\n",
    "de_keep = pd.read_csv('../differential_expression_analysis/output/edgr_exclude_one/keep.intersect.txt', header=None)\n",
    "de_keep = de_keep[0].to_list()\n",
    "de_keep = mapp.loc[de_keep]['Description'].to_list()\n",
    "\n",
    "outs = pd.read_csv('Supp_table_all_variants.SVs_included.csv')\n",
    "outs = outs.set_index('gene', drop=False)\n",
    "\n",
    "rel = pd.read_csv('../data/family_summaries.tsv', sep='\\t')\n",
    "rel = rel.set_index('subject', drop=False)\n",
    "rel = rel.drop('SG011')\n",
    "\n",
    "pheno = pd.read_csv('../data/pheno_final.tsv', sep='\\t')\n",
    "pheno = pheno.drop_duplicates('subject')\n",
    "pheno = pheno.set_index('subject', drop=False)\n"
   ]
  },
  {
   "cell_type": "markdown",
   "metadata": {},
   "source": [
    "# format network df"
   ]
  },
  {
   "cell_type": "code",
   "execution_count": 3,
   "metadata": {},
   "outputs": [],
   "source": [
    "net = pd.read_csv('all_gene_network_simple.tsv', sep='\\t')\n",
    "\n",
    "net.columns = ['startg', 'endg', 'distance',\n",
    "       'num_connector_genes']\n",
    "\n",
    "net = net.set_index(['startg', 'endg'], drop=False)\n",
    "\n",
    "net = net.rename_axis((None, None))"
   ]
  },
  {
   "cell_type": "markdown",
   "metadata": {},
   "source": [
    "# create df to hold output statistics"
   ]
  },
  {
   "cell_type": "code",
   "execution_count": 7,
   "metadata": {},
   "outputs": [],
   "source": [
    "df = pd.DataFrame(index=pheno.subject)\n",
    "df['avg_shortest_distance'] = 0.0"
   ]
  },
  {
   "cell_type": "markdown",
   "metadata": {},
   "source": [
    "# outlier genes to wg variants"
   ]
  },
  {
   "cell_type": "code",
   "execution_count": 12,
   "metadata": {},
   "outputs": [],
   "source": [
    "snv = pd.read_csv('../network_analysis/16p_all_snvs.csv', sep=',')\n",
    "\n",
    "def str2float(s, default = 0):\n",
    "    if s == '.':\n",
    "        return default\n",
    "    else:\n",
    "        return float(s)\n",
    "\n",
    "    \n",
    "snv.CADD = snv.CADD.apply(lambda s: str2float(s))\n",
    "\n",
    "lof = snv.Mut_type == 'lof'\n",
    "cadd_10 = snv.CADD > 10\n",
    "splice = snv.Mut_type == 'splice'\n",
    "\n",
    "snv = snv[lof | cadd_10 | splice].copy()"
   ]
  },
  {
   "cell_type": "code",
   "execution_count": 13,
   "metadata": {},
   "outputs": [],
   "source": [
    "cnv = pd.read_csv('../../cnv_parse/output/merged/16p_all_rare_cnvs.tsv', sep='\\t')\n",
    "cnv = cnv[cnv.gene_covered == 'encapsulated']"
   ]
  },
  {
   "cell_type": "code",
   "execution_count": 38,
   "metadata": {
    "collapsed": true,
    "jupyter": {
     "outputs_hidden": true
    }
   },
   "outputs": [
    {
     "name": "stdout",
     "output_type": "stream",
     "text": [
      "SG001\n",
      "SG002\n",
      "SG003\n",
      "SG006\n",
      "SG007\n",
      "SG011\n",
      "SG021\n",
      "SG022\n",
      "SG023\n",
      "SG024\n",
      "SG025\n",
      "SG026\n",
      "SG027\n",
      "SG030\n",
      "SG031\n",
      "SG069\n",
      "SG155\n",
      "SG037\n",
      "SG038\n",
      "SG039\n",
      "SG040\n",
      "SG041\n",
      "SG042\n",
      "SG043\n",
      "SG044\n",
      "SG045\n",
      "SG046\n",
      "SG148\n",
      "SG149\n",
      "SG150\n",
      "SG151\n",
      "SG152\n"
     ]
    }
   ],
   "source": [
    "for sub in pheno.subject:\n",
    "    print(sub)\n",
    "    outlier_genes = outs[(outs['sample'] == sub) & (outs.outlier == 'X')].gene.to_list()\n",
    "    \n",
    "    snv_genes = snv[snv['Sample'] == sub]\n",
    "    snv_genes = list(snv_genes['Gene.refGene'].unique())\n",
    "    cnv_genes = cnv[cnv.subject == sub].gene.to_list()\n",
    "    variant_genes = list(set(snv_genes + cnv_genes))\n",
    "\n",
    "\n",
    "\n",
    "    subnet = net[net.endg.isin(variant_genes)]\n",
    "\n",
    "    subnet = subnet[subnet.startg.isin(outlier_genes)]\n",
    "\n",
    "    subnet = subnet[subnet.startg != subnet.endg]\n",
    "\n",
    "    df.at[sub, 'avg_shortest_distance'] = subnet.num_connector_genes.mean()"
   ]
  },
  {
   "cell_type": "code",
   "execution_count": 39,
   "metadata": {},
   "outputs": [],
   "source": [
    "df.to_csv('avg_dist.tsv', sep='\\t', index=False)"
   ]
  },
  {
   "cell_type": "code",
   "execution_count": 40,
   "metadata": {},
   "outputs": [],
   "source": [
    "df.to_csv('avg_dist.tsv', sep='\\t')"
   ]
  },
  {
   "cell_type": "code",
   "execution_count": null,
   "metadata": {},
   "outputs": [],
   "source": []
  },
  {
   "cell_type": "code",
   "execution_count": null,
   "metadata": {},
   "outputs": [],
   "source": []
  },
  {
   "cell_type": "code",
   "execution_count": null,
   "metadata": {},
   "outputs": [],
   "source": []
  }
 ],
 "metadata": {
  "kernelspec": {
   "display_name": "Python 3",
   "language": "python",
   "name": "python3"
  },
  "language_info": {
   "codemirror_mode": {
    "name": "ipython",
    "version": 3
   },
   "file_extension": ".py",
   "mimetype": "text/x-python",
   "name": "python",
   "nbconvert_exporter": "python",
   "pygments_lexer": "ipython3",
   "version": "3.7.3"
  }
 },
 "nbformat": 4,
 "nbformat_minor": 4
}
