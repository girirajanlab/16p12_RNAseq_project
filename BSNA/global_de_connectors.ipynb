{
 "cells": [
  {
   "cell_type": "code",
   "execution_count": 1,
   "metadata": {},
   "outputs": [],
   "source": [
    "import pandas as pd\n",
    "import numpy as np\n",
    "\n",
    "pd.set_option('display.max_rows', 100)\n",
    "pd.set_option('display.max_columns', 100)"
   ]
  },
  {
   "cell_type": "code",
   "execution_count": 2,
   "metadata": {},
   "outputs": [
    {
     "name": "stderr",
     "output_type": "stream",
     "text": [
      "/usr/local/lib/python3.7/dist-packages/IPython/core/interactiveshell.py:3058: DtypeWarning: Columns (5) have mixed types.Specify dtype option on import or set low_memory=False.\n",
      "  interactivity=interactivity, compiler=compiler, result=result)\n"
     ]
    }
   ],
   "source": [
    "mapp = pd.read_csv('../data/gene_names_mapping_new.tsv', sep='\\t')\n",
    "mapp = mapp.set_index('ensembl', drop=False)\n",
    "\n",
    "pheno = pd.read_csv('../data/pheno_final.tsv', sep='\\t')\n",
    "pheno = pheno.drop_duplicates('subject')\n",
    "pheno = pheno.set_index('subject', drop=False)\n",
    "\n",
    "de   = pd.read_csv('../differential_expression_analysis3/output/no_sex/intersect.tsv', sep='\\t')\n",
    "de = de.set_index('ensembl', drop=False)\n",
    "\n",
    "keep = pd.read_csv('../differential_expression_analysis3/output/no_sex/keep.intersect.txt', header=None)\n",
    "\n",
    "pmapp = mapp[mapp.biotype == 'protein_coding'].copy()\n",
    "\n",
    "keep = keep[keep[0].isin(pmapp.ensembl)].copy()\n",
    "keep = pmapp.loc[keep[0], 'Description'].to_list()\n",
    "\n",
    "de = de[de['ensembl'].isin(pmapp.ensembl)].copy().gene.to_list()"
   ]
  },
  {
   "cell_type": "code",
   "execution_count": 3,
   "metadata": {},
   "outputs": [],
   "source": [
    "# load in network\n",
    "net = pd.read_csv('all_gene_network.tsv', sep='\\t')\n",
    "net.columns = ['startg', 'endg', 'distance',\n",
    "       'num_connector_genes', 'connectors']\n",
    "net = net.set_index(['startg', 'endg'], drop=False)\n",
    "net = net.rename_axis((None, None))\n",
    "\n",
    "# we don't want connections where startg == endg\n",
    "net = net[net.startg != net.endg].copy()"
   ]
  },
  {
   "cell_type": "code",
   "execution_count": 4,
   "metadata": {},
   "outputs": [],
   "source": [
    "# keep subnet that is in de genes\n",
    "\n",
    "subnet = net[net.endg.isin(de)]\n",
    "subnet = subnet[subnet.startg.isin(de)]\n",
    "subnet = subnet[subnet.startg != subnet.endg]\n",
    "subnet = subnet[subnet.num_connector_genes != 0]"
   ]
  },
  {
   "cell_type": "code",
   "execution_count": 6,
   "metadata": {},
   "outputs": [],
   "source": [
    "def flatten_connectors(connectors):\n",
    "    new = []\n",
    "    for s in connectors:\n",
    "        l = s.split(',')\n",
    "        for item in l:\n",
    "            new.append(item)\n",
    "            \n",
    "    new = list(set(new))\n",
    "    return new"
   ]
  },
  {
   "cell_type": "code",
   "execution_count": 7,
   "metadata": {},
   "outputs": [],
   "source": [
    "# get connectors\n",
    "\n",
    "connectors = subnet.connectors.to_list()\n",
    "connectors = flatten_connectors(connectors)\n",
    "\n",
    "connectors = list(set(connectors))"
   ]
  },
  {
   "cell_type": "code",
   "execution_count": 8,
   "metadata": {},
   "outputs": [],
   "source": [
    "# write to file\n",
    "\n",
    "with open('output/de_connectors_no_sex.txt', 'w') as f:\n",
    "    for s in connectors:\n",
    "        f.write(s)\n",
    "        f.write('\\n')"
   ]
  },
  {
   "cell_type": "code",
   "execution_count": 9,
   "metadata": {},
   "outputs": [
    {
     "data": {
      "text/plain": [
       "5008"
      ]
     },
     "execution_count": 9,
     "metadata": {},
     "output_type": "execute_result"
    }
   ],
   "source": [
    "len(connectors)"
   ]
  },
  {
   "cell_type": "code",
   "execution_count": null,
   "metadata": {},
   "outputs": [],
   "source": []
  },
  {
   "cell_type": "code",
   "execution_count": 10,
   "metadata": {},
   "outputs": [],
   "source": [
    "# check overlap with previous connectors"
   ]
  },
  {
   "cell_type": "code",
   "execution_count": 16,
   "metadata": {},
   "outputs": [],
   "source": [
    "old = pd.read_csv('de_connectors.txt', sep='\\t', header=None)\n",
    "old = set(old[0].to_list())"
   ]
  },
  {
   "cell_type": "code",
   "execution_count": 15,
   "metadata": {},
   "outputs": [],
   "source": [
    "import matplotlib\n",
    "from matplotlib import pyplot as plt\n",
    "matplotlib.rcParams['pdf.fonttype'] = 42\n",
    "matplotlib.rcParams['ps.fonttype'] = 42\n",
    "%config InlineBackend.figure_format = 'retina'"
   ]
  },
  {
   "cell_type": "code",
   "execution_count": 10,
   "metadata": {},
   "outputs": [],
   "source": [
    "old = set(pql.ensembl.to_list())\n",
    "edger_genes = set(edger.ensembl.to_list())"
   ]
  },
  {
   "cell_type": "code",
   "execution_count": null,
   "metadata": {},
   "outputs": [],
   "source": []
  },
  {
   "cell_type": "code",
   "execution_count": 11,
   "metadata": {},
   "outputs": [
    {
     "data": {
      "image/png": "[encoded data removed]",
      "text/plain": [
       "<Figure size 432x288 with 1 Axes>"
      ]
     },
     "metadata": {
      "image/png": {
       "height": 234,
       "width": 259
      }
     },
     "output_type": "display_data"
    }
   ],
   "source": [
    "v = venn2((pql_genes, edger_genes), ('PQLseq', 'edgeR'))\n",
    "\n",
    "plt.savefig('venn.pdf', dpi=300)"
   ]
  },
  {
   "cell_type": "code",
   "execution_count": null,
   "metadata": {},
   "outputs": [],
   "source": []
  }
 ],
 "metadata": {
  "kernelspec": {
   "display_name": "Python 3",
   "language": "python",
   "name": "python3"
  },
  "language_info": {
   "codemirror_mode": {
    "name": "ipython",
    "version": 3
   },
   "file_extension": ".py",
   "mimetype": "text/x-python",
   "name": "python",
   "nbconvert_exporter": "python",
   "pygments_lexer": "ipython3",
   "version": "3.7.3"
  }
 },
 "nbformat": 4,
 "nbformat_minor": 4
}
