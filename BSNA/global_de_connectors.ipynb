{
 "cells": [
  {
   "cell_type": "code",
   "execution_count": 1,
   "metadata": {},
   "outputs": [],
   "source": [
    "import pandas as pd\n",
    "import numpy as np\n",
    "\n",
    "pd.set_option('display.max_rows', 100)\n",
    "pd.set_option('display.max_columns', 100)"
   ]
  },
  {
   "cell_type": "code",
   "execution_count": 2,
   "metadata": {},
   "outputs": [
    {
     "name": "stderr",
     "output_type": "stream",
     "text": [
      "/usr/local/lib/python3.7/dist-packages/IPython/core/interactiveshell.py:3058: DtypeWarning: Columns (5) have mixed types.Specify dtype option on import or set low_memory=False.\n",
      "  interactivity=interactivity, compiler=compiler, result=result)\n"
     ]
    }
   ],
   "source": [
    "mapp = pd.read_csv('../data/gene_names_mapping_new.tsv', sep='\\t')\n",
    "mapp = mapp.set_index('ensembl', drop=False)\n",
    "\n",
    "pheno = pd.read_csv('../data/pheno_final.tsv', sep='\\t')\n",
    "pheno = pheno.drop_duplicates('subject')\n",
    "pheno = pheno.set_index('subject', drop=False)\n",
    "\n",
    "de   = pd.read_csv('../differential_expression_analysis/output/edgr_exclude_one/intersect.tsv', sep='\\t')\n",
    "de = de.set_index('ensembl', drop=False)\n",
    "\n",
    "keep = pd.read_csv('../differential_expression_analysis/output/edgr_exclude_one/keep.intersect.txt', header=None)\n",
    "\n",
    "pmapp = mapp[mapp.biotype == 'protein_coding'].copy()\n",
    "\n",
    "keep = keep[keep[0].isin(pmapp.ensembl)].copy()\n",
    "keep = pmapp.loc[keep[0], 'Description'].to_list()\n",
    "\n",
    "de = de[de['ensembl'].isin(pmapp.ensembl)].copy().gene.to_list()"
   ]
  },
  {
   "cell_type": "code",
   "execution_count": 3,
   "metadata": {},
   "outputs": [],
   "source": [
    "import os\n",
    "network_files = os.listdir('../network_analysis/output')\n",
    "\n",
    "def network_genes(genes):\n",
    "    all_connectors = []\n",
    "    i = 0\n",
    "    for gene1 in genes:\n",
    "#         if i % 100 == 0:\n",
    "#             print('{}/{}'.format(i, len(genes)))\n",
    "\n",
    "        i = i + 1\n",
    "        \n",
    "        if '{}_nearest_neighbor_weighted.txt'.format(gene1) not in network_files:\n",
    "            continue\n",
    "        net = pd.read_csv('output/{}_nearest_neighbor_weighted.txt'.format(gene1), sep='\\t')\n",
    "        net = net.set_index('End gene', drop=False)\n",
    "        end_genes = net['End gene'].to_list()\n",
    "\n",
    "        for gene2 in genes:\n",
    "            if gene2 not in end_genes:\n",
    "                continue\n",
    "            connectors = net.loc[gene2, 'Connector genes']\n",
    "\n",
    "            if (type(connectors) == float) or (type(connectors) == np.float64):\n",
    "                continue\n",
    "\n",
    "            all_connectors = all_connectors + connectors.split(',')\n",
    "\n",
    "        all_connectors = list(set(all_connectors))\n",
    "        \n",
    "    return all_connectors"
   ]
  },
  {
   "cell_type": "code",
   "execution_count": 9,
   "metadata": {},
   "outputs": [
    {
     "name": "stdout",
     "output_type": "stream",
     "text": [
      "0/1171\n",
      "100/1171\n",
      "200/1171\n",
      "300/1171\n",
      "300/1171\n",
      "400/1171\n",
      "500/1171\n",
      "600/1171\n",
      "700/1171\n",
      "800/1171\n",
      "900/1171\n"
     ]
    }
   ],
   "source": [
    "all_connectors = []\n",
    "i = 0\n",
    "for gene1 in de:\n",
    "    if i % 100 == 0:\n",
    "        print('{}/{}'.format(i, len(de)))\n",
    "\n",
    "    if '{}_nearest_neighbor_weighted.txt'.format(gene1) not in network_files:\n",
    "        continue\n",
    "    net = pd.read_csv('../network_analysis/output/{}_nearest_neighbor_weighted.txt'.format(gene1), sep='\\t')\n",
    "    net = net.set_index('End gene', drop=False)\n",
    "    end_genes = net['End gene'].to_list()\n",
    "\n",
    "    for gene2 in de[:]:\n",
    "        if gene2 not in end_genes:\n",
    "            continue\n",
    "        connectors = net.loc[gene2, 'Connector genes']\n",
    "\n",
    "        if type(connectors) == float:\n",
    "            continue\n",
    "\n",
    "        all_connectors = all_connectors + connectors.split(',')\n",
    "        \n",
    "    all_connectors = list(set(all_connectors))\n",
    "    \n",
    "    i = i + 1\n"
   ]
  },
  {
   "cell_type": "code",
   "execution_count": 10,
   "metadata": {},
   "outputs": [
    {
     "data": {
      "text/plain": [
       "5083"
      ]
     },
     "execution_count": 10,
     "metadata": {},
     "output_type": "execute_result"
    }
   ],
   "source": [
    "len(all_connectors)"
   ]
  },
  {
   "cell_type": "code",
   "execution_count": 13,
   "metadata": {},
   "outputs": [],
   "source": [
    "with open('de_connectors.txt', 'w') as f:\n",
    "    for s in all_connectors:\n",
    "        f.write(s)\n",
    "        f.write('\\n')"
   ]
  },
  {
   "cell_type": "code",
   "execution_count": null,
   "metadata": {},
   "outputs": [],
   "source": []
  }
 ],
 "metadata": {
  "kernelspec": {
   "display_name": "Python 3",
   "language": "python",
   "name": "python3"
  },
  "language_info": {
   "codemirror_mode": {
    "name": "ipython",
    "version": 3
   },
   "file_extension": ".py",
   "mimetype": "text/x-python",
   "name": "python",
   "nbconvert_exporter": "python",
   "pygments_lexer": "ipython3",
   "version": "3.7.3"
  }
 },
 "nbformat": 4,
 "nbformat_minor": 4
}
