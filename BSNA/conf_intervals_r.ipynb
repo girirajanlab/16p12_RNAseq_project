{
 "cells": [
  {
   "cell_type": "code",
   "execution_count": 17,
   "metadata": {},
   "outputs": [
    {
     "data": {
      "text/html": [
       "942"
      ],
      "text/latex": [
       "942"
      ],
      "text/markdown": [
       "942"
      ],
      "text/plain": [
       "[1] 942"
      ]
     },
     "metadata": {},
     "output_type": "display_data"
    },
    {
     "data": {
      "text/html": [
       "942"
      ],
      "text/latex": [
       "942"
      ],
      "text/markdown": [
       "942"
      ],
      "text/plain": [
       "[1] 942"
      ]
     },
     "metadata": {},
     "output_type": "display_data"
    },
    {
     "data": {
      "text/plain": [
       "\n",
       "\tWelch Two Sample t-test\n",
       "\n",
       "data:  a and b\n",
       "t = -4.14, df = 1815.2, p-value = 3.632e-05\n",
       "alternative hypothesis: true difference in means is not equal to 0\n",
       "90 percent confidence interval:\n",
       " -0.15663919 -0.06752944\n",
       "sample estimates:\n",
       "mean of x mean of y \n",
       " 3.527830  3.639914 \n"
      ]
     },
     "metadata": {},
     "output_type": "display_data"
    }
   ],
   "source": [
    "# global de\n",
    "\n",
    "df1 = read.table('gde2gde.tsv', header=T)\n",
    "a = df1[, 'avg_shortest_distance']\n",
    "df1 = read.table('gde2gde_perm.tsv', header=T)\n",
    "b = df1[, 'avg_shortest_distance']\n",
    "\n",
    "\n",
    "length(a)\n",
    "length(b)\n",
    "\n",
    "t.test(a, b, conf.level = 0.9)"
   ]
  },
  {
   "cell_type": "code",
   "execution_count": null,
   "metadata": {},
   "outputs": [],
   "source": []
  },
  {
   "cell_type": "code",
   "execution_count": null,
   "metadata": {},
   "outputs": [],
   "source": []
  },
  {
   "cell_type": "code",
   "execution_count": 1,
   "metadata": {
    "collapsed": true,
    "jupyter": {
     "outputs_hidden": true
    }
   },
   "outputs": [
    {
     "data": {
      "text/html": [
       "32"
      ],
      "text/latex": [
       "32"
      ],
      "text/markdown": [
       "32"
      ],
      "text/plain": [
       "[1] 32"
      ]
     },
     "metadata": {},
     "output_type": "display_data"
    },
    {
     "data": {
      "text/html": [
       "32"
      ],
      "text/latex": [
       "32"
      ],
      "text/markdown": [
       "32"
      ],
      "text/plain": [
       "[1] 32"
      ]
     },
     "metadata": {},
     "output_type": "display_data"
    },
    {
     "data": {
      "text/plain": [
       "\n",
       "\tWilcoxon rank sum test with continuity correction\n",
       "\n",
       "data:  a and b\n",
       "W = 207, p-value = 2.17e-05\n",
       "alternative hypothesis: true location shift is less than 0\n",
       "90 percent confidence interval:\n",
       "        -Inf -0.07282439\n",
       "sample estimates:\n",
       "difference in location \n",
       "            -0.1124616 \n"
      ]
     },
     "metadata": {},
     "output_type": "display_data"
    },
    {
     "data": {
      "text/plain": [
       "\n",
       "\tWilcoxon rank sum test with continuity correction\n",
       "\n",
       "data:  a and b\n",
       "W = 207, p-value = 2.17e-05\n",
       "alternative hypothesis: true location shift is less than 0\n",
       "5 percent confidence interval:\n",
       "       -Inf -0.1475001\n",
       "sample estimates:\n",
       "difference in location \n",
       "            -0.1124616 \n"
      ]
     },
     "metadata": {},
     "output_type": "display_data"
    },
    {
     "data": {
      "text/plain": [
       "\n",
       "\tWilcoxon rank sum test with continuity correction\n",
       "\n",
       "data:  a and b\n",
       "W = 207, p-value = 2.17e-05\n",
       "alternative hypothesis: true location shift is less than 0\n",
       "95 percent confidence interval:\n",
       "        -Inf -0.06458352\n",
       "sample estimates:\n",
       "difference in location \n",
       "            -0.1124616 \n"
      ]
     },
     "metadata": {},
     "output_type": "display_data"
    }
   ],
   "source": [
    "# outlier 32 inds vs perm\n",
    "\n",
    "df1 = read.table('avg_dist.tsv', header=T)\n",
    "a = df1[, 'avg_shortest_distance']\n",
    "df1 = read.table('avg_dist_perm.tsv', header=T)\n",
    "b = df1[, 'avg_shortest_distance']\n",
    "\n",
    "length(a)\n",
    "length(b)\n",
    "\n",
    "wilcox.test(a, b, \n",
    "            alternative='less',\n",
    "            correct=T,\n",
    "            paired=F,\n",
    "            exact=F,\n",
    "            conf.int=T,\n",
    "            conf.level = .9\n",
    "            )"
   ]
  },
  {
   "cell_type": "code",
   "execution_count": 14,
   "metadata": {},
   "outputs": [
    {
     "data": {
      "text/html": [
       "17"
      ],
      "text/latex": [
       "17"
      ],
      "text/markdown": [
       "17"
      ],
      "text/plain": [
       "[1] 17"
      ]
     },
     "metadata": {},
     "output_type": "display_data"
    },
    {
     "data": {
      "text/html": [
       "17"
      ],
      "text/latex": [
       "17"
      ],
      "text/markdown": [
       "17"
      ],
      "text/plain": [
       "[1] 17"
      ]
     },
     "metadata": {},
     "output_type": "display_data"
    },
    {
     "data": {
      "text/plain": [
       "\n",
       "\tWilcoxon rank sum test with continuity correction\n",
       "\n",
       "data:  a and b\n",
       "W = 0, p-value = 3.527e-07\n",
       "alternative hypothesis: true location shift is less than 0\n",
       "90 percent confidence interval:\n",
       "       -Inf -0.2476211\n",
       "sample estimates:\n",
       "difference in location \n",
       "            -0.2786227 \n"
      ]
     },
     "metadata": {},
     "output_type": "display_data"
    }
   ],
   "source": [
    "# de 17 inds vs perm\n",
    "\n",
    "df1 = read.table('avg_dist_famde.tsv', header=T)\n",
    "a = df1[, 'avg_shortest_distance']\n",
    "df1 = read.table('avg_dist_famde_perm.tsv', header=T)\n",
    "b = df1[, 'avg_shortest_distance']\n",
    "\n",
    "length(a)\n",
    "length(b)\n",
    "\n",
    "wilcox.test(a, b, \n",
    "            alternative='less',\n",
    "            correct=T,\n",
    "            paired=F,\n",
    "            exact=F,\n",
    "            conf.int=T,\n",
    "            conf.level = .9\n",
    "            )"
   ]
  },
  {
   "cell_type": "code",
   "execution_count": 3,
   "metadata": {},
   "outputs": [],
   "source": [
    "affected_child = c('SG001', 'SG011', 'SG021', 'SG026', 'SG155', 'SG041', 'SG042', 'SG037', 'SG148', 'SG022')\n",
    "carrier_parents = c('SG006', 'SG025', 'SG069', 'SG040', 'SG044', 'SG151')\n"
   ]
  },
  {
   "cell_type": "code",
   "execution_count": 12,
   "metadata": {},
   "outputs": [
    {
     "data": {
      "text/html": [
       "10"
      ],
      "text/latex": [
       "10"
      ],
      "text/markdown": [
       "10"
      ],
      "text/plain": [
       "[1] 10"
      ]
     },
     "metadata": {},
     "output_type": "display_data"
    },
    {
     "data": {
      "text/html": [
       "6"
      ],
      "text/latex": [
       "6"
      ],
      "text/markdown": [
       "6"
      ],
      "text/plain": [
       "[1] 6"
      ]
     },
     "metadata": {},
     "output_type": "display_data"
    },
    {
     "data": {
      "text/plain": [
       "\n",
       "\tWilcoxon rank sum test with continuity correction\n",
       "\n",
       "data:  a and b\n",
       "W = 24, p-value = 0.2754\n",
       "alternative hypothesis: true location shift is less than 0\n",
       "90 percent confidence interval:\n",
       "       -Inf 0.03711259\n",
       "sample estimates:\n",
       "difference in location \n",
       "           -0.02346017 \n"
      ]
     },
     "metadata": {},
     "output_type": "display_data"
    }
   ],
   "source": [
    "# carrier non-carrier outlier\n",
    "\n",
    "df1 = read.table('avg_dist.tsv', header=T, stringsAsFactors = F)\n",
    "\n",
    "\n",
    "a = df1[df1$subject %in% affected_child, 'avg_shortest_distance']\n",
    "b = df1[df1$subject %in% carrier_parents, 'avg_shortest_distance']\n",
    "\n",
    "length(a)\n",
    "length(b)\n",
    "\n",
    "wilcox.test(a, b, \n",
    "            alternative='less',\n",
    "            correct=T,\n",
    "            paired=F,\n",
    "            exact=F,\n",
    "            conf.int=T,\n",
    "            conf.level = .9\n",
    "            )"
   ]
  },
  {
   "cell_type": "code",
   "execution_count": 5,
   "metadata": {},
   "outputs": [
    {
     "data": {
      "text/html": [
       "9"
      ],
      "text/latex": [
       "9"
      ],
      "text/markdown": [
       "9"
      ],
      "text/plain": [
       "[1] 9"
      ]
     },
     "metadata": {},
     "output_type": "display_data"
    },
    {
     "data": {
      "text/html": [
       "4"
      ],
      "text/latex": [
       "4"
      ],
      "text/markdown": [
       "4"
      ],
      "text/plain": [
       "[1] 4"
      ]
     },
     "metadata": {},
     "output_type": "display_data"
    },
    {
     "data": {
      "text/plain": [
       "\n",
       "\tWilcoxon rank sum test with continuity correction\n",
       "\n",
       "data:  a and b\n",
       "W = 9, p-value = 0.09483\n",
       "alternative hypothesis: true location shift is less than 0\n",
       "90 percent confidence interval:\n",
       "        -Inf -0.01212716\n",
       "sample estimates:\n",
       "difference in location \n",
       "           -0.05394098 \n"
      ]
     },
     "metadata": {},
     "output_type": "display_data"
    }
   ],
   "source": [
    "# carrier non-carrier de\n",
    "\n",
    "df1 = read.table('avg_dist_famde.tsv', header=T, stringsAsFactors = F)\n",
    "\n",
    "\n",
    "a = df1[df1$subject %in% affected_child, 'avg_shortest_distance']\n",
    "b = df1[df1$subject %in% carrier_parents, 'avg_shortest_distance']\n",
    "\n",
    "length(a)\n",
    "length(b)\n",
    "\n",
    "wilcox.test(a, b, \n",
    "            alternative='less',\n",
    "            correct=T,\n",
    "            paired=F,\n",
    "            exact=F,\n",
    "            conf.int=T,\n",
    "            conf.level = .9\n",
    "            )"
   ]
  },
  {
   "cell_type": "code",
   "execution_count": null,
   "metadata": {},
   "outputs": [],
   "source": []
  }
 ],
 "metadata": {
  "kernelspec": {
   "display_name": "R",
   "language": "R",
   "name": "ir"
  },
  "language_info": {
   "codemirror_mode": "r",
   "file_extension": ".r",
   "mimetype": "text/x-r-source",
   "name": "R",
   "pygments_lexer": "r",
   "version": "3.6.3"
  }
 },
 "nbformat": 4,
 "nbformat_minor": 4
}
