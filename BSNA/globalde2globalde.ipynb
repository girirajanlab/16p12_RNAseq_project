{
 "cells": [
  {
   "cell_type": "code",
   "execution_count": 2,
   "metadata": {},
   "outputs": [],
   "source": [
    "import pandas as pd\n",
    "import numpy as np"
   ]
  },
  {
   "cell_type": "code",
   "execution_count": 3,
   "metadata": {},
   "outputs": [
    {
     "name": "stderr",
     "output_type": "stream",
     "text": [
      "/usr/local/lib/python3.7/dist-packages/IPython/core/interactiveshell.py:3058: DtypeWarning: Columns (5) have mixed types.Specify dtype option on import or set low_memory=False.\n",
      "  interactivity=interactivity, compiler=compiler, result=result)\n"
     ]
    }
   ],
   "source": [
    "de = pd.read_csv('../differential_expression_analysis/output/edgr_exclude_one/intersect.tsv', sep='\\t')\n",
    "de = de.set_index('ensembl', drop=False)\n",
    "\n",
    "mapp = pd.read_csv('../data/gene_names_mapping_new.tsv', sep='\\t')\n",
    "mapp = mapp.set_index('ensembl', drop=False)\n",
    "\n",
    "de_keep = pd.read_csv('../differential_expression_analysis/output/edgr_exclude_one/keep.intersect.txt', header=None)\n",
    "de_keep = de_keep[0].to_list()\n",
    "de_keep = mapp.loc[de_keep]['Description'].to_list()\n",
    "\n",
    "rel = pd.read_csv('../data/family_summaries.tsv', sep='\\t')\n",
    "rel = rel.set_index('subject', drop=False)\n",
    "rel = rel.drop('SG011')\n",
    "\n",
    "pheno = pd.read_csv('../data/pheno_final.tsv', sep='\\t')\n",
    "pheno = pheno.drop_duplicates('subject')\n",
    "pheno = pheno.set_index('subject', drop=False)\n"
   ]
  },
  {
   "cell_type": "markdown",
   "metadata": {},
   "source": [
    "# format network df"
   ]
  },
  {
   "cell_type": "code",
   "execution_count": 4,
   "metadata": {},
   "outputs": [],
   "source": [
    "net = pd.read_csv('all_gene_network_simple.tsv', sep='\\t')\n",
    "\n",
    "net.columns = ['startg', 'endg', 'distance',\n",
    "       'num_connector_genes']\n",
    "\n",
    "net = net.set_index(['startg', 'endg'], drop=False)\n",
    "\n",
    "net = net.rename_axis((None, None))"
   ]
  },
  {
   "cell_type": "markdown",
   "metadata": {},
   "source": [
    "# create df to hold output statistics"
   ]
  },
  {
   "cell_type": "code",
   "execution_count": 36,
   "metadata": {},
   "outputs": [],
   "source": [
    "net_genes = net.startg.unique()\n",
    "de_genes = de.gene.to_list()\n",
    "\n",
    "de_and_net_genes = [s for s in de_genes if s in net_genes]"
   ]
  },
  {
   "cell_type": "code",
   "execution_count": 38,
   "metadata": {},
   "outputs": [],
   "source": [
    "df = pd.DataFrame(index=de_and_net_genes)\n",
    "df['avg_shortest_distance'] = 0.0"
   ]
  },
  {
   "cell_type": "code",
   "execution_count": 39,
   "metadata": {},
   "outputs": [],
   "source": [
    "subnet = net[net.endg.isin(de_and_net_genes)].copy()"
   ]
  },
  {
   "cell_type": "code",
   "execution_count": 40,
   "metadata": {},
   "outputs": [],
   "source": [
    "subnet = subnet[subnet.endg.isin(de_and_net_genes)].copy()\n"
   ]
  },
  {
   "cell_type": "code",
   "execution_count": 44,
   "metadata": {},
   "outputs": [],
   "source": [
    "\n",
    "for gene in de_and_net_genes:\n",
    "    subsubnet = subnet[subnet.startg == gene]\n",
    "    subsubnet = subsubnet[subsubnet.endg != gene]\n",
    "    df.at[gene, 'avg_shortest_distance'] = subsubnet.num_connector_genes.mean()"
   ]
  },
  {
   "cell_type": "code",
   "execution_count": 49,
   "metadata": {},
   "outputs": [],
   "source": [
    "df.to_csv('gde2gde.tsv', sep='\\t', index=False)"
   ]
  },
  {
   "cell_type": "code",
   "execution_count": null,
   "metadata": {},
   "outputs": [],
   "source": []
  }
 ],
 "metadata": {
  "kernelspec": {
   "display_name": "Python 3",
   "language": "python",
   "name": "python3"
  },
  "language_info": {
   "codemirror_mode": {
    "name": "ipython",
    "version": 3
   },
   "file_extension": ".py",
   "mimetype": "text/x-python",
   "name": "python",
   "nbconvert_exporter": "python",
   "pygments_lexer": "ipython3",
   "version": "3.7.3"
  }
 },
 "nbformat": 4,
 "nbformat_minor": 4
}
