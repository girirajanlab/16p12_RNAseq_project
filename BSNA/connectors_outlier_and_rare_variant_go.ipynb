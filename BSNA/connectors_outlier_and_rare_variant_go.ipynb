{
 "cells": [
  {
   "cell_type": "code",
   "execution_count": 1,
   "metadata": {},
   "outputs": [],
   "source": [
    "import pandas as pd\n",
    "import numpy as np\n",
    "\n",
    "pd.set_option('display.max_rows', 100)\n",
    "pd.set_option('display.max_columns', 100)"
   ]
  },
  {
   "cell_type": "code",
   "execution_count": 2,
   "metadata": {},
   "outputs": [
    {
     "name": "stderr",
     "output_type": "stream",
     "text": [
      "/usr/local/lib/python3.7/dist-packages/IPython/core/interactiveshell.py:3058: DtypeWarning: Columns (5) have mixed types.Specify dtype option on import or set low_memory=False.\n",
      "  interactivity=interactivity, compiler=compiler, result=result)\n"
     ]
    }
   ],
   "source": [
    "mapp = pd.read_csv('../data/gene_names_mapping_new.tsv', sep='\\t')\n",
    "mapp = mapp.set_index('ensembl', drop=False)\n",
    "\n",
    "pmapp = mapp[mapp.biotype == 'protein_coding'].copy()\n",
    "\n",
    "pheno = pd.read_csv('../data/pheno_final.tsv', sep='\\t')\n",
    "pheno = pheno.drop_duplicates('subject')\n",
    "pheno = pheno.set_index('subject', drop=False)"
   ]
  },
  {
   "cell_type": "code",
   "execution_count": 5,
   "metadata": {},
   "outputs": [],
   "source": [
    "outs = pd.read_csv('Supp_table_all_variants.SVs_included.csv')"
   ]
  },
  {
   "cell_type": "code",
   "execution_count": 3,
   "metadata": {},
   "outputs": [],
   "source": [
    "from scipy.stats import fisher_exact\n",
    "from statsmodels.stats.multitest import multipletests\n",
    "\n",
    "def go_overrepresentation(genes_of_interest, reference_genes):\n",
    "    obo = pd.read_csv('genes2go.tsv', sep='\\t')\n",
    "\n",
    "    go2des = obo[['go', 'description']].copy()\n",
    "    go2des = go2des.drop_duplicates('go').copy()\n",
    "    go2des = go2des.set_index('go', drop=False)\n",
    "    \n",
    "    # keep only those in reference genes\n",
    "    obo = obo[obo['genes'].isin(reference_genes)]\n",
    "    obo_genes = list(obo['genes'].unique())\n",
    "    num_total_genes = len(obo_genes)\n",
    "\n",
    "    # keep only those with annotations\n",
    "    inn = []\n",
    "    for s in genes_of_interest:\n",
    "        if s in obo_genes:\n",
    "            inn.append(s)\n",
    "    genes_of_interest = inn\n",
    "    \n",
    "    # create dict go of terms to genes\n",
    "    go_dict = {}\n",
    "    for go_term, df in obo.groupby('go'):\n",
    "        go_dict[go_term] = df.genes.to_list()\n",
    "        \n",
    "    \n",
    "    output = []\n",
    "    for go_term in go_dict.keys():    \n",
    "        go_genes = go_dict[go_term]\n",
    "        num_genes_in_go = len(go_genes)\n",
    "        num_genes_not_in_go = num_total_genes - num_genes_in_go\n",
    "\n",
    "        goi_and_go = 0\n",
    "        goi_and_not_go = 0\n",
    "        for s in genes_of_interest:\n",
    "            if s in go_genes:\n",
    "                goi_and_go = goi_and_go + 1\n",
    "            else:\n",
    "                goi_and_not_go = goi_and_not_go + 1\n",
    "\n",
    "        not_goi_and_go = num_genes_in_go - goi_and_go\n",
    "        not_goi_and_not_go = num_genes_not_in_go - goi_and_not_go\n",
    "        oddsratio, pvalue = fisher_exact([[goi_and_go, goi_and_not_go], [not_goi_and_go, not_goi_and_not_go]])\n",
    "\n",
    "        to_append = [go_term, goi_and_go, goi_and_not_go, not_goi_and_go, not_goi_and_not_go, oddsratio, pvalue]\n",
    "        output.append(to_append)\n",
    "        \n",
    "    out = pd.DataFrame(output)\n",
    "    out = out.sort_values(6)\n",
    "    out = out.set_index(0, drop=False)\n",
    "    out['des'] = go2des.loc[out[0], 'description']\n",
    "    out['FDR'] = multipletests(out[6], method='fdr_bh')[1]\n",
    "    return out    "
   ]
  },
  {
   "cell_type": "code",
   "execution_count": 7,
   "metadata": {},
   "outputs": [],
   "source": [
    "net = pd.read_csv('output/{}_nearest_neighbor_weighted.txt'.format('UQCRC2'), sep='\\t')\n",
    "net = net.set_index('End gene', drop=False)\n",
    "end_genes = net['End gene'].to_list()\n",
    "ref = end_genes"
   ]
  },
  {
   "cell_type": "code",
   "execution_count": 33,
   "metadata": {
    "collapsed": true,
    "jupyter": {
     "outputs_hidden": true
    }
   },
   "outputs": [
    {
     "name": "stdout",
     "output_type": "stream",
     "text": [
      "SG001 (755, 9)\n",
      "SG003 (198, 9)\n",
      "SG006 (883, 9)\n",
      "SG007 (1019, 9)\n",
      "SG002 (1186, 9)\n",
      "SG011 (491, 9)\n",
      "SG025 (600, 9)\n",
      "SG022 (518, 9)\n",
      "SG024 (665, 9)\n",
      "SG021 (899, 9)\n",
      "SG023 (756, 9)\n",
      "SG026 (727, 9)\n",
      "SG155 (893, 9)\n",
      "SG030 (739, 9)\n",
      "SG027 (826, 9)\n",
      "SG031 (1026, 9)\n",
      "SG069 (1131, 9)\n",
      "SG040 (906, 9)\n",
      "SG039 (1145, 9)\n",
      "SG038 (956, 9)\n",
      "SG037 (934, 9)\n",
      "SG045 (1072, 9)\n",
      "SG046 (833, 9)\n",
      "SG041 (560, 9)\n",
      "SG042 (785, 9)\n",
      "SG043 (1171, 9)\n",
      "SG044 (1086, 9)\n",
      "SG151 (1062, 9)\n",
      "SG149 (919, 9)\n",
      "SG148 (851, 9)\n",
      "SG152 (1106, 9)\n",
      "SG150 (1154, 9)\n"
     ]
    }
   ],
   "source": [
    "for sub in outs['sample'].unique():\n",
    "    with open('cohort_connectors/{}.outlier_and_rare_variant_connectors.txt'.format(sub), 'r') as f:\n",
    "        genes = f.readlines()\n",
    "    genes = [s.strip() for s in genes]\n",
    "    go = goslim_overrepresentation(genes, ref)\n",
    "\n",
    "    print(sub, go[go.FDR < 0.5].shape)\n",
    "\n",
    "        \n",
    "    go.to_csv('cohort_connectors/{}.outlier_and_rare_variant_connectors_goslim.txt'.format(sub), sep='\\t', index=False)"
   ]
  },
  {
   "cell_type": "code",
   "execution_count": null,
   "metadata": {},
   "outputs": [],
   "source": []
  }
 ],
 "metadata": {
  "kernelspec": {
   "display_name": "Python 3",
   "language": "python",
   "name": "python3"
  },
  "language_info": {
   "codemirror_mode": {
    "name": "ipython",
    "version": 3
   },
   "file_extension": ".py",
   "mimetype": "text/x-python",
   "name": "python",
   "nbconvert_exporter": "python",
   "pygments_lexer": "ipython3",
   "version": "3.7.3"
  }
 },
 "nbformat": 4,
 "nbformat_minor": 4
}
