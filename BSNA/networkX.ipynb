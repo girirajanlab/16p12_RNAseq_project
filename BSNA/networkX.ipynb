{
 "cells": [
  {
   "cell_type": "code",
   "execution_count": 1,
   "metadata": {},
   "outputs": [],
   "source": [
    "#This script takes an individual gene as standard input (gene name and Entrez ID), and outputs the shortest distance to every other gene in the network, \n",
    "#as well as the genes located in the shortest path between the two target genes. \n",
    "#For example, to find the connectivity of POLR3E (Entrez ID 55718) to all other genes in the genome, one would run:\n",
    "#python nearest_neighbor_weighted_allgenes.py POLR3E_55718\n",
    "\n",
    "#Import modules\n",
    "import networkx\n",
    "import pandas as pd"
   ]
  },
  {
   "cell_type": "code",
   "execution_count": 2,
   "metadata": {},
   "outputs": [],
   "source": [
    "networ_file_path = '/data/3q29_network/RNASeq_network/brain.degnorm-ge2.prob-gept02.dat'\n",
    "gene_file_path   = '/data/3q29_network/RNASeq_network/brain.genes.protein-coding.txt'\n",
    "#Open network file (fromat: Entrez_ID_1, Entrez_ID_2, Weighted_connectivity) and list of genes in network (Entrez IDs in column 1, gene names in column 3)\n",
    "df_network = pd.read_csv(networ_file_path, sep='\\t', header=None, names=['gene1','gene2', 'weight'])\n",
    "df_gene = pd.read_csv(gene_file_path, sep='\\t', header=None, \n",
    "                      names=['entrez', '1', 'symbol', 'chrom', 'start', 'stop'])"
   ]
  },
  {
   "cell_type": "code",
   "execution_count": 3,
   "metadata": {},
   "outputs": [],
   "source": [
    "df_gene.entrez = df_gene.entrez.astype(str)\n",
    "df_gene = df_gene.set_index('entrez', drop=False)"
   ]
  },
  {
   "cell_type": "code",
   "execution_count": 4,
   "metadata": {},
   "outputs": [],
   "source": [
    "df_network.gene1 = df_network.gene1.astype(str)\n",
    "df_network.gene2 = df_network.gene2.astype(str)"
   ]
  },
  {
   "cell_type": "code",
   "execution_count": 5,
   "metadata": {},
   "outputs": [],
   "source": [
    "#Populate list of protein-coding genes in the network, and dictionary for Entrez-gene symbol conversion\n",
    "\n",
    "coding_genes = df_gene.entrez.tolist()\n",
    "entrez_dict = df_gene['symbol'].to_dict()"
   ]
  },
  {
   "cell_type": "code",
   "execution_count": 8,
   "metadata": {},
   "outputs": [],
   "source": [
    "#Populate network data for each gene with NetworkX\n",
    "network_graph=networkx.Graph()\n",
    "for i in df_network.index:\n",
    "    node1=df_network.at[i, 'gene1']\n",
    "    node2=df_network.at[i, 'gene2']\n",
    "    weight=1/float(df_network.at[i, 'weight']) #Take inverse of weight for edge lengths\n",
    "\n",
    "    #Add edge to NetworkX network if both genes are in protein-coding list\n",
    "    if node1 in coding_genes:\n",
    "        if node2 in coding_genes:\n",
    "            network_graph.add_edge(node1,node2,weight=weight)"
   ]
  },
  {
   "cell_type": "code",
   "execution_count": 14,
   "metadata": {},
   "outputs": [],
   "source": [
    "nodes = list(network_graph.nodes)"
   ]
  },
  {
   "cell_type": "code",
   "execution_count": 15,
   "metadata": {
    "collapsed": true,
    "jupyter": {
     "outputs_hidden": true
    }
   },
   "outputs": [
    {
     "name": "stdout",
     "output_type": "stream",
     "text": [
      "6400/18827\n",
      "6500/18827\n"
     ]
    },
    {
     "ename": "KeyboardInterrupt",
     "evalue": "",
     "output_type": "error",
     "traceback": [
      "\u001b[0;31m---------------------------------------------------------------------------\u001b[0m",
      "\u001b[0;31mKeyboardInterrupt\u001b[0m                         Traceback (most recent call last)",
      "\u001b[0;32m<ipython-input-15-2520add2a9f3>\u001b[0m in \u001b[0;36m<module>\u001b[0;34m\u001b[0m\n\u001b[1;32m      9\u001b[0m         \u001b[0;32mcontinue\u001b[0m\u001b[0;34m\u001b[0m\u001b[0;34m\u001b[0m\u001b[0m\n\u001b[1;32m     10\u001b[0m \u001b[0;34m\u001b[0m\u001b[0m\n\u001b[0;32m---> 11\u001b[0;31m     \u001b[0mresults\u001b[0m \u001b[0;34m=\u001b[0m \u001b[0mnetworkx\u001b[0m\u001b[0;34m.\u001b[0m\u001b[0msingle_source_dijkstra\u001b[0m\u001b[0;34m(\u001b[0m\u001b[0mnetwork_graph\u001b[0m\u001b[0;34m,\u001b[0m \u001b[0mgene_start_target\u001b[0m\u001b[0;34m)\u001b[0m\u001b[0;34m\u001b[0m\u001b[0;34m\u001b[0m\u001b[0m\n\u001b[0m\u001b[1;32m     12\u001b[0m     \u001b[0mlengths\u001b[0m \u001b[0;34m=\u001b[0m \u001b[0mresults\u001b[0m\u001b[0;34m[\u001b[0m\u001b[0;36m0\u001b[0m\u001b[0;34m]\u001b[0m\u001b[0;34m\u001b[0m\u001b[0;34m\u001b[0m\u001b[0m\n\u001b[1;32m     13\u001b[0m     \u001b[0mconnections\u001b[0m \u001b[0;34m=\u001b[0m \u001b[0mresults\u001b[0m\u001b[0;34m[\u001b[0m\u001b[0;36m1\u001b[0m\u001b[0;34m]\u001b[0m\u001b[0;34m\u001b[0m\u001b[0;34m\u001b[0m\u001b[0m\n",
      "\u001b[0;32m/usr/local/lib/python3.7/dist-packages/networkx/algorithms/shortest_paths/weighted.py\u001b[0m in \u001b[0;36msingle_source_dijkstra\u001b[0;34m(G, source, target, cutoff, weight)\u001b[0m\n\u001b[1;32m    478\u001b[0m     \"\"\"\n\u001b[1;32m    479\u001b[0m     return multi_source_dijkstra(G, {source}, cutoff=cutoff, target=target,\n\u001b[0;32m--> 480\u001b[0;31m                                  weight=weight)\n\u001b[0m\u001b[1;32m    481\u001b[0m \u001b[0;34m\u001b[0m\u001b[0m\n\u001b[1;32m    482\u001b[0m \u001b[0;34m\u001b[0m\u001b[0m\n",
      "\u001b[0;32m/usr/local/lib/python3.7/dist-packages/networkx/algorithms/shortest_paths/weighted.py\u001b[0m in \u001b[0;36mmulti_source_dijkstra\u001b[0;34m(G, sources, target, cutoff, weight)\u001b[0m\n\u001b[1;32m    738\u001b[0m     \u001b[0mpaths\u001b[0m \u001b[0;34m=\u001b[0m \u001b[0;34m{\u001b[0m\u001b[0msource\u001b[0m\u001b[0;34m:\u001b[0m \u001b[0;34m[\u001b[0m\u001b[0msource\u001b[0m\u001b[0;34m]\u001b[0m \u001b[0;32mfor\u001b[0m \u001b[0msource\u001b[0m \u001b[0;32min\u001b[0m \u001b[0msources\u001b[0m\u001b[0;34m}\u001b[0m  \u001b[0;31m# dictionary of paths\u001b[0m\u001b[0;34m\u001b[0m\u001b[0;34m\u001b[0m\u001b[0m\n\u001b[1;32m    739\u001b[0m     dist = _dijkstra_multisource(G, sources, weight, paths=paths,\n\u001b[0;32m--> 740\u001b[0;31m                                  cutoff=cutoff, target=target)\n\u001b[0m\u001b[1;32m    741\u001b[0m     \u001b[0;32mif\u001b[0m \u001b[0mtarget\u001b[0m \u001b[0;32mis\u001b[0m \u001b[0;32mNone\u001b[0m\u001b[0;34m:\u001b[0m\u001b[0;34m\u001b[0m\u001b[0;34m\u001b[0m\u001b[0m\n\u001b[1;32m    742\u001b[0m         \u001b[0;32mreturn\u001b[0m \u001b[0;34m(\u001b[0m\u001b[0mdist\u001b[0m\u001b[0;34m,\u001b[0m \u001b[0mpaths\u001b[0m\u001b[0;34m)\u001b[0m\u001b[0;34m\u001b[0m\u001b[0;34m\u001b[0m\u001b[0m\n",
      "\u001b[0;32m/usr/local/lib/python3.7/dist-packages/networkx/algorithms/shortest_paths/weighted.py\u001b[0m in \u001b[0;36m_dijkstra_multisource\u001b[0;34m(G, sources, weight, pred, paths, cutoff, target)\u001b[0m\n\u001b[1;32m    834\u001b[0m             \u001b[0;32mbreak\u001b[0m\u001b[0;34m\u001b[0m\u001b[0;34m\u001b[0m\u001b[0m\n\u001b[1;32m    835\u001b[0m         \u001b[0;32mfor\u001b[0m \u001b[0mu\u001b[0m\u001b[0;34m,\u001b[0m \u001b[0me\u001b[0m \u001b[0;32min\u001b[0m \u001b[0mG_succ\u001b[0m\u001b[0;34m[\u001b[0m\u001b[0mv\u001b[0m\u001b[0;34m]\u001b[0m\u001b[0;34m.\u001b[0m\u001b[0mitems\u001b[0m\u001b[0;34m(\u001b[0m\u001b[0;34m)\u001b[0m\u001b[0;34m:\u001b[0m\u001b[0;34m\u001b[0m\u001b[0;34m\u001b[0m\u001b[0m\n\u001b[0;32m--> 836\u001b[0;31m             \u001b[0mcost\u001b[0m \u001b[0;34m=\u001b[0m \u001b[0mweight\u001b[0m\u001b[0;34m(\u001b[0m\u001b[0mv\u001b[0m\u001b[0;34m,\u001b[0m \u001b[0mu\u001b[0m\u001b[0;34m,\u001b[0m \u001b[0me\u001b[0m\u001b[0;34m)\u001b[0m\u001b[0;34m\u001b[0m\u001b[0;34m\u001b[0m\u001b[0m\n\u001b[0m\u001b[1;32m    837\u001b[0m             \u001b[0;32mif\u001b[0m \u001b[0mcost\u001b[0m \u001b[0;32mis\u001b[0m \u001b[0;32mNone\u001b[0m\u001b[0;34m:\u001b[0m\u001b[0;34m\u001b[0m\u001b[0;34m\u001b[0m\u001b[0m\n\u001b[1;32m    838\u001b[0m                 \u001b[0;32mcontinue\u001b[0m\u001b[0;34m\u001b[0m\u001b[0;34m\u001b[0m\u001b[0m\n",
      "\u001b[0;32m/usr/local/lib/python3.7/dist-packages/networkx/algorithms/shortest_paths/weighted.py\u001b[0m in \u001b[0;36m<lambda>\u001b[0;34m(u, v, data)\u001b[0m\n\u001b[1;32m     85\u001b[0m     \u001b[0;32mif\u001b[0m \u001b[0mG\u001b[0m\u001b[0;34m.\u001b[0m\u001b[0mis_multigraph\u001b[0m\u001b[0;34m(\u001b[0m\u001b[0;34m)\u001b[0m\u001b[0;34m:\u001b[0m\u001b[0;34m\u001b[0m\u001b[0;34m\u001b[0m\u001b[0m\n\u001b[1;32m     86\u001b[0m         \u001b[0;32mreturn\u001b[0m \u001b[0;32mlambda\u001b[0m \u001b[0mu\u001b[0m\u001b[0;34m,\u001b[0m \u001b[0mv\u001b[0m\u001b[0;34m,\u001b[0m \u001b[0md\u001b[0m\u001b[0;34m:\u001b[0m \u001b[0mmin\u001b[0m\u001b[0;34m(\u001b[0m\u001b[0mattr\u001b[0m\u001b[0;34m.\u001b[0m\u001b[0mget\u001b[0m\u001b[0;34m(\u001b[0m\u001b[0mweight\u001b[0m\u001b[0;34m,\u001b[0m \u001b[0;36m1\u001b[0m\u001b[0;34m)\u001b[0m \u001b[0;32mfor\u001b[0m \u001b[0mattr\u001b[0m \u001b[0;32min\u001b[0m \u001b[0md\u001b[0m\u001b[0;34m.\u001b[0m\u001b[0mvalues\u001b[0m\u001b[0;34m(\u001b[0m\u001b[0;34m)\u001b[0m\u001b[0;34m)\u001b[0m\u001b[0;34m\u001b[0m\u001b[0;34m\u001b[0m\u001b[0m\n\u001b[0;32m---> 87\u001b[0;31m     \u001b[0;32mreturn\u001b[0m \u001b[0;32mlambda\u001b[0m \u001b[0mu\u001b[0m\u001b[0;34m,\u001b[0m \u001b[0mv\u001b[0m\u001b[0;34m,\u001b[0m \u001b[0mdata\u001b[0m\u001b[0;34m:\u001b[0m \u001b[0mdata\u001b[0m\u001b[0;34m.\u001b[0m\u001b[0mget\u001b[0m\u001b[0;34m(\u001b[0m\u001b[0mweight\u001b[0m\u001b[0;34m,\u001b[0m \u001b[0;36m1\u001b[0m\u001b[0;34m)\u001b[0m\u001b[0;34m\u001b[0m\u001b[0;34m\u001b[0m\u001b[0m\n\u001b[0m\u001b[1;32m     88\u001b[0m \u001b[0;34m\u001b[0m\u001b[0m\n\u001b[1;32m     89\u001b[0m \u001b[0;34m\u001b[0m\u001b[0m\n",
      "\u001b[0;31mKeyboardInterrupt\u001b[0m: "
     ]
    }
   ],
   "source": [
    "total = df_gene.shape[0]\n",
    "\n",
    "for gene_start_target in df_gene.index:\n",
    "    if i % 100 == 0:\n",
    "        print('{}/{}'.format(i, total))\n",
    "    i = i + 1\n",
    "    \n",
    "    gene_start_symbol = df_gene.at[gene_start_target, 'symbol']\n",
    "    if gene_start_target not in nodes:\n",
    "        continue\n",
    "\n",
    "    results = networkx.single_source_dijkstra(network_graph, gene_start_target)\n",
    "    lengths = results[0]\n",
    "    connections = results[1]\n",
    "\n",
    "\n",
    "    output = []\n",
    "    output.append('\\t'.join([\"Start gene\",\"End gene\",\"Shortest distance\",\"Number of connector genes\",\"Connector genes\"]) + '\\n')\n",
    "\n",
    "    for key in list(lengths.keys()):\n",
    "        line = [gene_start_symbol]\n",
    "\n",
    "        gene_end_symbol = entrez_dict[key]\n",
    "        line.append(gene_end_symbol)\n",
    "        line.append('{0:4f}'.format(lengths[key]))\n",
    "        line.append('{}'.format(len(connections[key])-2))\n",
    "\n",
    "        connector_symbols = []\n",
    "        for connector_entrez in connections[key]:\n",
    "            connector_symbols.append(entrez_dict[connector_entrez])\n",
    "\n",
    "        if len(connector_symbols[1:-1]) > 0:\n",
    "            connector_symbols = ','.join(connector_symbols[1:-1])\n",
    "        else:\n",
    "            connector_symbols = ''\n",
    "        line.append(connector_symbols)\n",
    "        line = '\\t'.join(line) + '\\n'\n",
    "\n",
    "        output.append(line)\n",
    "\n",
    "    with open('test/{}_nearest_neighbor_weighted.txt'.format(gene_start_symbol), 'w') as f:\n",
    "        f.writelines(output)"
   ]
  },
  {
   "cell_type": "code",
   "execution_count": null,
   "metadata": {},
   "outputs": [],
   "source": []
  },
  {
   "cell_type": "code",
   "execution_count": null,
   "metadata": {},
   "outputs": [],
   "source": []
  },
  {
   "cell_type": "code",
   "execution_count": null,
   "metadata": {},
   "outputs": [],
   "source": []
  },
  {
   "cell_type": "code",
   "execution_count": 66,
   "metadata": {},
   "outputs": [],
   "source": []
  },
  {
   "cell_type": "code",
   "execution_count": null,
   "metadata": {},
   "outputs": [],
   "source": []
  },
  {
   "cell_type": "code",
   "execution_count": null,
   "metadata": {},
   "outputs": [],
   "source": []
  },
  {
   "cell_type": "code",
   "execution_count": null,
   "metadata": {},
   "outputs": [],
   "source": []
  }
 ],
 "metadata": {
  "kernelspec": {
   "display_name": "Python 3",
   "language": "python",
   "name": "python3"
  },
  "language_info": {
   "codemirror_mode": {
    "name": "ipython",
    "version": 3
   },
   "file_extension": ".py",
   "mimetype": "text/x-python",
   "name": "python",
   "nbconvert_exporter": "python",
   "pygments_lexer": "ipython3",
   "version": "3.7.3"
  }
 },
 "nbformat": 4,
 "nbformat_minor": 4
}
