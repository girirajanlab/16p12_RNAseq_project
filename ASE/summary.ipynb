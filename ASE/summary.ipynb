{
 "cells": [
  {
   "cell_type": "code",
   "execution_count": 1,
   "metadata": {},
   "outputs": [],
   "source": [
    "import pandas as pd\n",
    "from scipy.stats import binom_test\n"
   ]
  },
  {
   "cell_type": "code",
   "execution_count": 2,
   "metadata": {},
   "outputs": [],
   "source": [
    "pheno = pd.read_csv('../data/pheno_final.tsv', sep='\\t')\n",
    "pheno = pheno.drop_duplicates('subject')\n",
    "pheno = pheno.set_index('subject', drop=False)\n",
    "\n",
    "rel = pd.read_csv('../data/family_summaries.tsv', sep='\\t')\n",
    "rel = rel.set_index('subject', drop=False)"
   ]
  },
  {
   "cell_type": "code",
   "execution_count": 3,
   "metadata": {},
   "outputs": [],
   "source": [
    "ase = pd.read_csv('ase_cadd_annotated.tsv', sep='\\t')"
   ]
  },
  {
   "cell_type": "markdown",
   "metadata": {},
   "source": [
    "# inherited or de novo"
   ]
  },
  {
   "cell_type": "code",
   "execution_count": 4,
   "metadata": {},
   "outputs": [],
   "source": [
    "affected_child = ['SG001', 'SG011', 'SG021', 'SG026', 'SG155', 'SG041', 'SG042', 'SG037', 'SG148', 'SG022']\n",
    "carrier_parents = ['SG006', 'SG025', 'SG069', 'SG040', 'SG044', 'SG151']\n",
    "noncarrier_parents = ['SG007', 'SG024', 'SG027', 'SG039', 'SG043','SG152']\n",
    "\n",
    "df = pd.DataFrame(index = pheno.index)\n",
    "df['subject'] = df.index.to_series()\n",
    "df['family'] = pheno.loc[df.subject, 'family'].to_list()\n",
    "df['ase_count'] = 0\n",
    "df['ase_de_novo'] ='.'\n",
    "df['ase_inh_both'] = '.'\n",
    "df['ase_inh_cp'] = '.'\n",
    "df['ase_inh_ncp'] = '.'\n",
    "df['ase_deletrious_variant_overexpressed'] = 0\n",
    "\n",
    "for child in pheno.index:    \n",
    "    c_ase = ase[ase.subject == child].ensembl.to_list()\n",
    "    c_ase_cadd = ase[(ase.subject == child) & (ase.cadd_greater_than_25 == 'X')].ensembl.to_list()\n",
    "    \n",
    "    df.at[child, 'ase_count'] = len(c_ase)\n",
    "    df.at[child, 'ase_deletrious_variant_overexpressed'] = len(c_ase_cadd)\n",
    "    \n",
    "    if child not in rel.index:\n",
    "        continue\n",
    "    \n",
    "    cp = rel.at[child, 'carrier_parent']\n",
    "    ncp = rel.at[child, 'non_carrier_parent']\n",
    "    cp_ase = ase[ase.subject == cp].ensembl.to_list()\n",
    "    ncp_ase = ase[ase.subject == ncp].ensembl.to_list()\n",
    "    \n",
    "    denovo = []\n",
    "    icp = []\n",
    "    incp = []\n",
    "    iboth = []\n",
    "    for gene in c_ase:\n",
    "        if (gene in cp_ase) and (gene in ncp_ase):\n",
    "            iboth.append(gene)\n",
    "        elif gene in cp_ase:\n",
    "            icp.append(gene)\n",
    "        elif gene in ncp_ase:\n",
    "            incp.append(gene)\n",
    "        else:\n",
    "            denovo.append(gene)\n",
    "            \n",
    "    df.at[child, 'ase_de_novo'] = len(denovo)\n",
    "    df.at[child, 'ase_inh_both'] = len(iboth)\n",
    "    df.at[child, 'ase_inh_cp'] = len(icp)\n",
    "    df.at[child, 'ase_inh_ncp'] = len(incp)\n",
    "    \n"
   ]
  },
  {
   "cell_type": "code",
   "execution_count": 5,
   "metadata": {},
   "outputs": [],
   "source": [
    "\n",
    "df.to_csv('ase_summary.tsv', sep='\\t', index=False)"
   ]
  },
  {
   "cell_type": "code",
   "execution_count": null,
   "metadata": {},
   "outputs": [],
   "source": []
  }
 ],
 "metadata": {
  "kernelspec": {
   "display_name": "Python 3",
   "language": "python",
   "name": "python3"
  },
  "language_info": {
   "codemirror_mode": {
    "name": "ipython",
    "version": 3
   },
   "file_extension": ".py",
   "mimetype": "text/x-python",
   "name": "python",
   "nbconvert_exporter": "python",
   "pygments_lexer": "ipython3",
   "version": "3.7.3"
  }
 },
 "nbformat": 4,
 "nbformat_minor": 4
}
