{
 "cells": [
  {
   "cell_type": "code",
   "execution_count": 12,
   "metadata": {},
   "outputs": [],
   "source": [
    "import pandas as pd\n",
    "from scipy.stats import binom_test\n",
    "from statsmodels.stats.multitest import multipletests\n"
   ]
  },
  {
   "cell_type": "code",
   "execution_count": 13,
   "metadata": {},
   "outputs": [],
   "source": [
    "pheno = pd.read_csv('../data/pheno_final.tsv', sep='\\t')\n",
    "pheno = pheno.drop_duplicates('subject')\n",
    "pheno = pheno.set_index('subject', drop=False)\n",
    "\n",
    "mapp = pd.read_csv('../data/gene_names_mapping_new.tsv', sep='\\t')\n",
    "mapp = mapp.set_index('ensembl', drop=False)\n",
    "\n",
    "pmapp = mapp[mapp.biotype == 'protein_coding']\n",
    "\n",
    "rel = pd.read_csv('../data/family_summaries.tsv', sep='\\t')\n",
    "rel = rel.set_index('subject', drop=False)"
   ]
  },
  {
   "cell_type": "code",
   "execution_count": 14,
   "metadata": {},
   "outputs": [],
   "source": [
    "ase = pd.DataFrame()\n",
    "\n",
    "for sub in pheno.index:\n",
    "    app = pd.read_csv('../../ase_no_replicates/output/{}.gene_ae.txt'.format(sub), sep='\\t') \n",
    "    app['subject'] = sub\n",
    "    ase = ase.append(app)\n",
    "    \n",
    "ase = ase.reset_index(drop=True)"
   ]
  },
  {
   "cell_type": "code",
   "execution_count": 15,
   "metadata": {},
   "outputs": [],
   "source": [
    "# add ensembl name\n",
    "ase['ensembl'] = ase.name.apply(lambda s: s.split('.')[0])"
   ]
  },
  {
   "cell_type": "code",
   "execution_count": 16,
   "metadata": {},
   "outputs": [],
   "source": [
    "# https://www.ncbi.nlm.nih.gov/pmc/articles/PMC6119105/\n",
    "# Only variants with at least 10 reads were used.\n",
    "\n",
    "ase = ase[ase.totalCount > 10].copy()"
   ]
  },
  {
   "cell_type": "code",
   "execution_count": 17,
   "metadata": {},
   "outputs": [],
   "source": [
    "# binomial test\n",
    "\n",
    "ase['p'] = ase.apply(lambda row : binom_test(row.aCount, row.totalCount, p=0.5), axis=1)"
   ]
  },
  {
   "cell_type": "code",
   "execution_count": 18,
   "metadata": {},
   "outputs": [],
   "source": [
    "# FDR correction for each sample\n",
    "ase['FDR'] = '.'\n",
    "for sub in ase.subject.unique():\n",
    "    subase = ase[ase.subject == sub]\n",
    "    subindex = subase.index\n",
    "    fdrs = multipletests(subase['p'], method='fdr_bh')[1]\n",
    "    ase.loc[subindex, 'FDR'] = fdrs\n"
   ]
  },
  {
   "cell_type": "code",
   "execution_count": 20,
   "metadata": {},
   "outputs": [],
   "source": [
    "# ase.to_csv('ase_all.tsv', sep='\\t', index=False)"
   ]
  },
  {
   "cell_type": "code",
   "execution_count": 8,
   "metadata": {},
   "outputs": [],
   "source": [
    "# significance filter\n",
    "\n",
    "ase_sig = ase[ase.FDR < 0.05]"
   ]
  },
  {
   "cell_type": "code",
   "execution_count": 9,
   "metadata": {},
   "outputs": [],
   "source": [
    "# protein coding only\n",
    "\n",
    "ase_sig = ase_sig[ase_sig.ensembl.isin(pmapp.ensembl.to_list())].copy()"
   ]
  },
  {
   "cell_type": "code",
   "execution_count": 10,
   "metadata": {},
   "outputs": [],
   "source": [
    "# add gene name\n",
    "\n",
    "ase_sig['gene'] = mapp.loc[ase_sig.ensembl.to_list(), 'Description'].to_list()"
   ]
  },
  {
   "cell_type": "code",
   "execution_count": 11,
   "metadata": {},
   "outputs": [],
   "source": [
    "ase_sig.to_csv('ase.tsv', sep='\\t', index=False)"
   ]
  },
  {
   "cell_type": "code",
   "execution_count": null,
   "metadata": {},
   "outputs": [],
   "source": []
  },
  {
   "cell_type": "code",
   "execution_count": null,
   "metadata": {},
   "outputs": [],
   "source": []
  },
  {
   "cell_type": "code",
   "execution_count": null,
   "metadata": {},
   "outputs": [],
   "source": []
  },
  {
   "cell_type": "code",
   "execution_count": null,
   "metadata": {},
   "outputs": [],
   "source": []
  }
 ],
 "metadata": {
  "kernelspec": {
   "display_name": "Python 3",
   "language": "python",
   "name": "python3"
  },
  "language_info": {
   "codemirror_mode": {
    "name": "ipython",
    "version": 3
   },
   "file_extension": ".py",
   "mimetype": "text/x-python",
   "name": "python",
   "nbconvert_exporter": "python",
   "pygments_lexer": "ipython3",
   "version": "3.7.3"
  }
 },
 "nbformat": 4,
 "nbformat_minor": 4
}
