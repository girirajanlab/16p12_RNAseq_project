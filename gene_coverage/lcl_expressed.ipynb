{
 "cells": [
  {
   "cell_type": "code",
   "execution_count": 1,
   "metadata": {},
   "outputs": [],
   "source": [
    "import pandas as pd\n",
    "import seaborn as sns\n",
    "import matplotlib.pyplot as plt\n",
    "import numpy as np"
   ]
  },
  {
   "cell_type": "code",
   "execution_count": 2,
   "metadata": {},
   "outputs": [
    {
     "name": "stderr",
     "output_type": "stream",
     "text": [
      "/usr/local/lib/python3.7/dist-packages/IPython/core/interactiveshell.py:3058: DtypeWarning: Columns (5) have mixed types.Specify dtype option on import or set low_memory=False.\n",
      "  interactivity=interactivity, compiler=compiler, result=result)\n"
     ]
    }
   ],
   "source": [
    "reads = pd.read_csv('../data/16p12_lcl_gene_reads_underscores.gct', sep='\\t')\n",
    "tpm   = pd.read_csv('../data/16p12_lcl_gene_tpm_underscores.gct', sep='\\t')\n",
    "mapp  = pd.read_csv('../data/gene_names_mapping_new.tsv', sep='\\t')\n",
    "dis   = pd.read_csv('../data/disease_genes_map.tsv', sep='\\t')\n",
    "\n",
    "rel = pd.read_csv('../data/family_summaries.tsv', sep='\\t')\n",
    "pheno = pd.read_csv('../data/pheno_final.tsv', sep='\\t')"
   ]
  },
  {
   "cell_type": "code",
   "execution_count": 3,
   "metadata": {},
   "outputs": [],
   "source": [
    "rel = rel.set_index('subject', drop=False)\n",
    "pheno = pheno.set_index('sample', drop=False)"
   ]
  },
  {
   "cell_type": "code",
   "execution_count": 4,
   "metadata": {},
   "outputs": [],
   "source": [
    "dis = dis.set_index('ensembl', drop=False)\n",
    "mapp = mapp.set_index('ensembl', drop=False)\n",
    "\n",
    "reads['Name'] = reads['Name'].apply(lambda s: s.split('.')[0])\n",
    "reads = reads.set_index('Name')\n",
    "\n",
    "tpm['Name'] = tpm['Name'].apply(lambda s: s.split('.')[0])\n",
    "tpm = tpm.set_index('Name')\n",
    "tpm = tpm.drop('Description', axis=1)\n",
    "\n",
    "dis_dbs = ['Developmental_delay_DDD','DBD','DDDG2P','SFARI_Gene','Purcell_Schiz']"
   ]
  },
  {
   "cell_type": "code",
   "execution_count": 5,
   "metadata": {},
   "outputs": [],
   "source": [
    "subjects = list(pheno.subject.unique())\n",
    "subject_to_samples = {}\n",
    "for subject in subjects:\n",
    "    samples = pheno[pheno.subject == subject]['sample'].to_list()\n",
    "    subject_to_samples[subject] = samples\n",
    "\n",
    "def is_good_coverage_tpm(r):\n",
    "    gene = r.name\n",
    "    min_tpm = 0.2\n",
    "    for subject in subjects:\n",
    "        samples = subject_to_samples[subject]\n",
    "        sub_tpms = r[samples]\n",
    "#         print(sub_tpms)\n",
    "        if (sub_tpms > .2).sum() == 3:\n",
    "            return True\n",
    "    return False\n",
    "\n",
    "covered = tpm.T.apply(lambda r: is_good_coverage_tpm(r))"
   ]
  },
  {
   "cell_type": "code",
   "execution_count": 8,
   "metadata": {},
   "outputs": [],
   "source": [
    "genes_covered = covered[covered].index.tolist()"
   ]
  },
  {
   "cell_type": "code",
   "execution_count": 10,
   "metadata": {},
   "outputs": [
    {
     "data": {
      "text/plain": [
       "24340"
      ]
     },
     "execution_count": 10,
     "metadata": {},
     "output_type": "execute_result"
    }
   ],
   "source": [
    "len(genes_covered)"
   ]
  },
  {
   "cell_type": "code",
   "execution_count": 11,
   "metadata": {},
   "outputs": [
    {
     "data": {
      "text/plain": [
       "(56202, 96)"
      ]
     },
     "execution_count": 11,
     "metadata": {},
     "output_type": "execute_result"
    }
   ],
   "source": [
    "tpm.shape"
   ]
  },
  {
   "cell_type": "code",
   "execution_count": 12,
   "metadata": {},
   "outputs": [
    {
     "data": {
      "text/plain": [
       "0.4330806732856482"
      ]
     },
     "execution_count": 12,
     "metadata": {},
     "output_type": "execute_result"
    }
   ],
   "source": [
    "24340/56202"
   ]
  },
  {
   "cell_type": "code",
   "execution_count": 13,
   "metadata": {},
   "outputs": [],
   "source": [
    "with open('lcl_expressed.txt', 'w') as f:\n",
    "    for s in genes_covered:\n",
    "        f.write(s)\n",
    "        f.write('\\n')"
   ]
  },
  {
   "cell_type": "code",
   "execution_count": null,
   "metadata": {},
   "outputs": [],
   "source": []
  }
 ],
 "metadata": {
  "kernelspec": {
   "display_name": "Python 3",
   "language": "python",
   "name": "python3"
  },
  "language_info": {
   "codemirror_mode": {
    "name": "ipython",
    "version": 3
   },
   "file_extension": ".py",
   "mimetype": "text/x-python",
   "name": "python",
   "nbconvert_exporter": "python",
   "pygments_lexer": "ipython3",
   "version": "3.7.3"
  }
 },
 "nbformat": 4,
 "nbformat_minor": 4
}
