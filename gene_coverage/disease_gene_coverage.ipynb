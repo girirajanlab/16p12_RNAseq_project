{
 "cells": [
  {
   "cell_type": "code",
   "execution_count": 1,
   "metadata": {},
   "outputs": [],
   "source": [
    "import pandas as pd\n",
    "\n",
    "# plotting libraries\n",
    "import seaborn as sns\n",
    "import matplotlib.pyplot as plt\n",
    "import matplotlib\n",
    "\n",
    "matplotlib.rcParams['pdf.fonttype'] = 42\n",
    "matplotlib.rcParams['ps.fonttype'] = 42\n",
    "%config InlineBackend.figure_format = 'retina'\n",
    "sns.set_style({'font.family':'sans-serif', 'font.sans-serif':'Arial'})\n",
    "from matplotlib.ticker import MultipleLocator\n"
   ]
  },
  {
   "cell_type": "code",
   "execution_count": 2,
   "metadata": {},
   "outputs": [
    {
     "name": "stderr",
     "output_type": "stream",
     "text": [
      "/usr/local/lib/python3.7/dist-packages/IPython/core/interactiveshell.py:3058: DtypeWarning: Columns (5) have mixed types.Specify dtype option on import or set low_memory=False.\n",
      "  interactivity=interactivity, compiler=compiler, result=result)\n"
     ]
    }
   ],
   "source": [
    "reads = pd.read_csv('../data/16p12_lcl_gene_reads_underscores.gct', sep='\\t')\n",
    "tpm   = pd.read_csv('../data/16p12_lcl_gene_tpm_underscores.gct', sep='\\t')\n",
    "mapp  = pd.read_csv('../data/gene_names_mapping_new.tsv', sep='\\t')\n",
    "dis   = pd.read_csv('../data/disease_genes_map.tsv', sep='\\t')"
   ]
  },
  {
   "cell_type": "code",
   "execution_count": 3,
   "metadata": {},
   "outputs": [],
   "source": [
    "dis = dis.set_index('ensembl', drop=False)\n",
    "mapp = mapp.set_index('ensembl', drop=False)\n",
    "\n",
    "reads['Name'] = reads['Name'].apply(lambda s: s.split('.')[0])\n",
    "reads = reads.set_index('Name')\n",
    "\n",
    "tpm['Name'] = tpm['Name'].apply(lambda s: s.split('.')[0])\n",
    "tpm = tpm.set_index('Name')\n",
    "tpm = tpm.drop('Description', axis=1)\n",
    "\n",
    "dis_dbs = ['Developmental_delay_DDD','DBD','DDDG2P','SFARI_Gene','Purcell_Schiz']"
   ]
  },
  {
   "cell_type": "code",
   "execution_count": 4,
   "metadata": {},
   "outputs": [],
   "source": [
    "genes_covered = pd.read_csv('lcl_expressed.txt', sep='\\t', header=None)\n",
    "genes_covered = list(genes_covered[0])"
   ]
  },
  {
   "cell_type": "code",
   "execution_count": 5,
   "metadata": {},
   "outputs": [
    {
     "data": {
      "text/plain": [
       "24340"
      ]
     },
     "execution_count": 5,
     "metadata": {},
     "output_type": "execute_result"
    }
   ],
   "source": [
    "len(genes_covered)"
   ]
  },
  {
   "cell_type": "code",
   "execution_count": 6,
   "metadata": {},
   "outputs": [],
   "source": [
    "def database_pretty_name(s):\n",
    "    if s == 'omim':\n",
    "        return 'OMIM'\n",
    "    if s == 'Developmental_delay_DDD':\n",
    "        return 'DDD'\n",
    "    if s == 'DBD':\n",
    "        return 'DBD'\n",
    "    if s == 'DDDG2P':\n",
    "        return 'DDDG2P'\n",
    "    if s == 'SFARI_Gene':\n",
    "        return 'SFARI'\n",
    "    if s == 'Purcell_Schiz':\n",
    "        return 'Purcell'\n",
    "    return 'na'"
   ]
  },
  {
   "cell_type": "code",
   "execution_count": 7,
   "metadata": {},
   "outputs": [
    {
     "data": {
      "text/html": [
       "<div>\n",
       "<style scoped>\n",
       "    .dataframe tbody tr th:only-of-type {\n",
       "        vertical-align: middle;\n",
       "    }\n",
       "\n",
       "    .dataframe tbody tr th {\n",
       "        vertical-align: top;\n",
       "    }\n",
       "\n",
       "    .dataframe thead th {\n",
       "        text-align: right;\n",
       "    }\n",
       "</style>\n",
       "<table border=\"1\" class=\"dataframe\">\n",
       "  <thead>\n",
       "    <tr style=\"text-align: right;\">\n",
       "      <th></th>\n",
       "      <th>total_genes</th>\n",
       "      <th>genes_covered</th>\n",
       "      <th>percent_cov</th>\n",
       "      <th>database</th>\n",
       "    </tr>\n",
       "  </thead>\n",
       "  <tbody>\n",
       "    <tr>\n",
       "      <th>omim</th>\n",
       "      <td>2920</td>\n",
       "      <td>2176</td>\n",
       "      <td>0.745205</td>\n",
       "      <td>OMIM</td>\n",
       "    </tr>\n",
       "    <tr>\n",
       "      <th>Developmental_delay_DDD</th>\n",
       "      <td>513</td>\n",
       "      <td>451</td>\n",
       "      <td>0.879142</td>\n",
       "      <td>DDD</td>\n",
       "    </tr>\n",
       "    <tr>\n",
       "      <th>DBD</th>\n",
       "      <td>468</td>\n",
       "      <td>369</td>\n",
       "      <td>0.788462</td>\n",
       "      <td>DBD</td>\n",
       "    </tr>\n",
       "    <tr>\n",
       "      <th>DDDG2P</th>\n",
       "      <td>1845</td>\n",
       "      <td>1511</td>\n",
       "      <td>0.818970</td>\n",
       "      <td>DDDG2P</td>\n",
       "    </tr>\n",
       "    <tr>\n",
       "      <th>SFARI_Gene</th>\n",
       "      <td>740</td>\n",
       "      <td>547</td>\n",
       "      <td>0.739189</td>\n",
       "      <td>SFARI</td>\n",
       "    </tr>\n",
       "    <tr>\n",
       "      <th>Purcell_Schiz</th>\n",
       "      <td>2294</td>\n",
       "      <td>1850</td>\n",
       "      <td>0.806452</td>\n",
       "      <td>Purcell</td>\n",
       "    </tr>\n",
       "  </tbody>\n",
       "</table>\n",
       "</div>"
      ],
      "text/plain": [
       "                         total_genes  genes_covered  percent_cov database\n",
       "omim                            2920           2176     0.745205     OMIM\n",
       "Developmental_delay_DDD          513            451     0.879142      DDD\n",
       "DBD                              468            369     0.788462      DBD\n",
       "DDDG2P                          1845           1511     0.818970   DDDG2P\n",
       "SFARI_Gene                       740            547     0.739189    SFARI\n",
       "Purcell_Schiz                   2294           1850     0.806452  Purcell"
      ]
     },
     "execution_count": 7,
     "metadata": {},
     "output_type": "execute_result"
    }
   ],
   "source": [
    "df = pd.DataFrame(columns = ['omim'] + dis_dbs).T\n",
    "df['total_genes'] = 0\n",
    "df['genes_covered'] = 0\n",
    "\n",
    "for db in dis_dbs:\n",
    "    db_genes = dis[dis[db] == 1].index.tolist()\n",
    "    df.at[db, 'total_genes']   = len(db_genes)\n",
    "    df.at[db, 'genes_covered'] = len(list(set(genes_covered) & set(db_genes)))\n",
    "\n",
    "omim_genes = mapp[~mapp['mim_morbid_description'].isna()].ensembl.tolist()\n",
    "df.at['omim', 'total_genes'] = len(omim_genes)\n",
    "df.at['omim', 'genes_covered'] = len(list(set(genes_covered) & set(omim_genes)))\n",
    "\n",
    "df['percent_cov'] = df['genes_covered'] / df['total_genes']\n",
    "df['database'] = df.index.to_series().apply(database_pretty_name)\n",
    "\n",
    "\n",
    "df"
   ]
  },
  {
   "cell_type": "code",
   "execution_count": 8,
   "metadata": {},
   "outputs": [
    {
     "data": {
      "image/png": "[encoded data removed]",
      "text/plain": [
       "<Figure size 360x360 with 1 Axes>"
      ]
     },
     "metadata": {
      "image/png": {
       "height": 329,
       "width": 344
      },
      "needs_background": "light"
     },
     "output_type": "display_data"
    }
   ],
   "source": [
    "plt.figure(figsize=(5,5))\n",
    "sns.set_context('paper', font_scale=1)\n",
    "\n",
    "g = sns.barplot(\n",
    "    data=df, \n",
    "    x='percent_cov', \n",
    "    y='database',\n",
    "    color='#5C92BE'\n",
    ")\n",
    "\n",
    "g.set_ylabel(None)\n",
    "g.set_xlabel('Percentage of genes expressed in samples')\n",
    "g.set_title('Genes expressed in samples by disease gene database')\n",
    "\n",
    "g.set_xlim([0,1])\n",
    "g.get_xaxis().set_major_locator(matplotlib.ticker.MultipleLocator(.2))\n",
    "g.get_xaxis().set_minor_locator(matplotlib.ticker.MultipleLocator(.05))\n",
    "\n",
    "for i in range(len(df.index)):\n",
    "    ind = df.index[i]\n",
    "    text = '{0:.0%}'.format(df.at[ind, 'percent_cov'])\n",
    "    g.text(.4, i+.1, text, color='white')\n",
    "\n",
    "# plt.tight_layout()\n",
    "plt.savefig('figures/S2a_disease_genes_bar.pdf', dpi=300)"
   ]
  },
  {
   "cell_type": "code",
   "execution_count": null,
   "metadata": {},
   "outputs": [],
   "source": []
  },
  {
   "cell_type": "code",
   "execution_count": null,
   "metadata": {},
   "outputs": [],
   "source": []
  },
  {
   "cell_type": "code",
   "execution_count": null,
   "metadata": {},
   "outputs": [],
   "source": []
  },
  {
   "cell_type": "code",
   "execution_count": null,
   "metadata": {},
   "outputs": [],
   "source": []
  }
 ],
 "metadata": {
  "kernelspec": {
   "display_name": "Python 3",
   "language": "python",
   "name": "python3"
  },
  "language_info": {
   "codemirror_mode": {
    "name": "ipython",
    "version": 3
   },
   "file_extension": ".py",
   "mimetype": "text/x-python",
   "name": "python",
   "nbconvert_exporter": "python",
   "pygments_lexer": "ipython3",
   "version": "3.7.3"
  }
 },
 "nbformat": 4,
 "nbformat_minor": 4
}
