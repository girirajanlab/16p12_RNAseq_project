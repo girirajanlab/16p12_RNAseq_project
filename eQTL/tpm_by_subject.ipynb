{
 "cells": [
  {
   "cell_type": "code",
   "execution_count": 2,
   "metadata": {},
   "outputs": [],
   "source": [
    "import pandas as pd\n",
    "import numpy as np"
   ]
  },
  {
   "cell_type": "code",
   "execution_count": 3,
   "metadata": {},
   "outputs": [],
   "source": [
    "pheno = pd.read_csv('../16p12.2_rnaseq_analysis/data/pheno_final.tsv', sep='\\t')\n",
    "pheno = pheno.set_index('sample', drop=False)\n",
    "\n",
    "tpm = pd.read_csv('../16p12.2_rnaseq_analysis/data/16p12_lcl_gene_tpm_underscores.gct', sep='\\t')\n",
    "tpm['ensembl'] = tpm.Name.apply(lambda s: s.split('.')[0])\n",
    "tpm = tpm.set_index('ensembl')\n",
    "tpm = tpm.drop(['Description', 'Name'], axis=1)"
   ]
  },
  {
   "cell_type": "code",
   "execution_count": 4,
   "metadata": {},
   "outputs": [],
   "source": [
    "tpm_by_sub = pd.DataFrame(index=tpm.index)"
   ]
  },
  {
   "cell_type": "code",
   "execution_count": 5,
   "metadata": {},
   "outputs": [],
   "source": [
    "for sub in pheno.subject.unique():\n",
    "    samps = pheno[pheno.subject == sub]['sample'].to_list()\n",
    "    tpm_by_sub[sub] = tpm[samps].T.median()"
   ]
  },
  {
   "cell_type": "code",
   "execution_count": 6,
   "metadata": {},
   "outputs": [],
   "source": [
    "tpm_by_sub.to_csv('16p12_lcl_gene_tpm_by_subject.tsv', sep='\\t')"
   ]
  },
  {
   "cell_type": "code",
   "execution_count": null,
   "metadata": {},
   "outputs": [],
   "source": []
  }
 ],
 "metadata": {
  "kernelspec": {
   "display_name": "Python 3",
   "language": "python",
   "name": "python3"
  },
  "language_info": {
   "codemirror_mode": {
    "name": "ipython",
    "version": 3
   },
   "file_extension": ".py",
   "mimetype": "text/x-python",
   "name": "python",
   "nbconvert_exporter": "python",
   "pygments_lexer": "ipython3",
   "version": "3.7.3"
  }
 },
 "nbformat": 4,
 "nbformat_minor": 4
}
