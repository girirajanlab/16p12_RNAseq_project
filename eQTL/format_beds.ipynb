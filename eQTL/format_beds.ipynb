{
 "cells": [
  {
   "cell_type": "code",
   "execution_count": 1,
   "metadata": {},
   "outputs": [],
   "source": [
    "import pandas as pd"
   ]
  },
  {
   "cell_type": "code",
   "execution_count": 2,
   "metadata": {},
   "outputs": [],
   "source": [
    "tpm = pd.read_csv('16p12_lcl_gene_tpm.by_subject.50perc.gct', sep='\\t')\n",
    "gtf = pd.read_csv('../eqtl/gencode.v19.genes.v7.patched_contigs.with_chr.gtf', sep='\\t', header=None)"
   ]
  },
  {
   "cell_type": "code",
   "execution_count": 3,
   "metadata": {},
   "outputs": [
    {
     "name": "stderr",
     "output_type": "stream",
     "text": [
      "/usr/local/lib/python3.7/dist-packages/IPython/core/interactiveshell.py:3058: DtypeWarning: Columns (5) have mixed types.Specify dtype option on import or set low_memory=False.\n",
      "  interactivity=interactivity, compiler=compiler, result=result)\n"
     ]
    }
   ],
   "source": [
    "mapp = pd.read_csv('../16p12.2_rnaseq_analysis/data/gene_names_mapping_new.tsv', sep='\\t')"
   ]
  },
  {
   "cell_type": "code",
   "execution_count": 4,
   "metadata": {},
   "outputs": [],
   "source": [
    "mapp = mapp.set_index('ensembl', drop=False)\n",
    "tpm = tpm.set_index('ensembl', drop=False)"
   ]
  },
  {
   "cell_type": "code",
   "execution_count": 5,
   "metadata": {},
   "outputs": [],
   "source": [
    "gtf['ensembl'] = gtf[8].apply(lambda s : s.split('\"')[1])\n",
    "gtf['ensembl'] = gtf['ensembl'].apply(lambda s: s.split('.')[0])\n",
    "gtf = gtf.set_index('ensembl', drop=False)\n",
    "gtfs = gtf.drop_duplicates('ensembl')"
   ]
  },
  {
   "cell_type": "code",
   "execution_count": 6,
   "metadata": {},
   "outputs": [],
   "source": [
    "tpm_new = mapp[['chromosome', 'start', 'end', 'ensembl']].copy()\n",
    "tpm_new['name2'] = tpm_new['ensembl']\n",
    "tpm_new['strand'] = tpm_new.ensembl.apply(lambda s: gtfs.at[s, 6])"
   ]
  },
  {
   "cell_type": "code",
   "execution_count": 7,
   "metadata": {},
   "outputs": [],
   "source": [
    "tpm_new = tpm_new.loc[tpm.index]"
   ]
  },
  {
   "cell_type": "code",
   "execution_count": 8,
   "metadata": {},
   "outputs": [],
   "source": [
    "for subject in tpm.columns[1:]:\n",
    "#     print(subject)\n",
    "    tpm_new[subject] = tpm[subject]"
   ]
  },
  {
   "cell_type": "code",
   "execution_count": 9,
   "metadata": {},
   "outputs": [],
   "source": [
    "tpm_new.columns = ['#chromosome'] + tpm_new.columns[1:].tolist()\n",
    "tpm_new = tpm_new.sort_values(['#chromosome','start'])"
   ]
  },
  {
   "cell_type": "code",
   "execution_count": 10,
   "metadata": {},
   "outputs": [],
   "source": [
    "tpm_new['#chromosome'] = tpm_new['#chromosome'].apply(lambda s: 'chrM' if s == 'MT' else 'chr' + str(s))"
   ]
  },
  {
   "cell_type": "code",
   "execution_count": 11,
   "metadata": {},
   "outputs": [],
   "source": [
    "tpm_new.to_csv('16p12_lcl_gene_tpm.by_subject.50perc.anno.bed', sep='\\t', index=False)"
   ]
  },
  {
   "cell_type": "code",
   "execution_count": null,
   "metadata": {},
   "outputs": [],
   "source": []
  }
 ],
 "metadata": {
  "kernelspec": {
   "display_name": "Python 3",
   "language": "python",
   "name": "python3"
  },
  "language_info": {
   "codemirror_mode": {
    "name": "ipython",
    "version": 3
   },
   "file_extension": ".py",
   "mimetype": "text/x-python",
   "name": "python",
   "nbconvert_exporter": "python",
   "pygments_lexer": "ipython3",
   "version": "3.7.3"
  }
 },
 "nbformat": 4,
 "nbformat_minor": 4
}
