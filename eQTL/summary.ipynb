{
 "cells": [
  {
   "cell_type": "code",
   "execution_count": 23,
   "metadata": {},
   "outputs": [],
   "source": [
    "import pandas as pd\n",
    "import seaborn as sns\n",
    "import matplotlib.pyplot as plt\n",
    "pd.set_option('display.max_columns', 500)\n",
    "pd.set_option('display.max_rows', 300)\n",
    "import vcf"
   ]
  },
  {
   "cell_type": "code",
   "execution_count": 24,
   "metadata": {},
   "outputs": [],
   "source": [
    "pheno = pd.read_csv('../16p12.2_rnaseq_analysis/data/pheno_final.tsv', sep='\\t')\n",
    "pheno = pheno.drop_duplicates('subject')\n",
    "pheno = pheno.set_index('subject', drop=False)"
   ]
  },
  {
   "cell_type": "code",
   "execution_count": 47,
   "metadata": {},
   "outputs": [],
   "source": [
    "# drop duplicate eQTL\n",
    "\n",
    "perm = perm[(~perm.duplicated(['chrom', 'start']))].copy()"
   ]
  },
  {
   "cell_type": "code",
   "execution_count": 48,
   "metadata": {},
   "outputs": [],
   "source": [
    "# mark minor alleles as alt\n",
    "def minor_allele_is_alt(f):\n",
    "    if f < 0.5:\n",
    "        return True\n",
    "    return False\n",
    "perm['minor_allele_is_alt'] = perm.gnomad.apply(minor_allele_is_alt)"
   ]
  },
  {
   "cell_type": "code",
   "execution_count": 49,
   "metadata": {},
   "outputs": [],
   "source": [
    "subs = pheno.subject.to_list()\n",
    "\n",
    "summ = []\n",
    "for sub in subs:\n",
    "    for i, row in perm.iterrows():\n",
    "        ens = row['ensembl']\n",
    "        gt = row[sub]\n",
    "        ma_is_alt = row['minor_allele_is_alt']\n",
    "        \n",
    "        if ma_is_alt and '1' in gt:\n",
    "            summ.append([sub, ens, 'minor allele'])\n",
    "        if (not ma_is_alt) and '0' in gt:\n",
    "            summ.append([sub, ens, 'minor allele'])\n",
    "        \n",
    "summ = pd.DataFrame(summ)"
   ]
  },
  {
   "cell_type": "code",
   "execution_count": 54,
   "metadata": {},
   "outputs": [],
   "source": [
    "final_sum = pd.DataFrame(summ[0].value_counts())\n",
    "final_sum.columns = ['minor allele eQTL count']\n",
    "final_sum['subject'] = final_sum.index.to_series()\n",
    "final_sum = final_sum[['subject', 'minor allele eQTL count']].copy()"
   ]
  },
  {
   "cell_type": "code",
   "execution_count": 56,
   "metadata": {},
   "outputs": [],
   "source": [
    "final_sum.to_csv('eqtl_counts.tsv', sep='\\t', index=False)"
   ]
  },
  {
   "cell_type": "code",
   "execution_count": 57,
   "metadata": {},
   "outputs": [],
   "source": [
    "affected_child = ['SG001', 'SG011', 'SG021', 'SG026', 'SG155', 'SG041', 'SG042', 'SG037', 'SG148', 'SG022']\n",
    "carrier_parents = ['SG006', 'SG025', 'SG069', 'SG040', 'SG044', 'SG151']\n",
    "noncarrier_parents = ['SG007', 'SG024', 'SG027', 'SG039', 'SG043','SG152']\n",
    "grandparent = ['SG002', 'SG003', 'SG030', 'SG031', 'SG045', 'SG046']\n",
    "noncarrier_sib = ['SG023', 'SG038', 'SG149', 'SG150', 'SG038']"
   ]
  },
  {
   "cell_type": "code",
   "execution_count": 60,
   "metadata": {},
   "outputs": [
    {
     "data": {
      "text/plain": [
       "minor allele eQTL count    4.3\n",
       "dtype: float64"
      ]
     },
     "execution_count": 60,
     "metadata": {},
     "output_type": "execute_result"
    }
   ],
   "source": [
    "final_sum[final_sum['subject'].isin(affected_child)].mean()"
   ]
  },
  {
   "cell_type": "code",
   "execution_count": 61,
   "metadata": {},
   "outputs": [
    {
     "data": {
      "text/plain": [
       "minor allele eQTL count    3.166667\n",
       "dtype: float64"
      ]
     },
     "execution_count": 61,
     "metadata": {},
     "output_type": "execute_result"
    }
   ],
   "source": [
    "final_sum[final_sum['subject'].isin(carrier_parents)].mean()"
   ]
  },
  {
   "cell_type": "code",
   "execution_count": null,
   "metadata": {},
   "outputs": [],
   "source": []
  }
 ],
 "metadata": {
  "kernelspec": {
   "display_name": "Python 3",
   "language": "python",
   "name": "python3"
  },
  "language_info": {
   "codemirror_mode": {
    "name": "ipython",
    "version": 3
   },
   "file_extension": ".py",
   "mimetype": "text/x-python",
   "name": "python",
   "nbconvert_exporter": "python",
   "pygments_lexer": "ipython3",
   "version": "3.7.3"
  }
 },
 "nbformat": 4,
 "nbformat_minor": 4
}
