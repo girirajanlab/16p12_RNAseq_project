{
 "cells": [
  {
   "cell_type": "code",
   "execution_count": 1,
   "metadata": {},
   "outputs": [],
   "source": [
    "import pandas as pd\n",
    "import seaborn as sns\n",
    "import matplotlib.pyplot as plt\n",
    "pd.set_option('display.max_columns', 500)\n",
    "pd.set_option('display.max_rows', 300)\n",
    "import vcf"
   ]
  },
  {
   "cell_type": "code",
   "execution_count": 8,
   "metadata": {},
   "outputs": [],
   "source": [
    "pheno = pd.read_csv('../16p12.2_rnaseq_analysis/data/pheno_final.tsv', sep='\\t')\n",
    "pheno = pheno.drop_duplicates('subject')\n",
    "pheno = pheno.set_index('subject', drop=False)"
   ]
  },
  {
   "cell_type": "code",
   "execution_count": 2,
   "metadata": {},
   "outputs": [],
   "source": [
    "perm = pd.read_csv('../eqtl/permutations.significant.txt', sep=' ', header=None)\n",
    "cols = ['gene', 'gene_chrom', 'gene_start', 'gene_end', 'gene_strand', 'vars_tested', 'distance',\n",
    "       'var_id', 'chrom', 'start', 'end', 'dof', 'dummy', 'param1', 'param2', 'nom_p', \n",
    "               'beta', 'emp_p', 'adj_p', 'FDR', 'unk']\n",
    "perm.columns = cols"
   ]
  },
  {
   "cell_type": "code",
   "execution_count": 3,
   "metadata": {},
   "outputs": [
    {
     "name": "stderr",
     "output_type": "stream",
     "text": [
      "/usr/local/lib/python3.7/dist-packages/IPython/core/interactiveshell.py:3058: DtypeWarning: Columns (5) have mixed types.Specify dtype option on import or set low_memory=False.\n",
      "  interactivity=interactivity, compiler=compiler, result=result)\n"
     ]
    }
   ],
   "source": [
    "# general annotations\n",
    "mapp = pd.read_csv('../16p12.2_rnaseq_analysis/data/gene_names_mapping_new.tsv', sep='\\t')\n",
    "mapp = mapp.set_index('ensembl')\n",
    "\n",
    "perm['ensembl'] = perm.gene.apply(lambda s: s.split('.')[0])\n",
    "perm = perm.set_index('ensembl', drop=False)\n",
    "perm['gene'] = mapp.loc[perm.ensembl, 'Description']\n",
    "perm['biotype'] = mapp.loc[perm.ensembl, 'biotype']"
   ]
  },
  {
   "cell_type": "code",
   "execution_count": 4,
   "metadata": {},
   "outputs": [],
   "source": [
    "# GTEx Annotations\n",
    "gtex_eqtls = pd.read_csv('/data5/16p12_RNA/GTEx/data/GTEx_Analysis_v7_eQTL/Cells_EBV-transformed_lymphocytes.v7.signif_variant_gene_pairs.txt.gz', sep='\\t')\n",
    "\n",
    "gtex_eqtls['chrom'] = gtex_eqtls.variant_id.apply(lambda s: s.split('_')[0])\n",
    "gtex_eqtls['pos'] = gtex_eqtls.variant_id.apply(lambda s: int(s.split('_')[1]))\n",
    "\n",
    "perm['is_in_gtex'] = '.'\n",
    "novel = 0\n",
    "not_novel = 0\n",
    "for gene in perm['ensembl'].tolist():\n",
    "    if gtex_eqtls[(perm.at[gene, 'start'] == gtex_eqtls.pos)].shape[0] != 0:\n",
    "#         print(gene, perm.at[gene, 'gene'], perm.at[gene, 'start'], perm.at[gene, 'end'])\n",
    "#         print(gtex_eqtls[(perm.at[gene, 'start'] == gtex_eqtls.pos)][['gene_id','variant_id']])\n",
    "        not_novel = not_novel + 1\n",
    "        perm.at[gene, 'is_in_gtex'] = True\n",
    "    else:\n",
    "        novel = novel +1\n",
    "        perm.at[gene, 'is_in_gtex'] = False"
   ]
  },
  {
   "cell_type": "code",
   "execution_count": 5,
   "metadata": {},
   "outputs": [],
   "source": [
    "# annovar annotations\n",
    "annovar = pd.read_csv('../eqtl/eqtls.discovered.perm.hg19_multianno.txt', sep='\\t')\n",
    "for i, row in perm.iterrows():\n",
    "    chrom = row.chrom\n",
    "    start = row.start\n",
    "    if annovar[(annovar.Chr == chrom) & (annovar.Start == start)].shape[0] != 1:\n",
    "        print(chrom, start, annovar[(annovar.Chr == chrom) & (annovar.Start == start)].shape[0])\n",
    "        \n",
    "    anno = annovar[(annovar.Chr == chrom) & (annovar.Start == start)].iloc[0]\n",
    "    if anno['gnomAD_genome_ALL'] == '.':\n",
    "        perm.at[i, 'gnomad'] = 0.\n",
    "    else:\n",
    "        perm.at[i, 'gnomad'] = float(anno['gnomAD_genome_ALL'])\n",
    "    perm.at[i, 'Ref'] = anno['Ref']\n",
    "    perm.at[i, 'Alt'] = anno['Alt']"
   ]
  },
  {
   "cell_type": "code",
   "execution_count": 9,
   "metadata": {},
   "outputs": [],
   "source": [
    "# Variant annotations\n",
    "vcfr = vcf.VCFReader(filename='/data3/16p12_WGS/phasing/whatshap/combined.vcf.gz')\n",
    "\n",
    "perm['filter'] = ''\n",
    "for s in pheno.subject.unique():\n",
    "    perm[s] = ''\n",
    "for i, row in perm.iterrows():\n",
    "    num = 0\n",
    "    chrom = row['chrom']\n",
    "    start = row['start']\n",
    "    end = row['end']\n",
    "    for r in vcfr.fetch(chrom, start-1, end):\n",
    "        num = num + 1\n",
    "        ref = r.REF\n",
    "        alt = r.ALT[-1]\n",
    "        \n",
    "        perm.at[i, 'filter'] = r.FILTER\n",
    "        subs = []\n",
    "        for samp in r.samples:\n",
    "            sub = samp.sample\n",
    "            gt = samp['GT']\n",
    "            perm.at[i, sub] = gt"
   ]
  },
  {
   "cell_type": "code",
   "execution_count": 15,
   "metadata": {},
   "outputs": [],
   "source": [
    "# protein coding filter\n",
    "perm = perm[perm.biotype == 'protein_coding'].copy()"
   ]
  },
  {
   "cell_type": "code",
   "execution_count": 16,
   "metadata": {},
   "outputs": [],
   "source": [
    "# save\n",
    "perm.to_csv('perm_annotated.tsv', sep='\\t', index=False)"
   ]
  },
  {
   "cell_type": "code",
   "execution_count": null,
   "metadata": {},
   "outputs": [],
   "source": []
  }
 ],
 "metadata": {
  "kernelspec": {
   "display_name": "Python 3",
   "language": "python",
   "name": "python3"
  },
  "language_info": {
   "codemirror_mode": {
    "name": "ipython",
    "version": 3
   },
   "file_extension": ".py",
   "mimetype": "text/x-python",
   "name": "python",
   "nbconvert_exporter": "python",
   "pygments_lexer": "ipython3",
   "version": "3.7.3"
  }
 },
 "nbformat": 4,
 "nbformat_minor": 4
}
