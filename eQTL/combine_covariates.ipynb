{
 "cells": [
  {
   "cell_type": "code",
   "execution_count": 1,
   "metadata": {},
   "outputs": [],
   "source": [
    "import pandas as pd\n",
    "import seaborn as sns\n",
    "import matplotlib.pyplot as plt"
   ]
  },
  {
   "cell_type": "code",
   "execution_count": 2,
   "metadata": {},
   "outputs": [],
   "source": [
    "expl = pd.read_csv('covariates.explicit.tsv', sep='\\t')\n",
    "geno = pd.read_csv('genotypes.pca', sep=' ')\n",
    "peer = pd.read_csv('16p12_lcl_gene_tpm.by_subject.50perc.anno.pca', sep=' ')"
   ]
  },
  {
   "cell_type": "code",
   "execution_count": 4,
   "metadata": {},
   "outputs": [
    {
     "data": {
      "text/plain": [
       "0     family\n",
       "1    status3\n",
       "2        sex\n",
       "Name: ID, dtype: object"
      ]
     },
     "execution_count": 4,
     "metadata": {},
     "output_type": "execute_result"
    }
   ],
   "source": [
    "expl['ID']"
   ]
  },
  {
   "cell_type": "code",
   "execution_count": 5,
   "metadata": {},
   "outputs": [],
   "source": [
    "col_order = geno.columns.tolist()\n",
    "expl['SampleID'] = expl['ID']\n",
    "expl = expl[col_order]"
   ]
  },
  {
   "cell_type": "code",
   "execution_count": 6,
   "metadata": {},
   "outputs": [],
   "source": [
    "num_genotype_pc = 3\n",
    "num_peer_pc = 2"
   ]
  },
  {
   "cell_type": "code",
   "execution_count": 7,
   "metadata": {},
   "outputs": [],
   "source": [
    "comb = expl.append(geno.iloc[range(num_genotype_pc)], ignore_index=True)\n",
    "comb = comb.append(peer.iloc[range(num_peer_pc)], ignore_index=True)\n",
    "comb = comb.set_index('SampleID')\n"
   ]
  },
  {
   "cell_type": "code",
   "execution_count": 9,
   "metadata": {},
   "outputs": [
    {
     "data": {
      "text/plain": [
       "Index(['family', 'status3', 'sex', 'genotypes_1_1_svd_PC1',\n",
       "       'genotypes_1_1_svd_PC2', 'genotypes_1_1_svd_PC3',\n",
       "       '16p12_lcl_gene_tpm.by_subject.50perc.anno_1_1_svd_PC1',\n",
       "       '16p12_lcl_gene_tpm.by_subject.50perc.anno_1_1_svd_PC2'],\n",
       "      dtype='object', name='SampleID')"
      ]
     },
     "execution_count": 9,
     "metadata": {},
     "output_type": "execute_result"
    }
   ],
   "source": [
    "comb.index"
   ]
  },
  {
   "cell_type": "code",
   "execution_count": 10,
   "metadata": {},
   "outputs": [],
   "source": [
    "comb.to_csv('covariates.combined.txt', sep='\\t')"
   ]
  }
 ],
 "metadata": {
  "kernelspec": {
   "display_name": "Python 3",
   "language": "python",
   "name": "python3"
  },
  "language_info": {
   "codemirror_mode": {
    "name": "ipython",
    "version": 3
   },
   "file_extension": ".py",
   "mimetype": "text/x-python",
   "name": "python",
   "nbconvert_exporter": "python",
   "pygments_lexer": "ipython3",
   "version": "3.7.3"
  }
 },
 "nbformat": 4,
 "nbformat_minor": 4
}
