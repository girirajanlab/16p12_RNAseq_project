{
 "cells": [
  {
   "cell_type": "markdown",
   "metadata": {},
   "source": [
    "## load in data"
   ]
  },
  {
   "cell_type": "code",
   "execution_count": 1,
   "metadata": {},
   "outputs": [],
   "source": [
    "relations_filename         = '../data/family_summaries.tsv'\n",
    "pheno_filename             = '../data/pheno_partial.tsv'\n",
    "raw_filename               = '../data/16p12_lcl_gene_reads_underscores.gct'\n",
    "mapping_filename           = '../differential_expression_analysis/exon_length.tsv'\n",
    "\n",
    "\n",
    "pheno                   = read.table(pheno_filename, sep='\\t', header=TRUE, stringsAsFactors = F)\n",
    "rownames(pheno)         = pheno$sample\n",
    "\n",
    "\n",
    "relations           = read.table(relations_filename, sep='\\t', header=TRUE, stringsAsFactors = F)\n",
    "rownames(relations) = relations$subject\n",
    "\n",
    "\n",
    "map             = read.table(mapping_filename, sep='\\t', header=TRUE, stringsAsFactors = F)\n",
    "rownames(map)   = map$ensembl\n"
   ]
  },
  {
   "cell_type": "markdown",
   "metadata": {},
   "source": [
    "## GO"
   ]
  },
  {
   "cell_type": "code",
   "execution_count": 2,
   "metadata": {},
   "outputs": [],
   "source": [
    "library(goseq)\n",
    "suppressPackageStartupMessages(library('GenomicFeatures'))\n",
    "\n",
    "\n",
    "in_dir='../family_based_analysis3/output/three_lists/'\n",
    "\n",
    "threelists  = c('de_novo', 'inherited_from_non_carrier', 'inherited_from_carrier')\n",
    "\n",
    "in_genes = scan('../compare_analysis_methods/in_gene_lists/edgeR.list', what=character())\n",
    "gene_lengths = map[in_genes,'exons_length']"
   ]
  },
  {
   "cell_type": "code",
   "execution_count": 3,
   "metadata": {},
   "outputs": [],
   "source": [
    "\n",
    "for (subject in rownames(relations)) {\n",
    "    if (subject == 'SG011') next\n",
    "    for (listype in threelists) {\n",
    "        filename = paste0(in_dir, subject, '.', listype, '.tsv')\n",
    "#         print(filename)\n",
    "        \n",
    "        de_genes = read.table(filename, header=T, stringsAsFactors = F)\n",
    "        de_genes = de_genes$ensembl\n",
    "        all_genes = in_genes\n",
    "\n",
    "        genes = as.integer(all_genes%in%de_genes)\n",
    "        names(genes)=in_genes\n",
    "\n",
    "        pwf=nullp(genes, bias.data = gene_lengths)\n",
    "#         pwf=nullp(genes,\"hg19\",\"ensGene\")\n",
    "        \n",
    "        go=goseq(pwf,\"hg19\",\"ensGene\")\n",
    "\n",
    "        go$over_rep_FDR = p.adjust(go$over_represented_pvalue, method=\"BH\")\n",
    "#         go= go[go$over_rep_FDR < .05,]\n",
    "        print(dim(go))\n",
    "\n",
    "        out_dir = 'goseq_all/'\n",
    "        write.table(go, paste0(out_dir, subject, '.', listype, '.tsv'), \n",
    "                    sep='\\t', row.names=F)\n",
    "    }\n",
    "    \n",
    "}"
   ]
  },
  {
   "cell_type": "code",
   "execution_count": null,
   "metadata": {},
   "outputs": [],
   "source": []
  },
  {
   "cell_type": "code",
   "execution_count": null,
   "metadata": {},
   "outputs": [],
   "source": []
  },
  {
   "cell_type": "code",
   "execution_count": null,
   "metadata": {},
   "outputs": [],
   "source": []
  },
  {
   "cell_type": "code",
   "execution_count": null,
   "metadata": {},
   "outputs": [],
   "source": []
  },
  {
   "cell_type": "code",
   "execution_count": null,
   "metadata": {},
   "outputs": [],
   "source": []
  }
 ],
 "metadata": {
  "kernelspec": {
   "display_name": "R",
   "language": "R",
   "name": "ir"
  },
  "language_info": {
   "codemirror_mode": "r",
   "file_extension": ".r",
   "mimetype": "text/x-r-source",
   "name": "R",
   "pygments_lexer": "r",
   "version": "3.6.3"
  }
 },
 "nbformat": 4,
 "nbformat_minor": 4
}
