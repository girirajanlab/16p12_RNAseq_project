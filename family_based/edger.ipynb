{
 "cells": [
  {
   "cell_type": "markdown",
   "metadata": {},
   "source": [
    "## Load in Data"
   ]
  },
  {
   "cell_type": "code",
   "execution_count": 1,
   "metadata": {},
   "outputs": [],
   "source": [
    "relations_filename         = '../data/family_summaries.tsv'\n",
    "pheno_filename             = '../data/pheno_partial.tsv'\n",
    "raw_filename               = '../data/16p12_lcl_gene_reads_underscores.gct'\n",
    "mapping_filename           = 'gene_map.tsv'\n"
   ]
  },
  {
   "cell_type": "code",
   "execution_count": 2,
   "metadata": {},
   "outputs": [],
   "source": [
    "pheno                   = read.table(pheno_filename, sep='\\t', header=TRUE, stringsAsFactors = F)\n",
    "rownames(pheno)         = pheno$sample"
   ]
  },
  {
   "cell_type": "code",
   "execution_count": 3,
   "metadata": {},
   "outputs": [],
   "source": [
    "relations           = read.table(relations_filename, sep='\\t', header=TRUE, stringsAsFactors = F)\n",
    "rownames(relations) = relations$subject"
   ]
  },
  {
   "cell_type": "code",
   "execution_count": 4,
   "metadata": {},
   "outputs": [],
   "source": [
    "map             = read.table(mapping_filename, sep='\\t', header=TRUE, stringsAsFactors = F)\n",
    "rownames(map)   = map$ensembl"
   ]
  },
  {
   "cell_type": "markdown",
   "metadata": {},
   "source": [
    "## Filter out unintersting genes"
   ]
  },
  {
   "cell_type": "code",
   "execution_count": 5,
   "metadata": {},
   "outputs": [],
   "source": [
    "rawdf               = read.table(raw_filename, sep='\\t', header=TRUE, stringsAsFactors = F)"
   ]
  },
  {
   "cell_type": "code",
   "execution_count": 6,
   "metadata": {},
   "outputs": [],
   "source": [
    "gencode2ensembl = function(s) return(unlist((strsplit(s, '.', fixed=T)))[1])\n",
    "rownames(rawdf) = unlist(lapply(rawdf$Name, gencode2ensembl))\n",
    "rawdf$Name = NULL"
   ]
  },
  {
   "cell_type": "code",
   "execution_count": 7,
   "metadata": {},
   "outputs": [
    {
     "data": {
      "text/html": [
       "14143"
      ],
      "text/latex": [
       "14143"
      ],
      "text/markdown": [
       "14143"
      ],
      "text/plain": [
       "[1] 14143"
      ]
     },
     "metadata": {},
     "output_type": "display_data"
    },
    {
     "data": {
      "text/html": [
       "2358"
      ],
      "text/latex": [
       "2358"
      ],
      "text/markdown": [
       "2358"
      ],
      "text/plain": [
       "[1] 2358"
      ]
     },
     "metadata": {},
     "output_type": "display_data"
    },
    {
     "data": {
      "text/html": [
       "491"
      ],
      "text/latex": [
       "491"
      ],
      "text/markdown": [
       "491"
      ],
      "text/plain": [
       "[1] 491"
      ]
     },
     "metadata": {},
     "output_type": "display_data"
    },
    {
     "data": {
      "text/html": [
       "340"
      ],
      "text/latex": [
       "340"
      ],
      "text/markdown": [
       "340"
      ],
      "text/plain": [
       "[1] 340"
      ]
     },
     "metadata": {},
     "output_type": "display_data"
    }
   ],
   "source": [
    "low_expressed_genes = scan('genes.low_expression', what=\"\", sep=\"\\n\")\n",
    "sex_genes = scan('gtex_filter_sex_diff2.list', what=\"\", sep=\"\\n\")\n",
    "xgenes = as.character(map[map$chromosome == 'X' ,]$ensembl)\n",
    "ygenes = as.character(map[map$chromosome == 'Y' ,]$ensembl)\n",
    "length(low_expressed_genes)\n",
    "length(xgenes)\n",
    "length(ygenes)\n",
    "length(sex_genes)"
   ]
  },
  {
   "cell_type": "code",
   "execution_count": 8,
   "metadata": {},
   "outputs": [
    {
     "data": {
      "text/html": [
       "<style>\n",
       ".list-inline {list-style: none; margin:0; padding: 0}\n",
       ".list-inline>li {display: inline-block}\n",
       ".list-inline>li:not(:last-child)::after {content: \"\\00b7\"; padding: 0 .5ex}\n",
       "</style>\n",
       "<ol class=list-inline><li>56202</li><li>96</li></ol>\n"
      ],
      "text/latex": [
       "\\begin{enumerate*}\n",
       "\\item 56202\n",
       "\\item 96\n",
       "\\end{enumerate*}\n"
      ],
      "text/markdown": [
       "1. 56202\n",
       "2. 96\n",
       "\n",
       "\n"
      ],
      "text/plain": [
       "[1] 56202    96"
      ]
     },
     "metadata": {},
     "output_type": "display_data"
    },
    {
     "data": {
      "text/html": [
       "<style>\n",
       ".list-inline {list-style: none; margin:0; padding: 0}\n",
       ".list-inline>li {display: inline-block}\n",
       ".list-inline>li:not(:last-child)::after {content: \"\\00b7\"; padding: 0 .5ex}\n",
       "</style>\n",
       "<ol class=list-inline><li>42059</li><li>96</li></ol>\n"
      ],
      "text/latex": [
       "\\begin{enumerate*}\n",
       "\\item 42059\n",
       "\\item 96\n",
       "\\end{enumerate*}\n"
      ],
      "text/markdown": [
       "1. 42059\n",
       "2. 96\n",
       "\n",
       "\n"
      ],
      "text/plain": [
       "[1] 42059    96"
      ]
     },
     "metadata": {},
     "output_type": "display_data"
    },
    {
     "data": {
      "text/html": [
       "<style>\n",
       ".list-inline {list-style: none; margin:0; padding: 0}\n",
       ".list-inline>li {display: inline-block}\n",
       ".list-inline>li:not(:last-child)::after {content: \"\\00b7\"; padding: 0 .5ex}\n",
       "</style>\n",
       "<ol class=list-inline><li>40602</li><li>96</li></ol>\n"
      ],
      "text/latex": [
       "\\begin{enumerate*}\n",
       "\\item 40602\n",
       "\\item 96\n",
       "\\end{enumerate*}\n"
      ],
      "text/markdown": [
       "1. 40602\n",
       "2. 96\n",
       "\n",
       "\n"
      ],
      "text/plain": [
       "[1] 40602    96"
      ]
     },
     "metadata": {},
     "output_type": "display_data"
    },
    {
     "data": {
      "text/html": [
       "<style>\n",
       ".list-inline {list-style: none; margin:0; padding: 0}\n",
       ".list-inline>li {display: inline-block}\n",
       ".list-inline>li:not(:last-child)::after {content: \"\\00b7\"; padding: 0 .5ex}\n",
       "</style>\n",
       "<ol class=list-inline><li>40513</li><li>96</li></ol>\n"
      ],
      "text/latex": [
       "\\begin{enumerate*}\n",
       "\\item 40513\n",
       "\\item 96\n",
       "\\end{enumerate*}\n"
      ],
      "text/markdown": [
       "1. 40513\n",
       "2. 96\n",
       "\n",
       "\n"
      ],
      "text/plain": [
       "[1] 40513    96"
      ]
     },
     "metadata": {},
     "output_type": "display_data"
    },
    {
     "data": {
      "text/html": [
       "<style>\n",
       ".list-inline {list-style: none; margin:0; padding: 0}\n",
       ".list-inline>li {display: inline-block}\n",
       ".list-inline>li:not(:last-child)::after {content: \"\\00b7\"; padding: 0 .5ex}\n",
       "</style>\n",
       "<ol class=list-inline><li>40173</li><li>96</li></ol>\n"
      ],
      "text/latex": [
       "\\begin{enumerate*}\n",
       "\\item 40173\n",
       "\\item 96\n",
       "\\end{enumerate*}\n"
      ],
      "text/markdown": [
       "1. 40173\n",
       "2. 96\n",
       "\n",
       "\n"
      ],
      "text/plain": [
       "[1] 40173    96"
      ]
     },
     "metadata": {},
     "output_type": "display_data"
    }
   ],
   "source": [
    "dim(rawdf)\n",
    "# rawdf=rawdf[(rownames(rawdf) %in% goseq_genes),]\n",
    "# dim(rawdf)\n",
    "rawdf=rawdf[!(rownames(rawdf) %in% low_expressed_genes),]\n",
    "dim(rawdf)\n",
    "rawdf=rawdf[!(rownames(rawdf) %in% xgenes),]\n",
    "dim(rawdf)\n",
    "rawdf=rawdf[!(rownames(rawdf) %in% ygenes),]\n",
    "dim(rawdf)\n",
    "rawdf=rawdf[!(rownames(rawdf) %in% sex_genes),]\n",
    "dim(rawdf)\n",
    "rawmat              = as.matrix(rawdf)\n"
   ]
  },
  {
   "cell_type": "markdown",
   "metadata": {},
   "source": [
    "## EdgeR"
   ]
  },
  {
   "cell_type": "code",
   "execution_count": 9,
   "metadata": {},
   "outputs": [
    {
     "name": "stderr",
     "output_type": "stream",
     "text": [
      "Loading required package: limma\n",
      "\n"
     ]
    }
   ],
   "source": [
    "library(edgeR)"
   ]
  },
  {
   "cell_type": "code",
   "execution_count": 11,
   "metadata": {},
   "outputs": [],
   "source": [
    "group         = pheno$subject\n",
    "y             = DGEList(counts=rawmat, group=group)\n",
    "y             = calcNormFactors(y)\n",
    "design        = model.matrix(~0+group)"
   ]
  },
  {
   "cell_type": "code",
   "execution_count": null,
   "metadata": {},
   "outputs": [],
   "source": [
    "y             = estimateDisp(y, design, robust=TRUE)\n",
    "fit           = glmQLFit(y,design, robust=TRUE)\n"
   ]
  },
  {
   "cell_type": "code",
   "execution_count": null,
   "metadata": {},
   "outputs": [],
   "source": [
    "subject_map = function(design, subject) {\n",
    "    subject = paste0('group', subject)\n",
    "    pos = (1:length(colnames(design)))[colnames(design) == subject]\n",
    "    return(pos)\n",
    "}\n",
    "common_name = function(s){\n",
    "    s = map[map$ensembl == s, 'Description']\n",
    "    return(s)\n",
    "}\n",
    "delta = function(d) {\n",
    "    if (d < 0) {\n",
    "        return('-')\n",
    "    }\n",
    "    if (d > 0){\n",
    "        return('+')\n",
    "    }\n",
    "}\n",
    "which_chrom = function(s) {\n",
    "    s = as.character(map[map$ensembl == s, 'chromosome'])\n",
    "    return(s)\n",
    "}"
   ]
  },
  {
   "cell_type": "code",
   "execution_count": null,
   "metadata": {},
   "outputs": [],
   "source": [
    "for (subject1 in rownames(relations)) {\n",
    "\n",
    "    if (subject1 == 'SG011') next\n",
    "    for (parent in c('mother', 'father')) {\n",
    "        subject2 = as.character(relations[subject1,parent])\n",
    "        print(paste0(subject1, ' ', subject2))\n",
    "        \n",
    "        contrast = numeric(length(colnames(design)))\n",
    "        contrast[subject_map(design, subject1)] = 1\n",
    "        contrast[subject_map(design, subject2)] = -1\n",
    "        \n",
    "        qlf = glmQLFTest(fit,contrast=contrast)\n",
    "        cdf = topTags(qlf, n=56202, p.value=0.05)$table\n",
    "        print(dim(cdf))\n",
    "        \n",
    "        cdf$common = as.character(lapply(rownames(cdf), common_name))\n",
    "        cdf$direction = as.character(lapply(cdf$logFC, delta))\n",
    "        cdf$chromosome = as.character(lapply(rownames(cdf), which_chrom))\n",
    "        cdf$gene_del = paste0(rownames(cdf), cdf$direction)\n",
    "        \n",
    "        diff_save = cbind(rownames(cdf), cdf)\n",
    "        colnames(diff_save)[1] = \"ensembl\"\n",
    "        outfile = paste0('output/diff_expression/', subject1, '_', subject2, '.tsv')\n",
    "        write.table(diff_save, outfile, sep='\\t', row.names=F, col.names=T)\n",
    "        }\n",
    "    }"
   ]
  },
  {
   "cell_type": "markdown",
   "metadata": {},
   "source": [
    "## Make Three Lists"
   ]
  },
  {
   "cell_type": "code",
   "execution_count": null,
   "metadata": {},
   "outputs": [],
   "source": [
    "diff_dir = 'output/diff_expression/'\n",
    "de_filename = function(de_dir, child, parent) {\n",
    "    de_dir = paste0(de_dir, child, '_', parent, '.tsv')\n",
    "    return(de_dir)\n",
    "}"
   ]
  },
  {
   "cell_type": "code",
   "execution_count": null,
   "metadata": {},
   "outputs": [],
   "source": [
    "remove_del = function(s) {\n",
    "    s = substr(s,1, 15)\n",
    "    return(s)\n",
    "}\n",
    "pos_or_gen = function(s) {\n",
    "    if (s > 0) { return('+') }\n",
    "    if (s < 0) { return('-') }\n",
    "}\n",
    "get_direction = function(s, genes_de_novo_same_dir, cdf, ncdf) {\n",
    "    if (s %in%  genes_de_novo_same_dir) {\n",
    "        diff = cdf[rownames(cdf) == s, 'logFC']\n",
    "        return(pos_or_gen(diff))\n",
    "    }\n",
    "    cdiff  = cdf[rownames(cdf) == s, 'logFC']\n",
    "    cdiff  = pos_or_gen(cdiff)\n",
    "    ncdiff = ncdf[rownames(ncdf) == s, 'logFC']\n",
    "    ncdiff  = pos_or_gen(ncdiff)\n",
    "    return(paste0(cdiff, \"/\", ncdiff))\n",
    "}\n",
    "save_table = function(df, outfile) {\n",
    "    diff_save = cbind(rownames(df), df)\n",
    "    colnames(diff_save)[1] = \"ensembl\"\n",
    "    write.table(diff_save, outfile, sep='\\t', row.names=F, col.names=T)\n",
    "}\n"
   ]
  },
  {
   "cell_type": "code",
   "execution_count": null,
   "metadata": {},
   "outputs": [],
   "source": [
    "for (child in rownames(relations)) {\n",
    "    if (child == 'SG011') next\n",
    "\n",
    "    cp = as.character(relations[rownames(relations) == child,'carrier_parent'])\n",
    "    ncp = as.character(relations[rownames(relations) == child,'non_carrier_parent'])\n",
    "    print(paste0(child, ' ', cp, ' ', ncp))\n",
    "    \n",
    "    cp_filename = de_filename(diff_dir, child, cp)\n",
    "    ncp_filename = de_filename(diff_dir, child, ncp)\n",
    "    cdf = read.table(cp_filename, sep='\\t', header=TRUE, row.names = 'ensembl')\n",
    "    ncdf = read.table(ncp_filename, sep='\\t', header=TRUE, row.names = 'ensembl')\n",
    "\n",
    "    cdf = cdf[abs(cdf$logFC) > 0.5, ]\n",
    "    ncdf = ncdf[abs(ncdf$logFC) > 0.5, ]\n",
    "    \n",
    "    genes_de_novo = intersect(rownames(cdf), rownames(ncdf))\n",
    "    \n",
    "    genes_de_novo_same_dir = intersect(cdf$gene_del, ncdf$gene_del)\n",
    "    genes_de_novo_same_dir = as.character(lapply(genes_de_novo_same_dir, remove_del))\n",
    "    \n",
    "    dfi = data.frame(row.names = genes_de_novo)\n",
    "\n",
    "    dfi$common = map$Description[match(rownames(dfi), map$ensembl)]\n",
    "    dfi$direction_c_nc = as.character(lapply(genes_de_novo, get_direction, genes_de_novo_same_dir, cdf, ncdf))\n",
    "    dfi$logFC_carrier_parent = cdf$logFC[match(rownames(dfi), rownames(cdf))]\n",
    "    dfi$FDR_carrier_parent = cdf$FDR[match(rownames(dfi), rownames(cdf))]\n",
    "    dfi$logFC_non_carrier_parent = ncdf$logFC[match(rownames(dfi), rownames(ncdf))]\n",
    "    dfi$FDR_non_carrier_parent = ncdf$FDR[match(rownames(dfi), rownames(ncdf))]\n",
    "    dfi$chromosome = map$chromosome[match(rownames(dfi), map$ensembl)]\n",
    "    \n",
    "    df_inh_from_nc =  cdf[!(rownames(cdf) %in% genes_de_novo),]\n",
    "    df_inh_from_c  = ncdf[!(rownames(ncdf) %in% genes_de_novo),]\n",
    "\n",
    "    df_inh_from_nc$gene_del = NULL\n",
    "    df_inh_from_c$gene_del = NULL\n",
    "    \n",
    "    print(c(dim(dfi)[1], dim(df_inh_from_c)[1], dim(df_inh_from_nc)[1]))\n",
    "\n",
    "    out_dir='output/three_lists/'\n",
    "    outfile = paste0(out_dir, child, '.de_novo.tsv')\n",
    "    save_table(dfi, outfile)\n",
    "    outfile = paste0(out_dir, child, '.inherited_from_non_carrier.tsv')\n",
    "    save_table(df_inh_from_nc, outfile)\n",
    "    outfile = paste0(out_dir, child, '.inherited_from_carrier.tsv')\n",
    "    save_table(df_inh_from_c, outfile)\n",
    "\n",
    "}"
   ]
  },
  {
   "cell_type": "code",
   "execution_count": null,
   "metadata": {},
   "outputs": [],
   "source": []
  },
  {
   "cell_type": "code",
   "execution_count": null,
   "metadata": {},
   "outputs": [],
   "source": []
  }
 ],
 "metadata": {
  "kernelspec": {
   "display_name": "R",
   "language": "R",
   "name": "ir"
  },
  "language_info": {
   "codemirror_mode": "r",
   "file_extension": ".r",
   "mimetype": "text/x-r-source",
   "name": "R",
   "pygments_lexer": "r",
   "version": "3.6.3"
  }
 },
 "nbformat": 4,
 "nbformat_minor": 4
}
