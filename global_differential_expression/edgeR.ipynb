{
 "cells": [
  {
   "cell_type": "code",
   "execution_count": 1,
   "metadata": {},
   "outputs": [
    {
     "name": "stderr",
     "output_type": "stream",
     "text": [
      "Loading required package: limma\n",
      "\n",
      "Warning message:\n",
      "“package ‘ggplot2’ was built under R version 4.0.0”\n"
     ]
    }
   ],
   "source": [
    "library(edgeR)\n",
    "library(ggplot2)\n",
    "library(glue)"
   ]
  },
  {
   "cell_type": "markdown",
   "metadata": {},
   "source": [
    "## 1. load in data"
   ]
  },
  {
   "cell_type": "code",
   "execution_count": 2,
   "metadata": {},
   "outputs": [],
   "source": [
    "raw_filename            = '../data/16p12_lcl_gene_reads_underscores.gct'\n",
    "pheno_filename          = '../data/pheno_final.tsv'\n",
    "mapping_filename        = '../family_based_analysis3/gene_map.tsv'"
   ]
  },
  {
   "cell_type": "code",
   "execution_count": 3,
   "metadata": {},
   "outputs": [],
   "source": [
    "mapping             = read.table(mapping_filename, sep='\\t', header=TRUE, stringsAsFactors = F)\n",
    "rownames(mapping)   = mapping$Name"
   ]
  },
  {
   "cell_type": "code",
   "execution_count": 4,
   "metadata": {},
   "outputs": [],
   "source": [
    "pheno                   = read.table(pheno_filename, sep='\\t', header=TRUE)\n",
    "rownames(pheno)         = pheno$sample"
   ]
  },
  {
   "cell_type": "code",
   "execution_count": 5,
   "metadata": {},
   "outputs": [],
   "source": [
    "rawdf               = read.table(raw_filename, sep='\\t', header=TRUE)\n",
    "rownames(rawdf)     = rawdf$Name\n",
    "rawdf$Name          = NULL\n",
    "gencode2ensembl = function(s) {\n",
    "    return(strsplit(s, '.', fixed=T)[[1]][1])\n",
    "}\n",
    "\n",
    "rownames(rawdf) = unlist(lapply(rownames(rawdf), gencode2ensembl))"
   ]
  },
  {
   "cell_type": "code",
   "execution_count": 7,
   "metadata": {},
   "outputs": [
    {
     "data": {
      "text/html": [
       "2358"
      ],
      "text/latex": [
       "2358"
      ],
      "text/markdown": [
       "2358"
      ],
      "text/plain": [
       "[1] 2358"
      ]
     },
     "metadata": {},
     "output_type": "display_data"
    },
    {
     "data": {
      "text/html": [
       "491"
      ],
      "text/latex": [
       "491"
      ],
      "text/markdown": [
       "491"
      ],
      "text/plain": [
       "[1] 491"
      ]
     },
     "metadata": {},
     "output_type": "display_data"
    },
    {
     "data": {
      "text/html": [
       "340"
      ],
      "text/latex": [
       "340"
      ],
      "text/markdown": [
       "340"
      ],
      "text/plain": [
       "[1] 340"
      ]
     },
     "metadata": {},
     "output_type": "display_data"
    }
   ],
   "source": [
    "# Load in sex genes\n",
    "# low_expressed_genes = scan('../family_based_analysis3/genes.low_expression', what=\"\", sep=\"\\n\")\n",
    "sex_genes = scan('../family_based_analysis3/gtex_filter_sex_diff2.list', what=\"\", sep=\"\\n\")\n",
    "xgenes = as.character(mapping[mapping$chromosome == 'X' ,]$ensembl)\n",
    "ygenes = as.character(mapping[mapping$chromosome == 'Y' ,]$ensembl)\n",
    "# length(low_expressed_genes)\n",
    "length(xgenes)\n",
    "length(ygenes)\n",
    "length(sex_genes)"
   ]
  },
  {
   "cell_type": "code",
   "execution_count": 8,
   "metadata": {},
   "outputs": [
    {
     "data": {
      "text/html": [
       "<style>\n",
       ".list-inline {list-style: none; margin:0; padding: 0}\n",
       ".list-inline>li {display: inline-block}\n",
       ".list-inline>li:not(:last-child)::after {content: \"\\00b7\"; padding: 0 .5ex}\n",
       "</style>\n",
       "<ol class=list-inline><li>56202</li><li>96</li></ol>\n"
      ],
      "text/latex": [
       "\\begin{enumerate*}\n",
       "\\item 56202\n",
       "\\item 96\n",
       "\\end{enumerate*}\n"
      ],
      "text/markdown": [
       "1. 56202\n",
       "2. 96\n",
       "\n",
       "\n"
      ],
      "text/plain": [
       "[1] 56202    96"
      ]
     },
     "metadata": {},
     "output_type": "display_data"
    },
    {
     "data": {
      "text/html": [
       "<style>\n",
       ".list-inline {list-style: none; margin:0; padding: 0}\n",
       ".list-inline>li {display: inline-block}\n",
       ".list-inline>li:not(:last-child)::after {content: \"\\00b7\"; padding: 0 .5ex}\n",
       "</style>\n",
       "<ol class=list-inline><li>53844</li><li>96</li></ol>\n"
      ],
      "text/latex": [
       "\\begin{enumerate*}\n",
       "\\item 53844\n",
       "\\item 96\n",
       "\\end{enumerate*}\n"
      ],
      "text/markdown": [
       "1. 53844\n",
       "2. 96\n",
       "\n",
       "\n"
      ],
      "text/plain": [
       "[1] 53844    96"
      ]
     },
     "metadata": {},
     "output_type": "display_data"
    },
    {
     "data": {
      "text/html": [
       "<style>\n",
       ".list-inline {list-style: none; margin:0; padding: 0}\n",
       ".list-inline>li {display: inline-block}\n",
       ".list-inline>li:not(:last-child)::after {content: \"\\00b7\"; padding: 0 .5ex}\n",
       "</style>\n",
       "<ol class=list-inline><li>53353</li><li>96</li></ol>\n"
      ],
      "text/latex": [
       "\\begin{enumerate*}\n",
       "\\item 53353\n",
       "\\item 96\n",
       "\\end{enumerate*}\n"
      ],
      "text/markdown": [
       "1. 53353\n",
       "2. 96\n",
       "\n",
       "\n"
      ],
      "text/plain": [
       "[1] 53353    96"
      ]
     },
     "metadata": {},
     "output_type": "display_data"
    },
    {
     "data": {
      "text/html": [
       "<style>\n",
       ".list-inline {list-style: none; margin:0; padding: 0}\n",
       ".list-inline>li {display: inline-block}\n",
       ".list-inline>li:not(:last-child)::after {content: \"\\00b7\"; padding: 0 .5ex}\n",
       "</style>\n",
       "<ol class=list-inline><li>53013</li><li>96</li></ol>\n"
      ],
      "text/latex": [
       "\\begin{enumerate*}\n",
       "\\item 53013\n",
       "\\item 96\n",
       "\\end{enumerate*}\n"
      ],
      "text/markdown": [
       "1. 53013\n",
       "2. 96\n",
       "\n",
       "\n"
      ],
      "text/plain": [
       "[1] 53013    96"
      ]
     },
     "metadata": {},
     "output_type": "display_data"
    }
   ],
   "source": [
    "# Filter out sex genes\n",
    "dim(rawdf)\n",
    "rawdf=rawdf[!(rownames(rawdf) %in% xgenes),]\n",
    "dim(rawdf)\n",
    "rawdf=rawdf[!(rownames(rawdf) %in% ygenes),]\n",
    "dim(rawdf)\n",
    "rawdf=rawdf[!(rownames(rawdf) %in% sex_genes),]\n",
    "dim(rawdf)\n",
    "rawmat              = as.matrix(rawdf)"
   ]
  },
  {
   "cell_type": "code",
   "execution_count": 9,
   "metadata": {},
   "outputs": [],
   "source": [
    "rawmat          = as.matrix(rawdf)\n",
    "pheno = pheno[colnames(rawmat),]"
   ]
  },
  {
   "cell_type": "code",
   "execution_count": 10,
   "metadata": {},
   "outputs": [],
   "source": [
    "contrast_map = function(design, group) {\n",
    "    group = paste0('group', group)\n",
    "    pos = (1:length(colnames(design)))[colnames(design) == group]\n",
    "    return(pos)\n",
    "}"
   ]
  },
  {
   "cell_type": "code",
   "execution_count": 11,
   "metadata": {},
   "outputs": [],
   "source": [
    "group         = pheno$status3\n",
    "family        = pheno$family"
   ]
  },
  {
   "cell_type": "code",
   "execution_count": 12,
   "metadata": {},
   "outputs": [],
   "source": [
    "y = DGEList(counts=rawmat, group=group)\n",
    "keep = filterByExpr(y)\n",
    "y = y[keep,,keep.lib.sizes=FALSE]\n",
    "y = calcNormFactors(y)"
   ]
  },
  {
   "cell_type": "code",
   "execution_count": 13,
   "metadata": {},
   "outputs": [],
   "source": [
    "write.table(names(keep[keep]), 'output/no_sex/keep_carrier_non_carrier.txt', \n",
    "            row.names = F, col.names = F, quote = F)\n"
   ]
  },
  {
   "cell_type": "code",
   "execution_count": 16,
   "metadata": {},
   "outputs": [
    {
     "data": {
      "text/html": [
       "27079"
      ],
      "text/latex": [
       "27079"
      ],
      "text/markdown": [
       "27079"
      ],
      "text/plain": [
       "[1] 27079"
      ]
     },
     "metadata": {},
     "output_type": "display_data"
    }
   ],
   "source": [
    "length(keep[keep])"
   ]
  },
  {
   "cell_type": "code",
   "execution_count": 17,
   "metadata": {},
   "outputs": [],
   "source": [
    "#Create the design matrix for all samples\n",
    "design        = model.matrix(~0+group+family)\n",
    "rownames(design) = colnames(y)\n",
    "#Estimate dispersion of variances along model\n",
    "y = estimateDisp(y, design, robust=TRUE)\n",
    "#Model the quasi-lielihood dispersions of variation within model\n",
    "fit = glmQLFit(y, design, robust=TRUE)"
   ]
  },
  {
   "cell_type": "code",
   "execution_count": 18,
   "metadata": {},
   "outputs": [],
   "source": [
    "contrast_map = function(design, group) {\n",
    "    group = paste0('group', group)\n",
    "    pos = (1:length(colnames(design)))[colnames(design) == group]\n",
    "    return(pos)\n",
    "}"
   ]
  },
  {
   "cell_type": "code",
   "execution_count": 19,
   "metadata": {},
   "outputs": [],
   "source": [
    "contrast = numeric(length(colnames(design)))\n",
    "contrast[contrast_map(design, 'non_carrier')] = -1\n",
    "contrast[contrast_map(design, 'carrier')] = 1"
   ]
  },
  {
   "cell_type": "code",
   "execution_count": 21,
   "metadata": {},
   "outputs": [],
   "source": [
    "qlf = glmQLFTest(fit,contrast=contrast)"
   ]
  },
  {
   "cell_type": "code",
   "execution_count": 22,
   "metadata": {},
   "outputs": [],
   "source": [
    "topdf = topTags(qlf, n=56202, p.value=0.05)$table"
   ]
  },
  {
   "cell_type": "code",
   "execution_count": 23,
   "metadata": {},
   "outputs": [],
   "source": [
    "topdf['gene'] = mapping[rownames(topdf), 'Description']\n",
    "topdf = topdf[c('gene', 'logFC', 'logCPM', 'F', 'PValue', 'FDR')]"
   ]
  },
  {
   "cell_type": "code",
   "execution_count": 24,
   "metadata": {},
   "outputs": [],
   "source": [
    "diff_save = cbind(rownames(topdf), topdf)\n",
    "colnames(diff_save)[1] = \"ensembl\"\n",
    "write.table(diff_save, 'output/no_sex/carrier_non_carrier.tsv', sep='\\t', row.names=F, col.names=T)\n",
    "\n",
    "\n"
   ]
  },
  {
   "cell_type": "code",
   "execution_count": 25,
   "metadata": {},
   "outputs": [],
   "source": [
    "for (excl_sub in unique(pheno$subject)) {\n",
    "    excl_sub\n",
    "    excl_pheno = pheno[pheno$subject != excl_sub,]\n",
    "    samples = excl_pheno$sample\n",
    "    excl_rawmat = rawmat[,samples]\n",
    "    \n",
    "    group         = excl_pheno$status3\n",
    "    family        = excl_pheno$family\n",
    "    \n",
    "    y = DGEList(counts=excl_rawmat, group=group)\n",
    "    keep = filterByExpr(y)\n",
    "    write.table(names(keep[keep]), glue('output/no_sex/keep.{excl_sub}.txt'), \n",
    "            row.names = F, col.names = F, quote = F)\n",
    "    y = y[keep,,keep.lib.sizes=FALSE]\n",
    "    y = calcNormFactors(y)\n",
    "    \n",
    "    design        = model.matrix(~0+group+family)\n",
    "    rownames(design) = colnames(y)\n",
    "    y = estimateDisp(y, design, robust=TRUE)\n",
    "    fit = glmQLFit(y, design, robust=TRUE)\n",
    "    \n",
    "    contrast = numeric(length(colnames(design)))\n",
    "    contrast[contrast_map(design, 'non_carrier')] = -1\n",
    "    contrast[contrast_map(design, 'carrier')] = 1\n",
    "    \n",
    "    qlf = glmQLFTest(fit,contrast=contrast)\n",
    "    topdf = topTags(qlf, n=56202, p.value=0.05)$table\n",
    "    dim(topdf)\n",
    "    \n",
    "    diff_save = cbind(rownames(topdf), topdf)\n",
    "    colnames(diff_save)[1] = \"ensembl\"\n",
    "    outfile = glue('output/no_sex/{excl_sub}.tsv')\n",
    "    write.table(diff_save, outfile, sep='\\t', row.names=F, col.names=T)\n",
    "}"
   ]
  },
  {
   "cell_type": "code",
   "execution_count": null,
   "metadata": {},
   "outputs": [],
   "source": []
  }
 ],
 "metadata": {
  "kernelspec": {
   "display_name": "R",
   "language": "R",
   "name": "ir"
  },
  "language_info": {
   "codemirror_mode": "r",
   "file_extension": ".r",
   "mimetype": "text/x-r-source",
   "name": "R",
   "pygments_lexer": "r",
   "version": "3.6.3"
  }
 },
 "nbformat": 4,
 "nbformat_minor": 4
}
