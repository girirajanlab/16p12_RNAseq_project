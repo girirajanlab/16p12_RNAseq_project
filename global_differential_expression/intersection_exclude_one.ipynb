{
 "cells": [
  {
   "cell_type": "code",
   "execution_count": 1,
   "metadata": {},
   "outputs": [],
   "source": [
    "import pandas as pd"
   ]
  },
  {
   "cell_type": "code",
   "execution_count": 2,
   "metadata": {},
   "outputs": [],
   "source": [
    "orig = pd.read_csv('output/edgr_final/carrier_non_carrier_family_corrected.tsv', sep='\\t')\n",
    "orig = orig.set_index('ensembl', drop=False)\n",
    "\n",
    "pheno = pd.read_csv('../data/pheno_final.tsv', sep='\\t')\n",
    "pheno = pheno.drop_duplicates('subject')\n",
    "pheno = pheno.set_index('subject', drop=False)"
   ]
  },
  {
   "cell_type": "code",
   "execution_count": 3,
   "metadata": {},
   "outputs": [],
   "source": [
    "df = pd.read_csv('output/edgr_exclude_one/SG001.tsv', sep='\\t')\n",
    "df['dir'] = df.logFC.apply(lambda x: '+'if x > 0 else '-')\n",
    "df['gene_dir'] = df.ensembl + df.dir\n",
    "intersect = df.gene_dir.to_list()\n",
    "\n",
    "for sub in pheno.subject:\n",
    "    df = pd.read_csv('output/edgr_exclude_one/{}.tsv'.format(sub), sep='\\t')\n",
    "    df['dir'] = df.logFC.apply(lambda x: '+'if x > 0 else '-')\n",
    "    df['gene_dir'] = df.ensembl + df.dir\n",
    "    excl_de = df.gene_dir.to_list()\n",
    "    intersect = list(set(intersect) & set(excl_de))"
   ]
  },
  {
   "cell_type": "code",
   "execution_count": 5,
   "metadata": {},
   "outputs": [],
   "source": [
    "keep = pd.read_csv('output/edgr_exclude_one/keep.SG001.txt', sep='\\t', header=None)\n",
    "keep = keep[0].to_list()\n",
    "for sub in pheno.subject:\n",
    "    df = pd.read_csv('output/edgr_exclude_one/keep.{}.txt'.format(sub), sep='\\t', header=None)\n",
    "    excl_keep = df[0].to_list()\n",
    "    keep = list(set(keep) & set(excl_keep))"
   ]
  },
  {
   "cell_type": "code",
   "execution_count": 7,
   "metadata": {},
   "outputs": [],
   "source": [
    "with open('output/edgr_exclude_one/keep.intersect.txt', 'w') as f:\n",
    "    for gene in keep:\n",
    "        f.write(gene)\n",
    "        f.write('\\n')"
   ]
  },
  {
   "cell_type": "code",
   "execution_count": 8,
   "metadata": {},
   "outputs": [],
   "source": [
    "orig[orig.ensembl.isin([s[:-1] for s in intersect])].to_csv('output/edgr_exclude_one/intersect.tsv', sep='\\t', index=False)"
   ]
  },
  {
   "cell_type": "code",
   "execution_count": null,
   "metadata": {},
   "outputs": [],
   "source": []
  }
 ],
 "metadata": {
  "kernelspec": {
   "display_name": "Python 3",
   "language": "python",
   "name": "python3"
  },
  "language_info": {
   "codemirror_mode": {
    "name": "ipython",
    "version": 3
   },
   "file_extension": ".py",
   "mimetype": "text/x-python",
   "name": "python",
   "nbconvert_exporter": "python",
   "pygments_lexer": "ipython3",
   "version": "3.7.3"
  }
 },
 "nbformat": 4,
 "nbformat_minor": 4
}
