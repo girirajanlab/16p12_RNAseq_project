{
 "cells": [
  {
   "cell_type": "code",
   "execution_count": 1,
   "metadata": {},
   "outputs": [
    {
     "name": "stderr",
     "output_type": "stream",
     "text": [
      "Loading required package: limma\n",
      "\n",
      "Warning message:\n",
      "“package ‘ggplot2’ was built under R version 4.0.0”\n"
     ]
    }
   ],
   "source": [
    "library(edgeR)\n",
    "library(ggplot2)\n",
    "library(glue)"
   ]
  },
  {
   "cell_type": "markdown",
   "metadata": {},
   "source": [
    "## 1. load in data"
   ]
  },
  {
   "cell_type": "code",
   "execution_count": 2,
   "metadata": {},
   "outputs": [],
   "source": [
    "raw_filename            = '../data/16p12_lcl_gene_reads_underscores.gct'\n",
    "pheno_filename          = '../data/pheno_final.tsv'\n",
    "mapping_filename        = '../data/gene_names_mapping_simple.tsv'"
   ]
  },
  {
   "cell_type": "code",
   "execution_count": 3,
   "metadata": {},
   "outputs": [],
   "source": [
    "pheno                   = read.table(pheno_filename, sep='\\t', header=TRUE)\n",
    "rownames(pheno)         = pheno$sample"
   ]
  },
  {
   "cell_type": "code",
   "execution_count": 4,
   "metadata": {},
   "outputs": [],
   "source": [
    "rawdf               = read.table(raw_filename, sep='\\t', header=TRUE)\n",
    "rownames(rawdf)     = rawdf$Name\n",
    "rawdf$Name          = NULL"
   ]
  },
  {
   "cell_type": "code",
   "execution_count": 5,
   "metadata": {},
   "outputs": [],
   "source": [
    "gencode2ensembl = function(s) {\n",
    "    return(strsplit(s, '.', fixed=T)[[1]][1])\n",
    "}\n",
    "\n",
    "rownames(rawdf) = unlist(lapply(rownames(rawdf), gencode2ensembl))\n",
    "rawmat          = as.matrix(rawdf)\n",
    "\n",
    "pheno = pheno[colnames(rawmat),]"
   ]
  },
  {
   "cell_type": "code",
   "execution_count": 6,
   "metadata": {},
   "outputs": [],
   "source": [
    "contrast_map = function(design, group) {\n",
    "    group = paste0('group', group)\n",
    "    pos = (1:length(colnames(design)))[colnames(design) == group]\n",
    "    return(pos)\n",
    "}"
   ]
  },
  {
   "cell_type": "code",
   "execution_count": 7,
   "metadata": {},
   "outputs": [],
   "source": [
    "for (excl_sub in unique(pheno$subject)) {\n",
    "    excl_sub\n",
    "    excl_pheno = pheno[pheno$subject != excl_sub,]\n",
    "    samples = excl_pheno$sample\n",
    "    excl_rawmat = rawmat[,samples]\n",
    "    \n",
    "    group         = excl_pheno$status3\n",
    "    family        = excl_pheno$family\n",
    "    sex           = excl_pheno$sex\n",
    "    \n",
    "    y = DGEList(counts=excl_rawmat, group=group)\n",
    "    keep = filterByExpr(y)\n",
    "    write.table(names(keep[keep]), glue('output/edgr_exclude_one/keep.{excl_sub}.txt'), \n",
    "            row.names = F, col.names = F, quote = F)\n",
    "    y = y[keep,,keep.lib.sizes=FALSE]\n",
    "    y = calcNormFactors(y)\n",
    "    \n",
    "    design        = model.matrix(~0+group+family)\n",
    "    rownames(design) = colnames(y)\n",
    "    y = estimateDisp(y, design, robust=TRUE)\n",
    "    fit = glmQLFit(y, design, robust=TRUE)\n",
    "    \n",
    "    contrast = numeric(length(colnames(design)))\n",
    "    contrast[contrast_map(design, 'non_carrier')] = -1\n",
    "    contrast[contrast_map(design, 'carrier')] = 1\n",
    "    \n",
    "    qlf = glmQLFTest(fit,contrast=contrast)\n",
    "    topdf = topTags(qlf, n=56202, p.value=0.05)$table\n",
    "    dim(topdf)\n",
    "    \n",
    "    diff_save = cbind(rownames(topdf), topdf)\n",
    "    colnames(diff_save)[1] = \"ensembl\"\n",
    "    outfile = glue('output/edgr_exclude_one/{excl_sub}.tsv')\n",
    "    write.table(diff_save, outfile, sep='\\t', row.names=F, col.names=T)\n",
    "}"
   ]
  },
  {
   "cell_type": "code",
   "execution_count": null,
   "metadata": {},
   "outputs": [],
   "source": []
  },
  {
   "cell_type": "code",
   "execution_count": null,
   "metadata": {},
   "outputs": [],
   "source": []
  },
  {
   "cell_type": "code",
   "execution_count": null,
   "metadata": {},
   "outputs": [],
   "source": []
  }
 ],
 "metadata": {
  "kernelspec": {
   "display_name": "R",
   "language": "R",
   "name": "ir"
  },
  "language_info": {
   "codemirror_mode": "r",
   "file_extension": ".r",
   "mimetype": "text/x-r-source",
   "name": "R",
   "pygments_lexer": "r",
   "version": "3.6.3"
  }
 },
 "nbformat": 4,
 "nbformat_minor": 4
}
