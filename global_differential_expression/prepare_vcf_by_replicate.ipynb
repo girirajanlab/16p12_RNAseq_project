{
 "cells": [
  {
   "cell_type": "code",
   "execution_count": null,
   "metadata": {},
   "outputs": [],
   "source": [
    "import pandas as pd"
   ]
  },
  {
   "cell_type": "code",
   "execution_count": 7,
   "metadata": {},
   "outputs": [],
   "source": [
    "pheno = pd.read_csv('../16p12.2_rnaseq_analysis/data/pheno_final.tsv', sep='\\t')\n",
    "\n",
    "subs = list(pheno.subject.unique())\n",
    "\n",
    "sub2samp = {}\n",
    "for sub in subs:\n",
    "    samps = pheno[pheno.subject == sub]['samp'].to_list()\n",
    "    sub2samp[sub] = samps"
   ]
  },
  {
   "cell_type": "code",
   "execution_count": 37,
   "metadata": {},
   "outputs": [],
   "source": [
    "def reformat_header(header):\n",
    "    header = header.strip().split('\\t')\n",
    "    new_header = []\n",
    "    \n",
    "    for col in header:\n",
    "        if not col.startswith('PS'):\n",
    "            new_header.append(col)\n",
    "            continue\n",
    "        fam = col.split('_')[0]\n",
    "        sub = col.split('_')[1]\n",
    "        for samp in sub2samp[sub]:\n",
    "            new_col = '{}{}_{}'.format(fam, sub, samp)\n",
    "            new_header.append(new_col)\n",
    "    \n",
    "    new_header = '\\t'.join(new_header) + '\\n'\n",
    "    return new_header\n",
    "\n",
    "def reformat_line(s):\n",
    "    old_line = s.strip().split('\\t')\n",
    "    new_line = []\n",
    "    \n",
    "    for i in range(len(old_line)):\n",
    "        item = old_line[i]\n",
    "        \n",
    "        if i < 9:\n",
    "            new_line.append(item)\n",
    "            continue\n",
    "        \n",
    "        for j in range(3):\n",
    "            new_line.append(item)\n",
    "    \n",
    "    new_line = '\\t'.join(new_line) + '\\n'\n",
    "    return new_line"
   ]
  },
  {
   "cell_type": "code",
   "execution_count": 39,
   "metadata": {},
   "outputs": [],
   "source": [
    "vcfin = 'plink_files/16p12_RNA_vcf.vcf'\n",
    "vcfout = '16p12_RNA_by_replicate.vcf'\n",
    "\n",
    "fin = open(vcfin, 'r')\n",
    "fout = open(vcfout, 'w')\n",
    "\n",
    "ln = 0\n",
    "for l in fin:\n",
    "    if l.startswith('##'):\n",
    "        fout.write(l)\n",
    "        continue\n",
    "        \n",
    "    if l.startswith('#CHROM'):\n",
    "        new_l = reformat_header(l)\n",
    "        fout.write(new_l)\n",
    "        continue\n",
    "    \n",
    "    new_l = reformat_line(l)\n",
    "    fout.write(new_l)\n",
    "    \n",
    "#     if ln > 50:\n",
    "#         break\n",
    "#     ln = ln + 1\n",
    "\n",
    "\n",
    "fin.close()\n",
    "fout.close()"
   ]
  },
  {
   "cell_type": "code",
   "execution_count": null,
   "metadata": {},
   "outputs": [],
   "source": []
  }
 ],
 "metadata": {
  "kernelspec": {
   "display_name": "Python 3",
   "language": "python",
   "name": "python3"
  },
  "language_info": {
   "codemirror_mode": {
    "name": "ipython",
    "version": 3
   },
   "file_extension": ".py",
   "mimetype": "text/x-python",
   "name": "python",
   "nbconvert_exporter": "python",
   "pygments_lexer": "ipython3",
   "version": "3.7.3"
  }
 },
 "nbformat": 4,
 "nbformat_minor": 4
}
