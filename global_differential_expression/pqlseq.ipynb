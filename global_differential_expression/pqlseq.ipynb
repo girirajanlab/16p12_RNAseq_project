{
 "cells": [
  {
   "cell_type": "code",
   "execution_count": 1,
   "metadata": {},
   "outputs": [],
   "source": [
    "library(PQLseq)"
   ]
  },
  {
   "cell_type": "code",
   "execution_count": 2,
   "metadata": {},
   "outputs": [],
   "source": [
    "fam = read.table('../gemma/plink_files/16p12_RNA_by_rep.fam', sep=' ')"
   ]
  },
  {
   "cell_type": "code",
   "execution_count": 3,
   "metadata": {},
   "outputs": [],
   "source": [
    "pheno = read.table('../16p12.2_rnaseq_analysis/data/pheno_final.tsv', \n",
    "                   sep='\\t', header=TRUE, stringsAsFactors = F)\n",
    "rownames(pheno) = pheno$samp"
   ]
  },
  {
   "cell_type": "code",
   "execution_count": 4,
   "metadata": {},
   "outputs": [],
   "source": [
    "counts = read.table('../16p12.2_rnaseq_analysis/data/16p12_lcl_gene_reads_underscores.gct',\n",
    "                   sep='\\t', header=T)\n",
    "rownames(counts) = counts$Name\n",
    "counts$Name = NULL\n",
    "\n",
    "gencode2ensembl = function(s) {\n",
    "    return(strsplit(s, '.', fixed=T)[[1]][1])\n",
    "}\n",
    "simple_sample = function(s) {\n",
    "    sn = strsplit(s, '_', fixed=T)[[1]]\n",
    "    sn = sn[length(sn)]\n",
    "    return(sn)\n",
    "}\n",
    "\n",
    "rownames(counts) = unlist(lapply(rownames(counts), gencode2ensembl))\n",
    "colnames(counts) = unlist(lapply(colnames(counts), simple_sample))"
   ]
  },
  {
   "cell_type": "code",
   "execution_count": 5,
   "metadata": {},
   "outputs": [],
   "source": [
    "kinship = read.table('../gemma/output/relatedness_matrix_by_replicate.cXX.txt', sep='\\t')\n",
    "colnames(kinship) = fam$V2\n",
    "rownames(kinship) = fam$V2"
   ]
  },
  {
   "cell_type": "raw",
   "metadata": {},
   "source": [
    "# make sure sample order is same everywhere"
   ]
  },
  {
   "cell_type": "code",
   "execution_count": 7,
   "metadata": {},
   "outputs": [],
   "source": [
    "samps = colnames(counts)\n",
    "\n",
    "pheno = pheno[samps,]\n",
    "counts = counts[, samps]\n",
    "kinship = kinship[samps, samps]\n",
    "\n",
    "status = pheno$status3\n",
    "status = as.numeric(as.factor(status))\n",
    "status = 2 - status"
   ]
  },
  {
   "cell_type": "code",
   "execution_count": 9,
   "metadata": {},
   "outputs": [
    {
     "name": "stdout",
     "output_type": "stream",
     "text": [
      "## number of total individuals:  96 \n",
      "## number of total genes/sites:  38062 \n",
      "## number of adjusted covariates:  0 \n"
     ]
    },
    {
     "name": "stderr",
     "output_type": "stream",
     "text": [
      "Warning message in pqlseq(RawCountDataSet = counts, Phenotypes = status, RelatednessMatrix = kinship, :\n",
      "“PQLseq::the relatedness matrix is singular, it has been modified!”\n"
     ]
    },
    {
     "ename": "ERROR",
     "evalue": "Error in isOpen(con): invalid connection\n",
     "output_type": "error",
     "traceback": [
      "Error in isOpen(con): invalid connection\nTraceback:\n"
     ]
    }
   ],
   "source": [
    "fit = pqlseq(RawCountDataSet=counts, \n",
    "             Phenotypes=status, \n",
    "             RelatednessMatrix=kinship,\n",
    "             fit.model=\"PMM\")"
   ]
  },
  {
   "cell_type": "code",
   "execution_count": 11,
   "metadata": {},
   "outputs": [],
   "source": [
    "write.table(fit, 'pqlseq_by_replicate.tsv', sep='\\t')"
   ]
  },
  {
   "cell_type": "code",
   "execution_count": null,
   "metadata": {},
   "outputs": [],
   "source": []
  }
 ],
 "metadata": {
  "kernelspec": {
   "display_name": "R",
   "language": "R",
   "name": "ir"
  },
  "language_info": {
   "codemirror_mode": "r",
   "file_extension": ".r",
   "mimetype": "text/x-r-source",
   "name": "R",
   "pygments_lexer": "r",
   "version": "3.6.3"
  }
 },
 "nbformat": 4,
 "nbformat_minor": 4
}
