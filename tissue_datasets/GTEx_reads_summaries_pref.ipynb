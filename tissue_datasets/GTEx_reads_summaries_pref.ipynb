{
 "cells": [
  {
   "cell_type": "code",
   "execution_count": 11,
   "metadata": {},
   "outputs": [],
   "source": [
    "import pandas as pd\n",
    "\n",
    "import seaborn as sns\n",
    "import matplotlib.pyplot as plt\n",
    "import numpy as np\n",
    "pd.set_option('max_columns', 100)"
   ]
  },
  {
   "cell_type": "code",
   "execution_count": 12,
   "metadata": {},
   "outputs": [],
   "source": [
    "mapping_filename        = '../data/gene_names_mapping_new.tsv'\n",
    "gtex_reads_filename       = '/data5/16p12_RNA/GTEx/data/GTEx_Analysis_2016-01-15_v7_RNASeQCv1.1.8_gene_reads.gct'\n",
    "gtex_tpm_filename       = '/data5/16p12_RNA/GTEx/data/GTEx_Analysis_2016-01-15_v7_RNASeQCv1.1.8_gene_tpm.gct'\n",
    "gtex_sample_info_filename = '/data5/16p12_RNA/GTEx/data/GTEx_v7_Annotations_SampleAttributesDS.txt'\n",
    "\n"
   ]
  },
  {
   "cell_type": "code",
   "execution_count": 3,
   "metadata": {},
   "outputs": [
    {
     "name": "stderr",
     "output_type": "stream",
     "text": [
      "/usr/local/lib/python3.7/dist-packages/IPython/core/interactiveshell.py:3058: DtypeWarning: Columns (5) have mixed types.Specify dtype option on import or set low_memory=False.\n",
      "  interactivity=interactivity, compiler=compiler, result=result)\n"
     ]
    },
    {
     "data": {
      "text/plain": [
       "['SMTS', 'SMTSD']"
      ]
     },
     "execution_count": 3,
     "metadata": {},
     "output_type": "execute_result"
    }
   ],
   "source": [
    "mapp   = pd.read_csv(mapping_filename, sep='\\t', index_col='ensembl')\n",
    "gpheno = pd.read_csv(gtex_sample_info_filename, sep='\\t')\n",
    "gpheno = gpheno.set_index('SAMPID', drop=False)\n",
    "['SMTS', 'SMTSD']"
   ]
  },
  {
   "cell_type": "code",
   "execution_count": 4,
   "metadata": {},
   "outputs": [],
   "source": [
    "greads = pd.read_csv(gtex_reads_filename, sep='\\t', skiprows=2)\n",
    "greads_backup = greads.copy()"
   ]
  },
  {
   "cell_type": "code",
   "execution_count": 5,
   "metadata": {},
   "outputs": [],
   "source": [
    "gtpm = pd.read_csv(gtex_tpm_filename, sep='\\t', skiprows=2)\n",
    "gtpm_backup = gtpm.copy()"
   ]
  },
  {
   "cell_type": "code",
   "execution_count": 6,
   "metadata": {},
   "outputs": [],
   "source": [
    "greads = greads_backup.copy()\n",
    "gtpm = gtpm_backup.copy()"
   ]
  },
  {
   "cell_type": "code",
   "execution_count": 7,
   "metadata": {},
   "outputs": [],
   "source": [
    "def strip_gencode(s):\n",
    "    return s.split('.')[0]\n",
    "greads = greads.set_index(greads.Name.apply(strip_gencode))\n",
    "greads = greads.drop('Name', axis=1)\n",
    "greads = greads.drop('Description', axis=1)"
   ]
  },
  {
   "cell_type": "code",
   "execution_count": 8,
   "metadata": {},
   "outputs": [],
   "source": [
    "def strip_gencode(s):\n",
    "    return s.split('.')[0]\n",
    "gtpm = gtpm.set_index(gtpm.Name.apply(strip_gencode))\n",
    "gtpm = gtpm.drop('Name', axis=1)\n",
    "gtpm = gtpm.drop('Description', axis=1)"
   ]
  },
  {
   "cell_type": "code",
   "execution_count": 9,
   "metadata": {},
   "outputs": [],
   "source": [
    "greads.columns = gpheno.loc[greads.columns, 'SMTSD']\n",
    "gtpm.columns = gpheno.loc[gtpm.columns, 'SMTSD']"
   ]
  },
  {
   "cell_type": "code",
   "execution_count": 10,
   "metadata": {},
   "outputs": [],
   "source": [
    "df = mapp.copy()\n",
    "df = df[[]]\n",
    "for s in greads.columns.unique():\n",
    "    df[s] = '.'"
   ]
  },
  {
   "cell_type": "code",
   "execution_count": 14,
   "metadata": {},
   "outputs": [],
   "source": [
    "# create tpm by tissue\n",
    "\n",
    "tpm_by_tissue = pd.DataFrame()\n",
    "\n",
    "for s in list(set(gtpm.columns)):\n",
    "    tpm_by_tissue[s] = gtpm[s].T.median()"
   ]
  },
  {
   "cell_type": "code",
   "execution_count": 17,
   "metadata": {},
   "outputs": [],
   "source": [
    "summ = pd.DataFrame(index=tpm_by_tissue.index)\n",
    "summ['median'] = 0\n",
    "summ['mean'] = 0\n",
    "summ['std'] = 0\n",
    "\n",
    "for gene in summ.index:\n",
    "    summ.loc[gene, 'median'] = tpm_by_tissue.loc[gene].median()\n",
    "    summ.loc[gene, 'mean'] = tpm_by_tissue.loc[gene].mean()\n",
    "    summ.loc[gene, 'std'] = tpm_by_tissue.loc[gene].std()"
   ]
  },
  {
   "cell_type": "code",
   "execution_count": 19,
   "metadata": {},
   "outputs": [],
   "source": [
    "def is_enriched_in_tissue(tpm, std_gene, med_gene):\n",
    "    if tpm > med_gene + 2* std_gene:\n",
    "        return True\n",
    "    return False\n",
    "\n",
    "\n",
    "summ['enriched_tissues'] = '.'\n",
    "\n",
    "for gene in summ.index:\n",
    "    std_gene = summ.loc[gene, 'std']\n",
    "    med_gene = summ.loc[gene, 'median']\n",
    "    enrichements =  tpm_by_tissue.loc[gene].apply(is_enriched_in_tissue, std_gene=std_gene, med_gene=med_gene)\n",
    "    enrichements = enrichements[enrichements].index.tolist()\n",
    "\n",
    "    enrichements = ';'.join(enrichements)\n",
    "    summ.at[gene, 'enriched_tissues'] = enrichements"
   ]
  },
  {
   "cell_type": "code",
   "execution_count": 21,
   "metadata": {},
   "outputs": [],
   "source": [
    "summ.to_csv('gtex_preferential_tissue_enrichment.tsv', sep='\\t', index=True)"
   ]
  },
  {
   "cell_type": "code",
   "execution_count": null,
   "metadata": {},
   "outputs": [],
   "source": []
  }
 ],
 "metadata": {
  "kernelspec": {
   "display_name": "Python 3",
   "language": "python",
   "name": "python3"
  },
  "language_info": {
   "codemirror_mode": {
    "name": "ipython",
    "version": 3
   },
   "file_extension": ".py",
   "mimetype": "text/x-python",
   "name": "python",
   "nbconvert_exporter": "python",
   "pygments_lexer": "ipython3",
   "version": "3.7.3"
  }
 },
 "nbformat": 4,
 "nbformat_minor": 4
}
