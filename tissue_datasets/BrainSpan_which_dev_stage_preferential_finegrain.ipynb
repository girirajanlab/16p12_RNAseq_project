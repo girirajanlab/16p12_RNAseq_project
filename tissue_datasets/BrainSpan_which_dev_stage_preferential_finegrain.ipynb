{
 "cells": [
  {
   "cell_type": "code",
   "execution_count": 2,
   "metadata": {},
   "outputs": [],
   "source": [
    "import seaborn as sns\n",
    "import matplotlib.pyplot as plt\n",
    "import pandas as pd\n",
    "from sklearn.preprocessing import scale\n",
    "from scipy.cluster.hierarchy import linkage, leaves_list\n",
    "\n",
    "import seaborn as sns\n",
    "import matplotlib.pyplot as plt\n",
    "import numpy as np\n",
    "\n",
    "pd.set_option('display.max_columns', 500)"
   ]
  },
  {
   "cell_type": "code",
   "execution_count": 3,
   "metadata": {},
   "outputs": [
    {
     "name": "stderr",
     "output_type": "stream",
     "text": [
      "/usr/local/lib/python3.7/dist-packages/IPython/core/interactiveshell.py:3058: DtypeWarning: Columns (5) have mixed types.Specify dtype option on import or set low_memory=False.\n",
      "  interactivity=interactivity, compiler=compiler, result=result)\n"
     ]
    }
   ],
   "source": [
    "mapp     = pd.read_csv('../data/gene_names_mapping_new.tsv', sep='\\t', index_col='ensembl')\n",
    "bspheno  = pd.read_csv('../data/BrainSpan/columns_metadata.csv', sep='\\t')\n",
    "bsrows   = pd.read_csv('../data/BrainSpan/rows_metadata.csv', sep=',')\n",
    "rpkm     = pd.read_csv('../data/BrainSpan/expression_matrix.csv', sep=',', header=None)"
   ]
  },
  {
   "cell_type": "code",
   "execution_count": 4,
   "metadata": {},
   "outputs": [],
   "source": [
    "rpkm.index = bsrows.ensembl_gene_id\n",
    "rpkm = rpkm.drop(0, axis=1)\n",
    "\n",
    "bspheno = bspheno.set_index('column_num', drop=False)"
   ]
  },
  {
   "cell_type": "markdown",
   "metadata": {},
   "source": [
    "# define minor epochs "
   ]
  },
  {
   "cell_type": "markdown",
   "metadata": {},
   "source": [
    "8≤ Age <10 PCW Early fetal \n",
    "\n",
    "10≤ Age <13 PCW Early fetal \n",
    "\n",
    "13≤ Age <16 PCW Early mid-fetal \n",
    "\n",
    "16≤ Age <19 PCW Early mid-fetal \n",
    "\n",
    "24≤ Age <38 PCW Late fetal \n",
    "\n",
    "Birth≤ Age <6 Postnatal months (M) Neonatal and early infancy \n",
    "\n",
    "6 M≤ Age <1 Year (Y) Late infancy \n",
    "\n",
    "1≤ Age <6 Y Early childhood \n",
    "\n",
    "6≤ Age <12 Y Middle and late childhood \n",
    "\n",
    "12≤ Age <20 Y Adolescence \n",
    "\n",
    "20≤ Age <40 Y Young adulthood \n",
    "\n",
    "40≤ Age <60 Y Middle adulthood"
   ]
  },
  {
   "cell_type": "code",
   "execution_count": 5,
   "metadata": {},
   "outputs": [],
   "source": [
    "def to_minor_epoch(age):\n",
    "    if age.endswith('pcw'):\n",
    "        s = age[:-4]\n",
    "        s = int(s)\n",
    "        if 8 <= s and s < 10:\n",
    "            return 'early fetal'\n",
    "        if 10 <= s and s < 13:\n",
    "            return 'early fetal'\n",
    "        if 13 <= s and s < 16:\n",
    "            return 'early mid-fetal'\n",
    "        if 16 <= s and s < 19:\n",
    "            return 'early mid-fetal'\n",
    "        if 19 <= s and s < 24:\n",
    "            return 'late mid-fetal'\n",
    "        if 24 <= s and s < 38:\n",
    "            return 'late fetal'\n",
    "    if age.endswith('mos'):\n",
    "        s = age[:-4]\n",
    "        s = int(s)\n",
    "        if s < 6:\n",
    "            return 'early infancy'\n",
    "        if 6 <= s and s < 12:\n",
    "            return 'late infancy'\n",
    "    if age.endswith('yrs'):\n",
    "        s = age[:-4]\n",
    "        s = int(s)\n",
    "        if 1 <= s and s < 6:\n",
    "            return 'early childhood'\n",
    "        if 6 <= s and s < 12:\n",
    "            return 'middle and late childhood'\n",
    "        if 12 <= s and s < 20:\n",
    "            return 'adolescence'\n",
    "        if 20 <= s and s < 40:\n",
    "            return 'young adulthood'\n",
    "        if 40 <= s and s < 60:\n",
    "            return 'middle adulthood'\n",
    "    return age\n",
    "\n",
    "bspheno['minor epoch'] = bspheno.age.apply(lambda s: to_minor_epoch(s))"
   ]
  },
  {
   "cell_type": "code",
   "execution_count": 6,
   "metadata": {},
   "outputs": [],
   "source": [
    "adult_fetal_region_map = {\n",
    "    'cerebellum': [ 'CB', 'URL', 'CBC' ],\n",
    "    'hippocampus': ['HIP'],\n",
    "    'amygdala': ['AMY'],\n",
    "    'striatum': ['STR','MGE', 'LGE', 'CGE'],\n",
    "    'thalamus': ['DTH', 'MD'],\n",
    "    'medial frontal cortex': ['MFC'],\n",
    "    'orbitofrontal cortex': ['OFC'],\n",
    "    'dorsolateral frontal cortex' : ['DFC'],\n",
    "    'ventrolateral frontal cortex' : ['VFC'],\n",
    "    'primary motor cortex': ['M1C', 'M1C-S1C', 'PCx'],\n",
    "    'primary somatosensory cortex': ['S1C', 'M1C-S1C', 'PCx'],\n",
    "    'inferior parietal cortex': ['IPC', 'PCx'],\n",
    "    'primary auditory cortex': ['A1C', 'TCx'],\n",
    "    'superior temporal cortex': ['STC', 'TCx'],\n",
    "    'inferior temporal cortex': ['ITC', 'TCx'],\n",
    "    'primary visual cortex': ['V1C', 'Ocx'],   \n",
    "}"
   ]
  },
  {
   "cell_type": "code",
   "execution_count": 7,
   "metadata": {},
   "outputs": [],
   "source": [
    "periods = list(bspheno['minor epoch'].unique())\n",
    "\n",
    "df = rpkm.copy()\n",
    "df = df[[]]\n",
    "for t in adult_fetal_region_map:\n",
    "    for s in periods:\n",
    "        df['{} {}'.format(t, s)] = '.'"
   ]
  },
  {
   "cell_type": "code",
   "execution_count": 8,
   "metadata": {
    "collapsed": true,
    "jupyter": {
     "outputs_hidden": true
    }
   },
   "outputs": [
    {
     "name": "stdout",
     "output_type": "stream",
     "text": [
      "cerebellum early fetal 4\n",
      "cerebellum early mid-fetal 4\n",
      "cerebellum late mid-fetal 2\n",
      "cerebellum late fetal 3\n",
      "cerebellum early infancy 2\n",
      "cerebellum late infancy 1\n",
      "cerebellum early childhood 5\n",
      "cerebellum middle and late childhood 3\n",
      "cerebellum adolescence 4\n",
      "cerebellum young adulthood 5\n",
      "cerebellum middle adulthood 1\n",
      "hippocampus early fetal 5\n",
      "hippocampus early mid-fetal 6\n",
      "hippocampus late mid-fetal 2\n",
      "hippocampus late fetal 2\n",
      "hippocampus early infancy 2\n",
      "hippocampus late infancy 0\n",
      "hippocampus early childhood 3\n",
      "hippocampus middle and late childhood 3\n",
      "hippocampus adolescence 3\n",
      "hippocampus young adulthood 5\n",
      "hippocampus middle adulthood 1\n",
      "amygdala early fetal 5\n",
      "amygdala early mid-fetal 6\n",
      "amygdala late mid-fetal 1\n",
      "amygdala late fetal 2\n",
      "amygdala early infancy 3\n",
      "amygdala late infancy 0\n",
      "amygdala early childhood 4\n",
      "amygdala middle and late childhood 3\n",
      "amygdala adolescence 3\n",
      "amygdala young adulthood 5\n",
      "amygdala middle adulthood 1\n",
      "striatum early fetal 9\n",
      "striatum early mid-fetal 7\n",
      "striatum late mid-fetal 2\n",
      "striatum late fetal 2\n",
      "striatum early infancy 2\n",
      "striatum late infancy 0\n",
      "striatum early childhood 3\n",
      "striatum middle and late childhood 1\n",
      "striatum adolescence 2\n",
      "striatum young adulthood 5\n",
      "striatum middle adulthood 1\n",
      "thalamus early fetal 5\n",
      "thalamus early mid-fetal 5\n",
      "thalamus late mid-fetal 1\n",
      "thalamus late fetal 2\n",
      "thalamus early infancy 2\n",
      "thalamus late infancy 1\n",
      "thalamus early childhood 4\n",
      "thalamus middle and late childhood 1\n",
      "thalamus adolescence 2\n",
      "thalamus young adulthood 5\n",
      "thalamus middle adulthood 1\n",
      "medial frontal cortex early fetal 4\n",
      "medial frontal cortex early mid-fetal 7\n",
      "medial frontal cortex late mid-fetal 2\n",
      "medial frontal cortex late fetal 2\n",
      "medial frontal cortex early infancy 2\n",
      "medial frontal cortex late infancy 1\n",
      "medial frontal cortex early childhood 3\n",
      "medial frontal cortex middle and late childhood 3\n",
      "medial frontal cortex adolescence 3\n",
      "medial frontal cortex young adulthood 5\n",
      "medial frontal cortex middle adulthood 0\n",
      "orbitofrontal cortex early fetal 5\n",
      "orbitofrontal cortex early mid-fetal 6\n",
      "orbitofrontal cortex late mid-fetal 1\n",
      "orbitofrontal cortex late fetal 2\n",
      "orbitofrontal cortex early infancy 2\n",
      "orbitofrontal cortex late infancy 1\n",
      "orbitofrontal cortex early childhood 3\n",
      "orbitofrontal cortex middle and late childhood 2\n",
      "orbitofrontal cortex adolescence 3\n",
      "orbitofrontal cortex young adulthood 5\n",
      "orbitofrontal cortex middle adulthood 1\n",
      "dorsolateral frontal cortex early fetal 5\n",
      "dorsolateral frontal cortex early mid-fetal 7\n",
      "dorsolateral frontal cortex late mid-fetal 2\n",
      "dorsolateral frontal cortex late fetal 3\n",
      "dorsolateral frontal cortex early infancy 2\n",
      "dorsolateral frontal cortex late infancy 1\n",
      "dorsolateral frontal cortex early childhood 4\n",
      "dorsolateral frontal cortex middle and late childhood 3\n",
      "dorsolateral frontal cortex adolescence 3\n",
      "dorsolateral frontal cortex young adulthood 4\n",
      "dorsolateral frontal cortex middle adulthood 1\n",
      "ventrolateral frontal cortex early fetal 4\n",
      "ventrolateral frontal cortex early mid-fetal 7\n",
      "ventrolateral frontal cortex late mid-fetal 2\n",
      "ventrolateral frontal cortex late fetal 3\n",
      "ventrolateral frontal cortex early infancy 2\n",
      "ventrolateral frontal cortex late infancy 0\n",
      "ventrolateral frontal cortex early childhood 5\n",
      "ventrolateral frontal cortex middle and late childhood 3\n",
      "ventrolateral frontal cortex adolescence 3\n",
      "ventrolateral frontal cortex young adulthood 5\n",
      "ventrolateral frontal cortex middle adulthood 1\n",
      "primary motor cortex early fetal 7\n",
      "primary motor cortex early mid-fetal 6\n",
      "primary motor cortex late mid-fetal 2\n",
      "primary motor cortex late fetal 2\n",
      "primary motor cortex early infancy 2\n",
      "primary motor cortex late infancy 0\n",
      "primary motor cortex early childhood 3\n",
      "primary motor cortex middle and late childhood 2\n",
      "primary motor cortex adolescence 3\n",
      "primary motor cortex young adulthood 5\n",
      "primary motor cortex middle adulthood 1\n",
      "primary somatosensory cortex early fetal 7\n",
      "primary somatosensory cortex early mid-fetal 6\n",
      "primary somatosensory cortex late mid-fetal 2\n",
      "primary somatosensory cortex late fetal 2\n",
      "primary somatosensory cortex early infancy 1\n",
      "primary somatosensory cortex late infancy 1\n",
      "primary somatosensory cortex early childhood 3\n",
      "primary somatosensory cortex middle and late childhood 2\n",
      "primary somatosensory cortex adolescence 3\n",
      "primary somatosensory cortex young adulthood 5\n",
      "primary somatosensory cortex middle adulthood 1\n",
      "inferior parietal cortex early fetal 5\n",
      "inferior parietal cortex early mid-fetal 7\n",
      "inferior parietal cortex late mid-fetal 2\n",
      "inferior parietal cortex late fetal 2\n",
      "inferior parietal cortex early infancy 1\n",
      "inferior parietal cortex late infancy 1\n",
      "inferior parietal cortex early childhood 4\n",
      "inferior parietal cortex middle and late childhood 3\n",
      "inferior parietal cortex adolescence 4\n",
      "inferior parietal cortex young adulthood 5\n",
      "inferior parietal cortex middle adulthood 1\n",
      "primary auditory cortex early fetal 4\n",
      "primary auditory cortex early mid-fetal 7\n",
      "primary auditory cortex late mid-fetal 1\n",
      "primary auditory cortex late fetal 3\n",
      "primary auditory cortex early infancy 2\n",
      "primary auditory cortex late infancy 0\n",
      "primary auditory cortex early childhood 3\n",
      "primary auditory cortex middle and late childhood 3\n",
      "primary auditory cortex adolescence 3\n",
      "primary auditory cortex young adulthood 5\n",
      "primary auditory cortex middle adulthood 1\n",
      "superior temporal cortex early fetal 4\n",
      "superior temporal cortex early mid-fetal 6\n",
      "superior temporal cortex late mid-fetal 2\n",
      "superior temporal cortex late fetal 3\n",
      "superior temporal cortex early infancy 3\n",
      "superior temporal cortex late infancy 1\n",
      "superior temporal cortex early childhood 5\n",
      "superior temporal cortex middle and late childhood 3\n",
      "superior temporal cortex adolescence 4\n",
      "superior temporal cortex young adulthood 5\n",
      "superior temporal cortex middle adulthood 1\n",
      "inferior temporal cortex early fetal 5\n",
      "inferior temporal cortex early mid-fetal 5\n",
      "inferior temporal cortex late mid-fetal 2\n",
      "inferior temporal cortex late fetal 2\n",
      "inferior temporal cortex early infancy 3\n",
      "inferior temporal cortex late infancy 1\n",
      "inferior temporal cortex early childhood 4\n",
      "inferior temporal cortex middle and late childhood 3\n",
      "inferior temporal cortex adolescence 4\n",
      "inferior temporal cortex young adulthood 5\n",
      "inferior temporal cortex middle adulthood 1\n",
      "primary visual cortex early fetal 5\n",
      "primary visual cortex early mid-fetal 7\n",
      "primary visual cortex late mid-fetal 2\n",
      "primary visual cortex late fetal 3\n",
      "primary visual cortex early infancy 2\n",
      "primary visual cortex late infancy 1\n",
      "primary visual cortex early childhood 4\n",
      "primary visual cortex middle and late childhood 3\n",
      "primary visual cortex adolescence 3\n",
      "primary visual cortex young adulthood 4\n",
      "primary visual cortex middle adulthood 1\n"
     ]
    }
   ],
   "source": [
    "for tissue in adult_fetal_region_map:\n",
    "    for period in periods:\n",
    "        samples = bspheno[(bspheno['minor epoch'] == period) & (bspheno.structure_acronym.isin(adult_fetal_region_map[tissue]))].index\n",
    "        tp_rpkm = rpkm[samples]\n",
    "        print(tissue, period, tp_rpkm.shape[1])\n",
    "        df['{} {}'.format(tissue, period)] = tp_rpkm.T.median()"
   ]
  },
  {
   "cell_type": "code",
   "execution_count": 9,
   "metadata": {},
   "outputs": [],
   "source": [
    "summ = pd.DataFrame(index=rpkm.index)\n",
    "summ['median'] = 0\n",
    "summ['mean'] = 0\n",
    "summ['std'] = 0\n",
    "\n",
    "for gene in summ.index:\n",
    "    summ.loc[gene, 'median'] = df.loc[gene].median()\n",
    "    summ.loc[gene, 'mean'] = df.loc[gene].mean()\n",
    "    summ.loc[gene, 'std'] = df.loc[gene].std()"
   ]
  },
  {
   "cell_type": "code",
   "execution_count": 10,
   "metadata": {},
   "outputs": [],
   "source": [
    "def is_enriched_in_tissue(tpm, std_gene, med_gene):\n",
    "    if tpm > med_gene + 2* std_gene:\n",
    "#         print(tpm, std_gene, med_gene)\n",
    "        return True\n",
    "    return False\n",
    "\n",
    "\n",
    "summ['enriched_tissues'] = '.'\n",
    "\n",
    "for gene in summ.index:\n",
    "    std_gene = summ.loc[gene, 'std']\n",
    "    med_gene = summ.loc[gene, 'median']\n",
    "    enrichements =  df.loc[gene].apply(is_enriched_in_tissue, std_gene=std_gene, med_gene=med_gene)\n",
    "    enrichements = enrichements[enrichements].index.tolist()\n",
    "#     print(gene, std_gene, med_gene, len(enrichements))\n",
    "\n",
    "    enrichements = ';'.join(enrichements)\n",
    "    summ.at[gene, 'enriched_tissues'] = enrichements"
   ]
  },
  {
   "cell_type": "code",
   "execution_count": 14,
   "metadata": {},
   "outputs": [],
   "source": [
    "summ.index.name = 'ensembl'"
   ]
  },
  {
   "cell_type": "code",
   "execution_count": 15,
   "metadata": {},
   "outputs": [],
   "source": [
    "summ.to_csv('brainspan_preferential_tissue_enrichment.tsv', sep='\\t', index=True)"
   ]
  },
  {
   "cell_type": "code",
   "execution_count": null,
   "metadata": {},
   "outputs": [],
   "source": []
  },
  {
   "cell_type": "code",
   "execution_count": 14,
   "metadata": {},
   "outputs": [],
   "source": [
    "df2 = df.copy()\n",
    "for col in df2.columns:\n",
    "    df2[col] = 0"
   ]
  },
  {
   "cell_type": "code",
   "execution_count": 15,
   "metadata": {},
   "outputs": [],
   "source": [
    "for gene in summ.index[:]:\n",
    "    tissues = summ.at[gene, 'enriched_tissues']\n",
    "    tissues = tissues.split(',')\n",
    "    for tissue in tissues:\n",
    "        df2.at[gene, tissue] = 1\n"
   ]
  },
  {
   "cell_type": "code",
   "execution_count": 16,
   "metadata": {},
   "outputs": [],
   "source": [
    "df2.index.Name = 'ensembl'"
   ]
  },
  {
   "cell_type": "code",
   "execution_count": 18,
   "metadata": {},
   "outputs": [],
   "source": [
    "df2 = df2.drop('', axis=1)"
   ]
  },
  {
   "cell_type": "code",
   "execution_count": 19,
   "metadata": {},
   "outputs": [],
   "source": [
    "df2.to_csv('brainspan_preferential_tissue_expression_minor_epoch.tsv', sep='\\t')"
   ]
  },
  {
   "cell_type": "code",
   "execution_count": null,
   "metadata": {},
   "outputs": [],
   "source": []
  },
  {
   "cell_type": "code",
   "execution_count": null,
   "metadata": {},
   "outputs": [],
   "source": []
  },
  {
   "cell_type": "code",
   "execution_count": null,
   "metadata": {},
   "outputs": [],
   "source": []
  }
 ],
 "metadata": {
  "kernelspec": {
   "display_name": "Python 3",
   "language": "python",
   "name": "python3"
  },
  "language_info": {
   "codemirror_mode": {
    "name": "ipython",
    "version": 3
   },
   "file_extension": ".py",
   "mimetype": "text/x-python",
   "name": "python",
   "nbconvert_exporter": "python",
   "pygments_lexer": "ipython3",
   "version": "3.7.3"
  }
 },
 "nbformat": 4,
 "nbformat_minor": 4
}
